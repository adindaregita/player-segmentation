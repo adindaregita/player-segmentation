{
 "cells": [
  {
   "cell_type": "code",
   "execution_count": 2,
   "id": "4e44d388",
   "metadata": {},
   "outputs": [
    {
     "name": "stderr",
     "output_type": "stream",
     "text": [
      "/var/folders/kh/7d1scz1n2f7gnm2sy2q4rgs00000gn/T/ipykernel_13405/740644985.py:25: FutureWarning: The behavior of DataFrame concatenation with empty or all-NA entries is deprecated. In a future version, this will no longer exclude empty or all-NA columns when determining the result dtypes. To retain the old behavior, exclude the relevant entries before the concat operation.\n",
      "  combined_df = pd.concat(dataframes, ignore_index=True)\n"
     ]
    }
   ],
   "source": [
    "import pandas as pd\n",
    "import glob\n",
    "import os\n",
    "\n",
    "# Tentukan path folder\n",
    "folder1 = 'Dataset'\n",
    "folder2 = 'OutputData'\n",
    "\n",
    "# Ambil semua file csv dari kedua folder\n",
    "csv_files_folder1 = glob.glob(os.path.join(folder1, '*.csv'))\n",
    "csv_files_folder2 = glob.glob(os.path.join(folder2, '*.csv'))\n",
    "\n",
    "# Gabungkan semua path csv ke dalam satu list\n",
    "all_csv_files = csv_files_folder1 + csv_files_folder2\n",
    "\n",
    "# Buat list untuk menampung DataFrame sementara\n",
    "dataframes = []\n",
    "\n",
    "# Baca dan gabungkan semua csv\n",
    "for file in all_csv_files:\n",
    "    df = pd.read_csv(file)\n",
    "    dataframes.append(df)\n",
    "\n",
    "# Gabungkan semua DataFrame jadi satu\n",
    "combined_df = pd.concat(dataframes, ignore_index=True)\n",
    "\n",
    "# Simpan ke file CSV baru (opsional)\n",
    "combined_df.to_csv('combined_output.csv', index=False)\n"
   ]
  },
  {
   "cell_type": "code",
   "execution_count": 7,
   "id": "d3924223",
   "metadata": {},
   "outputs": [
    {
     "data": {
      "text/plain": [
       "(103206, 7)"
      ]
     },
     "execution_count": 7,
     "metadata": {},
     "output_type": "execute_result"
    }
   ],
   "source": [
    "combined_df.shape\n"
   ]
  },
  {
   "cell_type": "code",
   "execution_count": 9,
   "id": "7e653f42",
   "metadata": {},
   "outputs": [
    {
     "data": {
      "text/html": [
       "<div>\n",
       "<style scoped>\n",
       "    .dataframe tbody tr th:only-of-type {\n",
       "        vertical-align: middle;\n",
       "    }\n",
       "\n",
       "    .dataframe tbody tr th {\n",
       "        vertical-align: top;\n",
       "    }\n",
       "\n",
       "    .dataframe thead th {\n",
       "        text-align: right;\n",
       "    }\n",
       "</style>\n",
       "<table border=\"1\" class=\"dataframe\">\n",
       "  <thead>\n",
       "    <tr style=\"text-align: right;\">\n",
       "      <th></th>\n",
       "      <th>Steam ID</th>\n",
       "      <th>App ID</th>\n",
       "      <th>Game Name</th>\n",
       "      <th>Playtime (hours)</th>\n",
       "      <th>Genres</th>\n",
       "      <th>Achievements</th>\n",
       "      <th>Reviews</th>\n",
       "    </tr>\n",
       "  </thead>\n",
       "  <tbody>\n",
       "    <tr>\n",
       "      <th>0</th>\n",
       "      <td>76561198881119093</td>\n",
       "      <td>20</td>\n",
       "      <td>Team Fortress Classic</td>\n",
       "      <td>0.316667</td>\n",
       "      <td>Action</td>\n",
       "      <td>0</td>\n",
       "      <td>solo puedo decir wow este juego es increible p...</td>\n",
       "    </tr>\n",
       "    <tr>\n",
       "      <th>1</th>\n",
       "      <td>76561198881119093</td>\n",
       "      <td>50</td>\n",
       "      <td>Half-Life: Opposing Force</td>\n",
       "      <td>7.600000</td>\n",
       "      <td>Action</td>\n",
       "      <td>0</td>\n",
       "      <td>[h2]Half-Life: Opposing Force — гра для терпля...</td>\n",
       "    </tr>\n",
       "    <tr>\n",
       "      <th>2</th>\n",
       "      <td>76561198881119093</td>\n",
       "      <td>70</td>\n",
       "      <td>Half-Life</td>\n",
       "      <td>18.166667</td>\n",
       "      <td>Action</td>\n",
       "      <td>0</td>\n",
       "      <td>[hr][/hr]\\n[h1] Так, Салаги, доки поряд літают...</td>\n",
       "    </tr>\n",
       "    <tr>\n",
       "      <th>3</th>\n",
       "      <td>76561198881119093</td>\n",
       "      <td>130</td>\n",
       "      <td>Half-Life: Blue Shift</td>\n",
       "      <td>2.783333</td>\n",
       "      <td>Action</td>\n",
       "      <td>0</td>\n",
       "      <td>Half-Life: Blue Shift — це невеличкий, але дуж...</td>\n",
       "    </tr>\n",
       "    <tr>\n",
       "      <th>4</th>\n",
       "      <td>76561198881119093</td>\n",
       "      <td>220</td>\n",
       "      <td>Half-Life 2</td>\n",
       "      <td>20.550000</td>\n",
       "      <td>Action</td>\n",
       "      <td>35</td>\n",
       "      <td>A monumental game in my gaming career, Half-Li...</td>\n",
       "    </tr>\n",
       "  </tbody>\n",
       "</table>\n",
       "</div>"
      ],
      "text/plain": [
       "            Steam ID App ID                  Game Name  Playtime (hours)  \\\n",
       "0  76561198881119093     20      Team Fortress Classic          0.316667   \n",
       "1  76561198881119093     50  Half-Life: Opposing Force          7.600000   \n",
       "2  76561198881119093     70                  Half-Life         18.166667   \n",
       "3  76561198881119093    130      Half-Life: Blue Shift          2.783333   \n",
       "4  76561198881119093    220                Half-Life 2         20.550000   \n",
       "\n",
       "   Genres Achievements                                            Reviews  \n",
       "0  Action            0  solo puedo decir wow este juego es increible p...  \n",
       "1  Action            0  [h2]Half-Life: Opposing Force — гра для терпля...  \n",
       "2  Action            0  [hr][/hr]\\n[h1] Так, Салаги, доки поряд літают...  \n",
       "3  Action            0  Half-Life: Blue Shift — це невеличкий, але дуж...  \n",
       "4  Action           35  A monumental game in my gaming career, Half-Li...  "
      ]
     },
     "execution_count": 9,
     "metadata": {},
     "output_type": "execute_result"
    }
   ],
   "source": [
    "combined_df.head()"
   ]
  }
 ],
 "metadata": {
  "kernelspec": {
   "display_name": "Python 3",
   "language": "python",
   "name": "python3"
  },
  "language_info": {
   "codemirror_mode": {
    "name": "ipython",
    "version": 3
   },
   "file_extension": ".py",
   "mimetype": "text/x-python",
   "name": "python",
   "nbconvert_exporter": "python",
   "pygments_lexer": "ipython3",
   "version": "3.10.0"
  }
 },
 "nbformat": 4,
 "nbformat_minor": 5
}
