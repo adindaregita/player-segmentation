{
 "cells": [
  {
   "cell_type": "code",
   "execution_count": 2,
   "id": "829aaa17",
   "metadata": {},
   "outputs": [
    {
     "name": "stdout",
     "output_type": "stream",
     "text": [
      "Data gabungan (sampled_segmentation_topics.csv):\n"
     ]
    },
    {
     "data": {
      "text/html": [
       "<div>\n",
       "<style scoped>\n",
       "    .dataframe tbody tr th:only-of-type {\n",
       "        vertical-align: middle;\n",
       "    }\n",
       "\n",
       "    .dataframe tbody tr th {\n",
       "        vertical-align: top;\n",
       "    }\n",
       "\n",
       "    .dataframe thead th {\n",
       "        text-align: right;\n",
       "    }\n",
       "</style>\n",
       "<table border=\"1\" class=\"dataframe\">\n",
       "  <thead>\n",
       "    <tr style=\"text-align: right;\">\n",
       "      <th></th>\n",
       "      <th>Steam ID</th>\n",
       "      <th>App ID</th>\n",
       "      <th>Game Name</th>\n",
       "      <th>Playtime (hours)</th>\n",
       "      <th>Genres</th>\n",
       "      <th>Achievements</th>\n",
       "      <th>Dominant_Topic</th>\n",
       "      <th>Similarity_Score</th>\n",
       "    </tr>\n",
       "  </thead>\n",
       "  <tbody>\n",
       "    <tr>\n",
       "      <th>0</th>\n",
       "      <td>76561197960269409</td>\n",
       "      <td>58540</td>\n",
       "      <td>unknown</td>\n",
       "      <td>0.000000</td>\n",
       "      <td>NaN</td>\n",
       "      <td>0</td>\n",
       "      <td>NaN</td>\n",
       "      <td>NaN</td>\n",
       "    </tr>\n",
       "    <tr>\n",
       "      <th>1</th>\n",
       "      <td>76561197960269409</td>\n",
       "      <td>1180660</td>\n",
       "      <td>tell me why</td>\n",
       "      <td>0.000000</td>\n",
       "      <td>Adventure, Free To Play</td>\n",
       "      <td>0</td>\n",
       "      <td>NaN</td>\n",
       "      <td>NaN</td>\n",
       "    </tr>\n",
       "    <tr>\n",
       "      <th>2</th>\n",
       "      <td>76561197960269409</td>\n",
       "      <td>110800</td>\n",
       "      <td>l.a. noire</td>\n",
       "      <td>21.466667</td>\n",
       "      <td>Adventure, Strategy</td>\n",
       "      <td>25</td>\n",
       "      <td>1.0</td>\n",
       "      <td>0.245037</td>\n",
       "    </tr>\n",
       "    <tr>\n",
       "      <th>3</th>\n",
       "      <td>76561197960269409</td>\n",
       "      <td>335300</td>\n",
       "      <td>dark souls™ ii: scholar of the first sin</td>\n",
       "      <td>47.016667</td>\n",
       "      <td>Action, RPG</td>\n",
       "      <td>19</td>\n",
       "      <td>63.0</td>\n",
       "      <td>0.173351</td>\n",
       "    </tr>\n",
       "    <tr>\n",
       "      <th>4</th>\n",
       "      <td>76561197960269409</td>\n",
       "      <td>96000</td>\n",
       "      <td>the tiny bang story</td>\n",
       "      <td>13.850000</td>\n",
       "      <td>Adventure, Casual, Indie</td>\n",
       "      <td>0</td>\n",
       "      <td>3.0</td>\n",
       "      <td>0.148978</td>\n",
       "    </tr>\n",
       "  </tbody>\n",
       "</table>\n",
       "</div>"
      ],
      "text/plain": [
       "            Steam ID   App ID                                 Game Name  \\\n",
       "0  76561197960269409    58540                                   unknown   \n",
       "1  76561197960269409  1180660                               tell me why   \n",
       "2  76561197960269409   110800                                l.a. noire   \n",
       "3  76561197960269409   335300  dark souls™ ii: scholar of the first sin   \n",
       "4  76561197960269409    96000                       the tiny bang story   \n",
       "\n",
       "   Playtime (hours)                    Genres  Achievements  Dominant_Topic  \\\n",
       "0          0.000000                       NaN             0             NaN   \n",
       "1          0.000000   Adventure, Free To Play             0             NaN   \n",
       "2         21.466667       Adventure, Strategy            25             1.0   \n",
       "3         47.016667               Action, RPG            19            63.0   \n",
       "4         13.850000  Adventure, Casual, Indie             0             3.0   \n",
       "\n",
       "   Similarity_Score  \n",
       "0               NaN  \n",
       "1               NaN  \n",
       "2          0.245037  \n",
       "3          0.173351  \n",
       "4          0.148978  "
      ]
     },
     "metadata": {},
     "output_type": "display_data"
    }
   ],
   "source": [
    "import pandas as pd\n",
    "\n",
    "# Baca data hasil merge yang sudah memiliki kolom Dominant_Topic per game\n",
    "df = pd.read_csv(\"sampled_segmentation_topics.csv\")\n",
    "\n",
    "# Tampilkan 5 baris pertama\n",
    "print(\"Data gabungan (sampled_segmentation_topics.csv):\")\n",
    "display(df.head())\n"
   ]
  },
  {
   "cell_type": "code",
   "execution_count": 3,
   "id": "ef57f448",
   "metadata": {},
   "outputs": [
    {
     "name": "stdout",
     "output_type": "stream",
     "text": [
      "Jumlah baris awal: 750\n",
      "Jumlah baris setelah menghapus NaN dan kolom 'Similarity_Score': 503\n"
     ]
    }
   ],
   "source": [
    "# Jumlah baris awal\n",
    "initial_rows = len(df)\n",
    "print(f\"Jumlah baris awal: {initial_rows}\")\n",
    "\n",
    "# Ganti nama kolom 'Dominant_Topic' jadi 'Topic'\n",
    "df = df.rename(columns={\"Dominant_Topic\": \"Topic\"})\n",
    "\n",
    "# Hapus kolom 'Similarity_Score' jika ada\n",
    "if \"Similarity_Score\" in df.columns:\n",
    "    df = df.drop(columns=[\"Similarity_Score\"])\n",
    "\n",
    "# Hapus baris dengan nilai NaN di kolom-kolom penting\n",
    "required_columns = [\"Steam ID\", \"App ID\", \"Game Name\", \"Playtime (hours)\", \"Genres\", \"Achievements\", \"Topic\"]\n",
    "df = df.dropna(subset=required_columns)\n",
    "\n",
    "# Jumlah baris setelah pembersihan\n",
    "cleaned_rows = len(df)\n",
    "print(f\"Jumlah baris setelah menghapus NaN dan kolom 'Similarity_Score': {cleaned_rows}\")\n"
   ]
  },
  {
   "cell_type": "code",
   "execution_count": 4,
   "id": "cefc6ad5",
   "metadata": {},
   "outputs": [
    {
     "name": "stdout",
     "output_type": "stream",
     "text": [
      "Jumlah baris sebelum penghapusan game nonaktif: 503\n",
      "Jumlah baris setelah penghapusan game nonaktif: 326\n"
     ]
    }
   ],
   "source": [
    "# Simpan jumlah baris sebelum penghapusan game nonaktif\n",
    "before_removal = len(df)\n",
    "\n",
    "# Filter: hanya ambil game dengan playtime >= 10 menit (yaitu >= 0.166 jam)\n",
    "df = df[df[\"Playtime (hours)\"] >= 0.166]\n",
    "\n",
    "# Jumlah baris setelah penghapusan\n",
    "after_removal = len(df)\n",
    "\n",
    "print(f\"Jumlah baris sebelum penghapusan game nonaktif: {before_removal}\")\n",
    "print(f\"Jumlah baris setelah penghapusan game nonaktif: {after_removal}\")\n"
   ]
  },
  {
   "cell_type": "code",
   "execution_count": 5,
   "id": "7a4900c3",
   "metadata": {},
   "outputs": [
    {
     "name": "stdout",
     "output_type": "stream",
     "text": [
      "Jumlah baris sebelum penghapusan game 'Unknown': 326\n",
      "Jumlah baris setelah penghapusan game 'Unknown': 326\n"
     ]
    }
   ],
   "source": [
    "# Simpan jumlah baris sebelum penghapusan\n",
    "before_removal = len(df)\n",
    "\n",
    "# Hapus game dengan nama 'Unknown'\n",
    "df = df[df[\"Game Name\"].str.lower() != \"unknown\"]\n",
    "\n",
    "# Simpan jumlah baris setelah penghapusan\n",
    "after_removal = len(df)\n",
    "\n",
    "print(f\"Jumlah baris sebelum penghapusan game 'Unknown': {before_removal}\")\n",
    "print(f\"Jumlah baris setelah penghapusan game 'Unknown': {after_removal}\")\n"
   ]
  },
  {
   "cell_type": "code",
   "execution_count": 6,
   "id": "527c7270",
   "metadata": {},
   "outputs": [
    {
     "name": "stdout",
     "output_type": "stream",
     "text": [
      "Jumlah baris sebelum penghapusan duplikat: 326\n",
      "Jumlah baris setelah penghapusan duplikat: 326\n"
     ]
    }
   ],
   "source": [
    "# Simpan jumlah baris sebelum penghapusan\n",
    "before_dedup = len(df)\n",
    "\n",
    "# Hapus data duplikat\n",
    "df = df.drop_duplicates()\n",
    "\n",
    "# Simpan jumlah baris setelah penghapusan\n",
    "after_dedup = len(df)\n",
    "\n",
    "print(f\"Jumlah baris sebelum penghapusan duplikat: {before_dedup}\")\n",
    "print(f\"Jumlah baris setelah penghapusan duplikat: {after_dedup}\")\n"
   ]
  },
  {
   "cell_type": "markdown",
   "id": "c9622c51",
   "metadata": {},
   "source": [
    "# Transformation"
   ]
  },
  {
   "cell_type": "code",
   "execution_count": 8,
   "id": "02cbd74a",
   "metadata": {},
   "outputs": [
    {
     "data": {
      "text/html": [
       "<div>\n",
       "<style scoped>\n",
       "    .dataframe tbody tr th:only-of-type {\n",
       "        vertical-align: middle;\n",
       "    }\n",
       "\n",
       "    .dataframe tbody tr th {\n",
       "        vertical-align: top;\n",
       "    }\n",
       "\n",
       "    .dataframe thead th {\n",
       "        text-align: right;\n",
       "    }\n",
       "</style>\n",
       "<table border=\"1\" class=\"dataframe\">\n",
       "  <thead>\n",
       "    <tr style=\"text-align: right;\">\n",
       "      <th></th>\n",
       "      <th>Steam ID</th>\n",
       "      <th>Game</th>\n",
       "    </tr>\n",
       "  </thead>\n",
       "  <tbody>\n",
       "    <tr>\n",
       "      <th>2</th>\n",
       "      <td>76561197960269409</td>\n",
       "      <td>9</td>\n",
       "    </tr>\n",
       "    <tr>\n",
       "      <th>25</th>\n",
       "      <td>76561197962437769</td>\n",
       "      <td>1</td>\n",
       "    </tr>\n",
       "    <tr>\n",
       "      <th>30</th>\n",
       "      <td>76561197977935089</td>\n",
       "      <td>10</td>\n",
       "    </tr>\n",
       "    <tr>\n",
       "      <th>46</th>\n",
       "      <td>76561197983588742</td>\n",
       "      <td>10</td>\n",
       "    </tr>\n",
       "    <tr>\n",
       "      <th>60</th>\n",
       "      <td>76561197985705149</td>\n",
       "      <td>5</td>\n",
       "    </tr>\n",
       "  </tbody>\n",
       "</table>\n",
       "</div>"
      ],
      "text/plain": [
       "             Steam ID  Game\n",
       "2   76561197960269409     9\n",
       "25  76561197962437769     1\n",
       "30  76561197977935089    10\n",
       "46  76561197983588742    10\n",
       "60  76561197985705149     5"
      ]
     },
     "execution_count": 8,
     "metadata": {},
     "output_type": "execute_result"
    }
   ],
   "source": [
    "# Hitung jumlah game per SteamID\n",
    "game_counts = df['Steam ID'].value_counts()\n",
    "\n",
    "# Tambahkan kolom baru 'Game' berdasarkan jumlah game dari masing-masing SteamID\n",
    "df['Game'] = df['Steam ID'].map(game_counts)\n",
    "\n",
    "# Cek hasil\n",
    "df[['Steam ID', 'Game']].drop_duplicates().head()\n"
   ]
  },
  {
   "cell_type": "code",
   "execution_count": 10,
   "id": "ce9996ee",
   "metadata": {},
   "outputs": [
    {
     "name": "stdout",
     "output_type": "stream",
     "text": [
      "Q1 Jumlah Game: 7.0\n"
     ]
    },
    {
     "data": {
      "text/plain": [
       "(30, (261, 8))"
      ]
     },
     "execution_count": 10,
     "metadata": {},
     "output_type": "execute_result"
    }
   ],
   "source": [
    "# Hitung Q1 (kuartil pertama) dari jumlah game\n",
    "q1 = df['Game'].quantile(0.25)\n",
    "\n",
    "# Tampilkan Q1 untuk informasi\n",
    "print(f\"Q1 Jumlah Game: {q1}\")\n",
    "\n",
    "# Filter data: hanya ambil pemain yang jumlah game-nya >= Q1\n",
    "df = df[df['Game'] >= q1].reset_index(drop=True)\n",
    "\n",
    "# Cek jumlah data setelah filter\n",
    "df['Steam ID'].nunique(), df.shape\n"
   ]
  },
  {
   "cell_type": "markdown",
   "id": "6e1b1368",
   "metadata": {},
   "source": [
    "# Ubah Value Genre"
   ]
  },
  {
   "cell_type": "code",
   "execution_count": 11,
   "id": "ad7cab9f",
   "metadata": {},
   "outputs": [],
   "source": [
    "# 1. Pecah genre menjadi list\n",
    "df['Genre_List'] = df['Genres'].fillna('').apply(lambda x: [g.strip() for g in x.split(',') if g.strip() != ''])\n",
    "\n",
    "# 2. Ambil semua genre unik dari seluruh list\n",
    "from itertools import chain\n",
    "\n",
    "all_genres = set(chain.from_iterable(df['Genre_List']))\n",
    "genre_mapping = {genre: i+1 for i, genre in enumerate(sorted(all_genres))}\n",
    "\n",
    "# 3. Ganti list genre jadi list kode\n",
    "df['Genre_Code_List'] = df['Genre_List'].apply(lambda genre_list: [genre_mapping[g] for g in genre_list if g in genre_mapping])\n",
    "\n",
    "# 4. Simpan mapping ke CSV\n",
    "genre_df = pd.DataFrame(list(genre_mapping.items()), columns=['Genre', 'Genre_Code'])\n",
    "genre_df.to_csv('genre_code_mapping.csv', index=False)\n",
    "\n",
    "# 5. Simpan data utama\n",
    "df.to_csv('cleaned_with_genre_codes.csv', index=False)\n"
   ]
  },
  {
   "cell_type": "code",
   "execution_count": 14,
   "id": "d4a270de",
   "metadata": {},
   "outputs": [
    {
     "name": "stdout",
     "output_type": "stream",
     "text": [
      "            Steam ID  Total_Games  Total_Achievements Dominant_Topic  \\\n",
      "0  76561197960269409            9                 130            3.0   \n",
      "0  76561197960269409            9                 130           43.0   \n",
      "0  76561197960269409            9                 130           59.0   \n",
      "1  76561197977935089           10                  72            1.0   \n",
      "1  76561197977935089           10                  72           61.0   \n",
      "1  76561197977935089           10                  72           23.0   \n",
      "2  76561197983588742           10                 155            1.0   \n",
      "2  76561197983588742           10                 155            2.0   \n",
      "2  76561197983588742           10                 155           47.0   \n",
      "\n",
      "  Dominant_Genre_Code  \n",
      "0                   2  \n",
      "0                   6  \n",
      "0                   8  \n",
      "1                   1  \n",
      "1                  10  \n",
      "1                  12  \n",
      "2                   1  \n",
      "2                   2  \n",
      "2                   6  \n"
     ]
    }
   ],
   "source": [
    "import pandas as pd\n",
    "from collections import Counter\n",
    "from itertools import chain\n",
    "\n",
    "# 1. Baca data pre‑cleaned\n",
    "df = pd.read_csv('cleaned_dataset_segmentation.csv')\n",
    "\n",
    "# 2. Drop kolom yang tidak dibutuhkan\n",
    "df = df.drop(columns=['Genre_List'])\n",
    "\n",
    "# 3. Hitung Total Games & Total Achievements\n",
    "agg_counts = df.groupby('Steam ID').agg(\n",
    "    Total_Games=('App ID', 'size'),\n",
    "    Total_Achievements=('Achievements', 'sum')\n",
    ")\n",
    "\n",
    "# 4. Hitung Top 3 Dominant Topics per Steam ID\n",
    "def top_n(items, n=3):\n",
    "    c = Counter(items)\n",
    "    return [item for item, _ in c.most_common(n)]\n",
    "\n",
    "top_topics = df.groupby('Steam ID')['Topic'].apply(lambda x: top_n(x, 3))\n",
    "\n",
    "# 5. Hitung Top 3 Dominant Genres per Steam ID\n",
    "#    (genre code list sudah ada di kolom 'Genre_Code_List')\n",
    "top_genres = df.groupby('Steam ID')['Genre_Code_List'] \\\n",
    "               .apply(lambda lists: top_n(chain.from_iterable(eval(str(l)) for l in lists), 3))\n",
    "\n",
    "# 6. Satukan semua jadi satu DataFrame\n",
    "summary_df = (\n",
    "    agg_counts\n",
    "    .join(top_topics.rename('Top_3_Topics'))\n",
    "    .join(top_genres.rename('Top_3_Genres'))\n",
    "    .reset_index()\n",
    ")\n",
    "\n",
    "# 7. Explode kedua list kolom berbarengan—agar setiap baris\n",
    "#    berisi satu topic dan satu genre yang sejajar posisinya\n",
    "exploded = summary_df.explode(['Top_3_Topics', 'Top_3_Genres']) \\\n",
    "                     .rename(columns={\n",
    "                         'Top_3_Topics': 'Dominant_Topic',\n",
    "                         'Top_3_Genres': 'Dominant_Genre_Code'\n",
    "                     })\n",
    "\n",
    "# 8. Simpan hasil akhir\n",
    "exploded.to_csv('transformation_segmentation.csv', index=False)\n",
    "\n",
    "# 9. Tampilkan contoh\n",
    "print(exploded.head(9))\n"
   ]
  },
  {
   "cell_type": "code",
   "execution_count": 24,
   "id": "174cbc63",
   "metadata": {},
   "outputs": [
    {
     "name": "stdout",
     "output_type": "stream",
     "text": [
      "Selesai: user_features.shape = (30, 67)\n"
     ]
    }
   ],
   "source": [
    "# Import library\n",
    "import pandas as pd\n",
    "from sklearn.preprocessing import MinMaxScaler\n",
    "\n",
    "# Baca file\n",
    "df = pd.read_csv('transformation_segmentation.csv')\n",
    "\n",
    "# Pastikan kolom numerik sudah benar\n",
    "df['Dominant_Topic'] = df['Dominant_Topic'].astype(str)\n",
    "df['Dominant_Genre_Code'] = df['Dominant_Genre_Code'].astype(str)\n",
    "\n",
    "# Hitung frekuensi tiap topic per Steam ID\n",
    "topic_pivot = (\n",
    "    df.groupby(['Steam ID', 'Dominant_Topic'])\n",
    "      .size()\n",
    "      .unstack(fill_value=0)\n",
    "      .add_prefix('Topic_Count_')\n",
    ")\n",
    "\n",
    "# Hitung frekuensi tiap genre code per Steam ID\n",
    "genre_pivot = (\n",
    "    df.groupby(['Steam ID', 'Dominant_Genre_Code'])\n",
    "      .size()\n",
    "      .unstack(fill_value=0)\n",
    "      .add_prefix('Genre_Count_')\n",
    ")\n",
    "\n",
    "# Ambil data Total_Games dan Total_Achievements unik per Steam ID\n",
    "user_base = (\n",
    "    df[['Steam ID', 'Total_Games', 'Total_Achievements']]\n",
    "    .drop_duplicates(subset='Steam ID')\n",
    "    .set_index('Steam ID')\n",
    ")\n",
    "\n",
    "# Gabungkan semua fitur\n",
    "user_features = (\n",
    "    user_base\n",
    "    .join(topic_pivot)\n",
    "    .join(genre_pivot)\n",
    "    .fillna(0)  # jaga-jaga jika ada Steam ID yang tidak punya topik/genre\n",
    "    .reset_index()\n",
    ")\n",
    "\n",
    "# Buat kolom proporsi dari total games\n",
    "for col in topic_pivot.columns:\n",
    "    user_features[col + '_Prop'] = user_features[col] / user_features['Total_Games']\n",
    "for col in genre_pivot.columns:\n",
    "    user_features[col + '_Prop'] = user_features[col] / user_features['Total_Games']\n",
    "\n",
    "# Normalisasi semua kolom count & proporsi (kecuali Steam ID dan total games/achievements)\n",
    "count_cols = [c for c in user_features.columns if c.startswith(('Topic_Count_', 'Genre_Count_')) and not c.endswith('_Prop')]\n",
    "prop_cols = [c for c in user_features.columns if c.endswith('_Prop')]\n",
    "\n",
    "scaler = MinMaxScaler()\n",
    "user_features[count_cols + prop_cols] = scaler.fit_transform(user_features[count_cols + prop_cols])\n",
    "\n",
    "# (Opsional) Simpan ke file\n",
    "user_features.to_csv('user_features_for_AA.csv', index=False)\n",
    "\n",
    "print(\"Selesai: user_features.shape =\", user_features.shape)\n"
   ]
  }
 ],
 "metadata": {
  "kernelspec": {
   "display_name": "Python 3",
   "language": "python",
   "name": "python3"
  },
  "language_info": {
   "codemirror_mode": {
    "name": "ipython",
    "version": 3
   },
   "file_extension": ".py",
   "mimetype": "text/x-python",
   "name": "python",
   "nbconvert_exporter": "python",
   "pygments_lexer": "ipython3",
   "version": "3.10.0"
  }
 },
 "nbformat": 4,
 "nbformat_minor": 5
}
