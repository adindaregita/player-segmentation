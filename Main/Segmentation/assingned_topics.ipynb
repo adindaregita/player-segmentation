{
 "cells": [
  {
   "cell_type": "code",
   "execution_count": 1,
   "id": "c60d3cc4",
   "metadata": {},
   "outputs": [
    {
     "name": "stderr",
     "output_type": "stream",
     "text": [
      "/Users/divaoncom/Library/Python/3.10/lib/python/site-packages/sklearn/utils/deprecation.py:151: FutureWarning: 'force_all_finite' was renamed to 'ensure_all_finite' in 1.6 and will be removed in 1.8.\n",
      "  warnings.warn(\n",
      "/Users/divaoncom/Library/Python/3.10/lib/python/site-packages/sklearn/utils/deprecation.py:151: FutureWarning: 'force_all_finite' was renamed to 'ensure_all_finite' in 1.6 and will be removed in 1.8.\n",
      "  warnings.warn(\n"
     ]
    }
   ],
   "source": [
    "import pandas as pd\n",
    "from hdbscan import HDBSCAN\n",
    "from sklearn.preprocessing import normalize\n",
    "\n",
    "# Load data embedding\n",
    "embedding_df = pd.read_csv(\"embedding_umap.csv\")\n",
    "\n",
    "# Ambil embedding kolom yang sesuai (bisa embedding_0, UMAP_1, UMAP_2, dst)\n",
    "X = embedding_df[['UMAP_1', 'UMAP_2']].values\n",
    "X = normalize(X)\n",
    "\n",
    "# Clustering\n",
    "clusterer = HDBSCAN(min_cluster_size=5)\n",
    "embedding_df['cluster'] = clusterer.fit_predict(X)\n",
    "\n",
    "# Simpan ulang hasil\n",
    "embedding_df.to_csv(\"embedding_umap_clustered.csv\", index=False)\n"
   ]
  },
  {
   "cell_type": "code",
   "execution_count": 4,
   "id": "db706e55",
   "metadata": {},
   "outputs": [],
   "source": [
    "# Load semua data yang dibutuhkan\n",
    "embedding_df = pd.read_csv(\"embedding_umap_clustered.csv\")  # sudah ada cluster\n",
    "preprocessed_df = pd.read_csv(\"preprocessed_reviews.csv\")   # punya game + cleaned_reviews\n",
    "topic_labels_df = pd.read_csv(\"final_topic_keywords_labeled.csv\")   # cluster -> topic_label_en\n",
    "\n",
    "# Gabungkan cluster ke preprocessed_df\n",
    "merged_df = pd.merge(preprocessed_df, embedding_df[['cleaned_reviews', 'cluster']], on='cleaned_reviews', how='left')\n",
    "\n",
    "# Buang noise (cluster = -1)\n",
    "merged_df = merged_df[merged_df['cluster'] != -1]\n",
    "\n",
    "# Hitung topik terbanyak per game\n",
    "topic_per_game = merged_df.groupby(['game', 'cluster']).size().reset_index(name='count')\n",
    "top_topics = topic_per_game.sort_values(['game', 'count'], ascending=[True, False])\n",
    "top_topics = top_topics.groupby('game').head(3)\n",
    "\n",
    "# Gabungkan list cluster per game\n",
    "top_topics_agg = top_topics.groupby('game')['cluster'].apply(list).reset_index()\n",
    "top_topics_agg.columns = ['game', 'Top_Clusters']\n",
    "\n",
    "# Gabungkan ke label topik\n",
    "def map_clusters_to_labels(cluster_list, label_map):\n",
    "    return [label_map[c] for c in cluster_list if c in label_map]\n",
    "\n",
    "# Buat mapping cluster -> label\n",
    "cluster_label_map = dict(zip(topic_labels_df['cluster'], topic_labels_df['topic_label_en']))\n",
    "\n",
    "# Tambahkan kolom label\n",
    "top_topics_agg['Top_Topic_Labels'] = top_topics_agg['Top_Clusters'].apply(lambda cl: map_clusters_to_labels(cl, cluster_label_map))\n",
    "\n",
    "# Simpan hasil akhir\n",
    "top_topics_agg.to_csv(\"game_top_topics_labeled.csv\", index=False)\n"
   ]
  }
 ],
 "metadata": {
  "kernelspec": {
   "display_name": "Python 3",
   "language": "python",
   "name": "python3"
  },
  "language_info": {
   "codemirror_mode": {
    "name": "ipython",
    "version": 3
   },
   "file_extension": ".py",
   "mimetype": "text/x-python",
   "name": "python",
   "nbconvert_exporter": "python",
   "pygments_lexer": "ipython3",
   "version": "3.10.0"
  }
 },
 "nbformat": 4,
 "nbformat_minor": 5
}
