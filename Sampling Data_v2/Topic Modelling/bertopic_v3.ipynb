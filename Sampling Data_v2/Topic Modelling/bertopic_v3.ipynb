{
 "cells": [
  {
   "cell_type": "code",
   "execution_count": 1,
   "id": "c738ce96",
   "metadata": {},
   "outputs": [
    {
     "name": "stdout",
     "output_type": "stream",
     "text": [
      "Couldn't import dot_parser, loading of dot files will not be possible.\n"
     ]
    },
    {
     "data": {
      "application/vnd.jupyter.widget-view+json": {
       "model_id": "529c26c257334035971441c9bb7162e0",
       "version_major": 2,
       "version_minor": 0
      },
      "text/plain": [
       "Batches:   0%|          | 0/53 [00:00<?, ?it/s]"
      ]
     },
     "metadata": {},
     "output_type": "display_data"
    },
    {
     "name": "stderr",
     "output_type": "stream",
     "text": [
      "2025-07-25 10:25:16,675 - BERTopic - Dimensionality - Fitting the dimensionality reduction algorithm\n",
      "OMP: Info #276: omp_set_nested routine deprecated, please use omp_set_max_active_levels instead.\n",
      "2025-07-25 10:25:23,440 - BERTopic - Dimensionality - Completed ✓\n",
      "2025-07-25 10:25:23,441 - BERTopic - Cluster - Start clustering the reduced embeddings\n",
      "2025-07-25 10:25:23,474 - BERTopic - Cluster - Completed ✓\n",
      "2025-07-25 10:25:23,477 - BERTopic - Representation - Fine-tuning topics using representation models.\n",
      "2025-07-25 10:25:23,516 - BERTopic - Representation - Completed ✓\n"
     ]
    }
   ],
   "source": [
    "import pandas as pd\n",
    "from bertopic import BERTopic\n",
    "from sklearn.feature_extraction.text import TfidfVectorizer\n",
    "from sklearn.metrics.pairwise import cosine_similarity, cosine_distances\n",
    "from umap import UMAP\n",
    "from hdbscan import HDBSCAN\n",
    "from sentence_transformers import SentenceTransformer\n",
    "from sklearn.preprocessing import normalize\n",
    "import numpy as np\n",
    "\n",
    "# 1. Load Data\n",
    "df = pd.read_csv(\"embedding_umap.csv\")\n",
    "df = df.dropna(subset=[\"cleaned_reviews\"])\n",
    "documents = df[\"cleaned_reviews\"].tolist()\n",
    "\n",
    "# 2. Siapkan embedding\n",
    "embedding_model = SentenceTransformer(\"all-MiniLM-L6-v2\")\n",
    "embeddings = embedding_model.encode(documents, show_progress_bar=True)\n",
    "\n",
    "# 3. Inisialisasi model BERTopic\n",
    "umap_model = UMAP(n_neighbors=15, n_components=5, min_dist=0.0, metric='cosine')\n",
    "hdbscan_model = HDBSCAN(min_cluster_size=15, metric='euclidean', cluster_selection_method='eom')\n",
    "\n",
    "topic_model = BERTopic(\n",
    "    language=\"english\",\n",
    "    embedding_model=embedding_model,\n",
    "    umap_model=umap_model,\n",
    "    hdbscan_model=hdbscan_model,\n",
    "    calculate_probabilities=False,\n",
    "    verbose=True\n",
    ")\n",
    "\n",
    "# 4. Fit dan transform\n",
    "topics, probs = topic_model.fit_transform(documents, embeddings)\n",
    "\n",
    "# 5. Manual Top Keyword dengan MMR\n",
    "def mmr(doc_embedding, word_embeddings, words, top_n=10, diversity=0.7):\n",
    "    word_doc_similarity = cosine_similarity(word_embeddings, doc_embedding.reshape(1, -1))\n",
    "    word_similarity = cosine_similarity(word_embeddings)\n",
    "    \n",
    "    selected_words = []\n",
    "    selected_idxs = []\n",
    "    remaining_idxs = list(range(len(words)))\n",
    "\n",
    "    selected_idxs.append(np.argmax(word_doc_similarity))\n",
    "    selected_words.append(words[selected_idxs[0]])\n",
    "    remaining_idxs.remove(selected_idxs[0])\n",
    "    \n",
    "    for _ in range(top_n - 1):\n",
    "        mmr_scores = []\n",
    "        for idx in remaining_idxs:\n",
    "            sim_to_doc = word_doc_similarity[idx][0]\n",
    "            sim_to_selected = max([word_similarity[idx][j] for j in selected_idxs])\n",
    "            mmr_score = diversity * sim_to_doc - (1 - diversity) * sim_to_selected\n",
    "            mmr_scores.append((idx, mmr_score))\n",
    "        best_idx = sorted(mmr_scores, key=lambda x: x[1], reverse=True)[0][0]\n",
    "        selected_idxs.append(best_idx)\n",
    "        selected_words.append(words[best_idx])\n",
    "        remaining_idxs.remove(best_idx)\n",
    "    return selected_words\n",
    "\n",
    "# 6. Ekstrak topik dan hitung MMR\n",
    "topics_keywords = {}\n",
    "for topic in topic_model.get_topics().keys():\n",
    "    if topic == -1:\n",
    "        continue\n",
    "    topic_words_scores = topic_model.get_topic(topic)\n",
    "    words = [w for w, _ in topic_words_scores]\n",
    "    embeddings_words = embedding_model.encode(words, show_progress_bar=False)\n",
    "    topic_embedding = np.mean(embedding_model.encode([\" \".join(words)]), axis=0)\n",
    "    top_keywords = mmr(topic_embedding, embeddings_words, words, top_n=10, diversity=0.7)\n",
    "    topics_keywords[topic] = top_keywords\n",
    "\n",
    "# 7. Simpan topik ke CSV\n",
    "topic_keywords_df = pd.DataFrame([\n",
    "    {\"Cluster\": k, \"Top_Keywords\": v}\n",
    "    for k, v in topics_keywords.items()\n",
    "])\n",
    "topic_keywords_df.to_csv(\"top_topic_keywords.csv\", index=False)\n",
    "\n",
    "# 8. Hitung dominant topic per game\n",
    "game_grouped = df.groupby(\"game\")[\"cleaned_reviews\"].apply(lambda x: \" \".join(x)).reset_index()\n",
    "\n",
    "vectorizer = TfidfVectorizer()\n",
    "results = []\n",
    "\n",
    "for _, row in game_grouped.iterrows():\n",
    "    game = row[\"game\"]\n",
    "    review_text = row[\"cleaned_reviews\"]\n",
    "\n",
    "    similarities = {}\n",
    "    for topic_id, keywords in topics_keywords.items():\n",
    "        topic_text = \" \".join(keywords)\n",
    "        try:\n",
    "            tfidf = vectorizer.fit([review_text, topic_text])\n",
    "            vecs = tfidf.transform([review_text, topic_text])\n",
    "            sim = cosine_similarity(vecs[0], vecs[1])[0][0]\n",
    "            similarities[topic_id] = sim\n",
    "        except:\n",
    "            continue\n",
    "\n",
    "    if similarities:\n",
    "        dominant_topic = max(similarities, key=similarities.get)\n",
    "        similarity_score = similarities[dominant_topic]\n",
    "    else:\n",
    "        dominant_topic = -1\n",
    "        similarity_score = 0.0\n",
    "\n",
    "    results.append({\n",
    "        \"Game\": game,\n",
    "        \"Dominant_Topic\": dominant_topic,\n",
    "        \"Similarity_Score\": similarity_score\n",
    "    })\n",
    "\n",
    "# 9. Simpan ke CSV\n",
    "dominant_topic_df = pd.DataFrame(results)\n",
    "dominant_topic_df.to_csv(\"dominant_topic_per_game.csv\", index=False)\n"
   ]
  },
  {
   "cell_type": "code",
   "execution_count": 2,
   "id": "89a216f7",
   "metadata": {},
   "outputs": [
    {
     "name": "stderr",
     "output_type": "stream",
     "text": [
      "[nltk_data] Error loading punkt: <urlopen error [SSL:\n",
      "[nltk_data]     CERTIFICATE_VERIFY_FAILED] certificate verify failed:\n",
      "[nltk_data]     unable to get local issuer certificate (_ssl.c:997)>\n",
      "huggingface/tokenizers: The current process just got forked, after parallelism has already been used. Disabling parallelism to avoid deadlocks...\n",
      "To disable this warning, you can either:\n",
      "\t- Avoid using `tokenizers` before the fork if possible\n",
      "\t- Explicitly set the environment variable TOKENIZERS_PARALLELISM=(true | false)\n",
      "huggingface/tokenizers: The current process just got forked, after parallelism has already been used. Disabling parallelism to avoid deadlocks...\n",
      "To disable this warning, you can either:\n",
      "\t- Avoid using `tokenizers` before the fork if possible\n",
      "\t- Explicitly set the environment variable TOKENIZERS_PARALLELISM=(true | false)\n",
      "huggingface/tokenizers: The current process just got forked, after parallelism has already been used. Disabling parallelism to avoid deadlocks...\n",
      "To disable this warning, you can either:\n",
      "\t- Avoid using `tokenizers` before the fork if possible\n",
      "\t- Explicitly set the environment variable TOKENIZERS_PARALLELISM=(true | false)\n",
      "huggingface/tokenizers: The current process just got forked, after parallelism has already been used. Disabling parallelism to avoid deadlocks...\n",
      "To disable this warning, you can either:\n",
      "\t- Avoid using `tokenizers` before the fork if possible\n",
      "\t- Explicitly set the environment variable TOKENIZERS_PARALLELISM=(true | false)\n",
      "huggingface/tokenizers: The current process just got forked, after parallelism has already been used. Disabling parallelism to avoid deadlocks...\n",
      "To disable this warning, you can either:\n",
      "\t- Avoid using `tokenizers` before the fork if possible\n",
      "\t- Explicitly set the environment variable TOKENIZERS_PARALLELISM=(true | false)\n",
      "huggingface/tokenizers: The current process just got forked, after parallelism has already been used. Disabling parallelism to avoid deadlocks...\n",
      "To disable this warning, you can either:\n",
      "\t- Avoid using `tokenizers` before the fork if possible\n",
      "\t- Explicitly set the environment variable TOKENIZERS_PARALLELISM=(true | false)\n",
      "huggingface/tokenizers: The current process just got forked, after parallelism has already been used. Disabling parallelism to avoid deadlocks...\n",
      "To disable this warning, you can either:\n",
      "\t- Avoid using `tokenizers` before the fork if possible\n",
      "\t- Explicitly set the environment variable TOKENIZERS_PARALLELISM=(true | false)\n"
     ]
    },
    {
     "name": "stdout",
     "output_type": "stream",
     "text": [
      "✅ Coherence Score (c_v): 0.4137\n"
     ]
    }
   ],
   "source": [
    "from gensim.corpora.dictionary import Dictionary\n",
    "from gensim.models.coherencemodel import CoherenceModel\n",
    "import gensim\n",
    "import nltk\n",
    "\n",
    "nltk.download(\"punkt\")\n",
    "\n",
    "# 1. Ambil semua dokumen yang digunakan (harus sudah dalam bentuk list of tokens)\n",
    "tokenized_docs = [nltk.word_tokenize(doc.lower()) for doc in df['cleaned_reviews']]\n",
    "\n",
    "# 2. Ambil topik dari BERTopic\n",
    "topics = topic_model.get_topics()\n",
    "topic_words = []\n",
    "for topic_id in sorted(topics.keys()):\n",
    "    if topic_id == -1:\n",
    "        continue\n",
    "    # Ambil 10 kata teratas untuk setiap topik\n",
    "    topic_keywords = [word for word, _ in topics[topic_id][:10]]\n",
    "    topic_words.append(topic_keywords)\n",
    "\n",
    "# 3. Buat dictionary dan corpus dari dokumen\n",
    "dictionary = Dictionary(tokenized_docs)\n",
    "corpus = [dictionary.doc2bow(doc) for doc in tokenized_docs]\n",
    "\n",
    "# 4. Hitung coherence\n",
    "coherence_model = CoherenceModel(\n",
    "    topics=topic_words,\n",
    "    texts=tokenized_docs,\n",
    "    dictionary=dictionary,\n",
    "    coherence='c_v'  # bisa juga 'u_mass', 'c_uci', 'c_npmi'\n",
    ")\n",
    "\n",
    "coherence_score = coherence_model.get_coherence()\n",
    "print(f\"✅ Coherence Score (c_v): {coherence_score:.4f}\")\n"
   ]
  },
  {
   "cell_type": "code",
   "execution_count": 36,
   "id": "1d816b8a",
   "metadata": {},
   "outputs": [
    {
     "name": "stderr",
     "output_type": "stream",
     "text": [
      "[nltk_data] Downloading package punkt to /Users/divaoncom/nltk_data...\n",
      "[nltk_data]   Package punkt is already up-to-date!\n",
      "[nltk_data] Downloading package stopwords to\n",
      "[nltk_data]     /Users/divaoncom/nltk_data...\n",
      "[nltk_data]   Package stopwords is already up-to-date!\n"
     ]
    },
    {
     "data": {
      "text/plain": [
       "True"
      ]
     },
     "execution_count": 36,
     "metadata": {},
     "output_type": "execute_result"
    }
   ],
   "source": [
    "import ssl\n",
    "import nltk\n",
    "\n",
    "try:\n",
    "    _create_unverified_https_context = ssl._create_unverified_context\n",
    "except AttributeError:\n",
    "    pass\n",
    "else:\n",
    "    ssl._create_default_https_context = _create_unverified_https_context\n",
    "\n",
    "# Sekarang bisa download\n",
    "nltk.download('punkt')\n",
    "nltk.download('stopwords')\n"
   ]
  },
  {
   "cell_type": "markdown",
   "id": "8de47f17",
   "metadata": {},
   "source": [
    "# BERTOPIC with DBI"
   ]
  },
  {
   "cell_type": "code",
   "execution_count": 18,
   "id": "df23a172",
   "metadata": {},
   "outputs": [
    {
     "data": {
      "application/vnd.jupyter.widget-view+json": {
       "model_id": "4ee438e7959146858b4fd3635d24b661",
       "version_major": 2,
       "version_minor": 0
      },
      "text/plain": [
       "Batches:   0%|          | 0/39 [00:00<?, ?it/s]"
      ]
     },
     "metadata": {},
     "output_type": "display_data"
    },
    {
     "name": "stderr",
     "output_type": "stream",
     "text": [
      "2025-07-31 12:52:32,156 - BERTopic - WARNING: Using a custom list of topic assignments may lead to errors if topic reduction techniques are used afterwards. Make sure that manually assigning topics is the last step in the pipeline.Note that topic embeddings will also be created through weightedc-TF-IDF embeddings instead of centroid embeddings.\n",
      "2025-07-31 12:52:44,718 - BERTopic - WARNING: Using a custom list of topic assignments may lead to errors if topic reduction techniques are used afterwards. Make sure that manually assigning topics is the last step in the pipeline.Note that topic embeddings will also be created through weightedc-TF-IDF embeddings instead of centroid embeddings.\n",
      "2025-07-31 12:52:52,305 - BERTopic - WARNING: Using a custom list of topic assignments may lead to errors if topic reduction techniques are used afterwards. Make sure that manually assigning topics is the last step in the pipeline.Note that topic embeddings will also be created through weightedc-TF-IDF embeddings instead of centroid embeddings.\n",
      "2025-07-31 12:52:58,626 - BERTopic - WARNING: Using a custom list of topic assignments may lead to errors if topic reduction techniques are used afterwards. Make sure that manually assigning topics is the last step in the pipeline.Note that topic embeddings will also be created through weightedc-TF-IDF embeddings instead of centroid embeddings.\n",
      "2025-07-31 12:53:05,583 - BERTopic - WARNING: Using a custom list of topic assignments may lead to errors if topic reduction techniques are used afterwards. Make sure that manually assigning topics is the last step in the pipeline.Note that topic embeddings will also be created through weightedc-TF-IDF embeddings instead of centroid embeddings.\n",
      "2025-07-31 12:53:11,519 - BERTopic - WARNING: Using a custom list of topic assignments may lead to errors if topic reduction techniques are used afterwards. Make sure that manually assigning topics is the last step in the pipeline.Note that topic embeddings will also be created through weightedc-TF-IDF embeddings instead of centroid embeddings.\n",
      "2025-07-31 12:53:15,792 - BERTopic - WARNING: Using a custom list of topic assignments may lead to errors if topic reduction techniques are used afterwards. Make sure that manually assigning topics is the last step in the pipeline.Note that topic embeddings will also be created through weightedc-TF-IDF embeddings instead of centroid embeddings.\n",
      "2025-07-31 12:53:19,015 - BERTopic - WARNING: Using a custom list of topic assignments may lead to errors if topic reduction techniques are used afterwards. Make sure that manually assigning topics is the last step in the pipeline.Note that topic embeddings will also be created through weightedc-TF-IDF embeddings instead of centroid embeddings.\n",
      "2025-07-31 12:53:21,717 - BERTopic - WARNING: Using a custom list of topic assignments may lead to errors if topic reduction techniques are used afterwards. Make sure that manually assigning topics is the last step in the pipeline.Note that topic embeddings will also be created through weightedc-TF-IDF embeddings instead of centroid embeddings.\n"
     ]
    },
    {
     "name": "stdout",
     "output_type": "stream",
     "text": [
      "Top 5 konfigurasi terbaik:\n",
      "   min_cluster_size  min_samples       dbi  noise_ratio  num_topics\n",
      "0                 5            3  2.864286         0.35          77\n",
      "1                 5            5  3.147260         0.43          48\n",
      "4                10            5  3.489536         0.40          30\n",
      "3                10            3  3.734552         0.32          36\n",
      "2                 5           10  3.736815         0.41          22\n",
      "\n",
      "Total review: 1241\n",
      "Jumlah review dengan topic -1 (noise): 436\n",
      "Persentase noise: 35.13%\n"
     ]
    }
   ],
   "source": [
    "# Import library\n",
    "import pandas as pd\n",
    "import numpy as np\n",
    "from hdbscan import HDBSCAN\n",
    "from bertopic import BERTopic\n",
    "from bertopic.representation import MaximalMarginalRelevance\n",
    "from sklearn.metrics import davies_bouldin_score\n",
    "from sentence_transformers import SentenceTransformer\n",
    "from langdetect import detect, DetectorFactory\n",
    "import warnings\n",
    "\n",
    "warnings.filterwarnings(\"ignore\")\n",
    "DetectorFactory.seed = 0\n",
    "\n",
    "# 1. Baca dan filter review bahasa Inggris\n",
    "df = pd.read_csv(\"embedding_umap.csv\")\n",
    "df = df[df[\"cleaned_reviews\"].notnull()]\n",
    "df = df[df[\"cleaned_reviews\"].str.strip() != \"\"]\n",
    "df = df[df[\"cleaned_reviews\"].apply(lambda x: isinstance(x, str))]\n",
    "df[\"lang\"] = df[\"cleaned_reviews\"].apply(lambda x: detect(x) if len(x.strip()) > 5 else \"unknown\")\n",
    "df = df[df[\"lang\"] == \"en\"]\n",
    "docs = df[\"cleaned_reviews\"].tolist()\n",
    "\n",
    "# 2. Embedding ulang\n",
    "embedding_model = SentenceTransformer(\"all-MiniLM-L6-v2\")\n",
    "embeddings = embedding_model.encode(docs, show_progress_bar=True)\n",
    "\n",
    "# 3. Representation model MMR\n",
    "representation_model = MaximalMarginalRelevance(diversity=0.3, top_n_words=30)\n",
    "\n",
    "# 4. Grid search parameter HDBSCAN\n",
    "results = []\n",
    "for min_cluster_size in [5, 10, 20]:\n",
    "    for min_samples in [3, 5, 10]:\n",
    "        try:\n",
    "            hdbscan_model = HDBSCAN(min_cluster_size=min_cluster_size,\n",
    "                                    min_samples=min_samples,\n",
    "                                    metric=\"euclidean\",\n",
    "                                    prediction_data=True)\n",
    "            model = BERTopic(\n",
    "                hdbscan_model=hdbscan_model,\n",
    "                embedding_model=embedding_model,\n",
    "                representation_model=representation_model,\n",
    "                calculate_probabilities=True,\n",
    "                verbose=False\n",
    "            )\n",
    "\n",
    "            topics, probs = model.fit_transform(docs, embeddings)\n",
    "\n",
    "            # Reduce outlier dengan strategi probabilities\n",
    "            reduced_topics = model.reduce_outliers(docs, topics,\n",
    "                                                   strategy=\"probabilities\",\n",
    "                                                   probabilities=probs,\n",
    "                                                   threshold=0.1)\n",
    "\n",
    "            # Update topic model dengan topik yang telah dikurangi outlier-nya\n",
    "            model.update_topics(docs, topics=reduced_topics,\n",
    "                                representation_model=representation_model)\n",
    "\n",
    "            labels = np.array(reduced_topics)\n",
    "            valid_mask = labels != -1\n",
    "\n",
    "            if valid_mask.sum() > 1:\n",
    "                dbi = davies_bouldin_score(np.array(embeddings)[valid_mask], labels[valid_mask])\n",
    "            else:\n",
    "                dbi = np.nan\n",
    "\n",
    "            noise_ratio = round(1 - valid_mask.mean(), 2)\n",
    "            results.append({\n",
    "                \"min_cluster_size\": min_cluster_size,\n",
    "                \"min_samples\": min_samples,\n",
    "                \"dbi\": dbi,\n",
    "                \"noise_ratio\": noise_ratio,\n",
    "                \"num_topics\": len(set(labels)) - (1 if -1 in labels else 0),\n",
    "                \"model\": model,\n",
    "                \"topics\": reduced_topics\n",
    "            })\n",
    "        except Exception as e:\n",
    "            print(f\"❌ Error at mcs={min_cluster_size}, ms={min_samples}: {e}\")\n",
    "\n",
    "# 5. Evaluasi hasil\n",
    "df_results = pd.DataFrame([{\n",
    "    \"min_cluster_size\": r[\"min_cluster_size\"],\n",
    "    \"min_samples\": r[\"min_samples\"],\n",
    "    \"dbi\": r[\"dbi\"],\n",
    "    \"noise_ratio\": r[\"noise_ratio\"],\n",
    "    \"num_topics\": r[\"num_topics\"]\n",
    "} for r in results if r[\"noise_ratio\"] <= 0.5])\n",
    "\n",
    "print(\"Top 5 konfigurasi terbaik:\")\n",
    "print(df_results.sort_values(by=\"dbi\").head())\n",
    "\n",
    "# 6. Gunakan model terbaik\n",
    "if df_results.empty:\n",
    "    raise ValueError(\"Tidak ditemukan konfigurasi dengan noise_ratio ≤ 0.5\")\n",
    "\n",
    "best_result = sorted([r for r in results if r[\"noise_ratio\"] <= 0.5], key=lambda x: x[\"dbi\"])[0]\n",
    "final_model = best_result[\"model\"]\n",
    "final_topics = best_result[\"topics\"]\n",
    "\n",
    "# 7. Simpan hasil topik tiap review\n",
    "df[\"topic\"] = final_topics\n",
    "df.to_csv(\"hasil_topic_assignment.csv\", index=False)\n",
    "\n",
    "# 8. Simpan daftar topik dan keyword-nya (dengan MMR)\n",
    "topic_keywords = []\n",
    "for tid in final_model.get_topic_info()[\"Topic\"]:\n",
    "    if tid == -1:\n",
    "        continue\n",
    "    kws = final_model.get_topic(tid)\n",
    "    topic_keywords.append({\n",
    "        \"topic\": tid,\n",
    "        \"keywords\": \", \".join([word for word, _ in kws])\n",
    "    })\n",
    "\n",
    "pd.DataFrame(topic_keywords).to_csv(\"daftar_topik_keywords_mmr.csv\", index=False)\n",
    "\n",
    "# 9. Ringkasan\n",
    "print(f\"\\nTotal review: {len(docs)}\")\n",
    "print(f\"Jumlah review dengan topic -1 (noise): {(np.array(final_topics) == -1).sum()}\")\n",
    "print(f\"Persentase noise: {round((np.array(final_topics) == -1).mean() * 100, 2)}%\")\n"
   ]
  },
  {
   "cell_type": "code",
   "execution_count": 19,
   "id": "90d3f42e",
   "metadata": {},
   "outputs": [
    {
     "name": "stdout",
     "output_type": "stream",
     "text": [
      "Total review: 1241\n",
      "Jumlah review dengan topic -1 (noise): 436\n",
      "Persentase noise: 35.13%\n"
     ]
    }
   ],
   "source": [
    "import pandas as pd\n",
    "\n",
    "df = pd.read_csv(\"hasil_topic_assignment.csv\")\n",
    "\n",
    "total_reviews = len(df)\n",
    "noise_reviews = (df[\"topic\"] == -1).sum()\n",
    "\n",
    "noise_ratio = noise_reviews/ total_reviews * 100\n",
    "\n",
    "print(f\"Total review: {total_reviews}\")\n",
    "print(f\"Jumlah review dengan topic -1 (noise): {noise_reviews}\")\n",
    "print(f\"Persentase noise: {noise_ratio:.2f}%\")"
   ]
  },
  {
   "cell_type": "markdown",
   "id": "1fcfe1a0",
   "metadata": {},
   "source": [
    "# BERTopic, DBI, with hierarchical clustering"
   ]
  },
  {
   "cell_type": "code",
   "execution_count": 27,
   "id": "4cdc9efb",
   "metadata": {},
   "outputs": [
    {
     "data": {
      "application/vnd.jupyter.widget-view+json": {
       "model_id": "fe629a0cebb54d69acef8c5d98ae0cbf",
       "version_major": 2,
       "version_minor": 0
      },
      "text/plain": [
       "Batches:   0%|          | 0/39 [00:00<?, ?it/s]"
      ]
     },
     "metadata": {},
     "output_type": "display_data"
    },
    {
     "name": "stderr",
     "output_type": "stream",
     "text": [
      "2025-07-31 14:10:30,520 - BERTopic - WARNING: Using a custom list of topic assignments may lead to errors if topic reduction techniques are used afterwards. Make sure that manually assigning topics is the last step in the pipeline.Note that topic embeddings will also be created through weightedc-TF-IDF embeddings instead of centroid embeddings.\n",
      "2025-07-31 14:10:43,478 - BERTopic - WARNING: Using a custom list of topic assignments may lead to errors if topic reduction techniques are used afterwards. Make sure that manually assigning topics is the last step in the pipeline.Note that topic embeddings will also be created through weightedc-TF-IDF embeddings instead of centroid embeddings.\n",
      "2025-07-31 14:10:52,676 - BERTopic - WARNING: Using a custom list of topic assignments may lead to errors if topic reduction techniques are used afterwards. Make sure that manually assigning topics is the last step in the pipeline.Note that topic embeddings will also be created through weightedc-TF-IDF embeddings instead of centroid embeddings.\n",
      "2025-07-31 14:11:01,203 - BERTopic - WARNING: Using a custom list of topic assignments may lead to errors if topic reduction techniques are used afterwards. Make sure that manually assigning topics is the last step in the pipeline.Note that topic embeddings will also be created through weightedc-TF-IDF embeddings instead of centroid embeddings.\n",
      "2025-07-31 14:11:10,305 - BERTopic - WARNING: Using a custom list of topic assignments may lead to errors if topic reduction techniques are used afterwards. Make sure that manually assigning topics is the last step in the pipeline.Note that topic embeddings will also be created through weightedc-TF-IDF embeddings instead of centroid embeddings.\n",
      "2025-07-31 14:11:17,920 - BERTopic - WARNING: Using a custom list of topic assignments may lead to errors if topic reduction techniques are used afterwards. Make sure that manually assigning topics is the last step in the pipeline.Note that topic embeddings will also be created through weightedc-TF-IDF embeddings instead of centroid embeddings.\n",
      "2025-07-31 14:11:22,792 - BERTopic - WARNING: Using a custom list of topic assignments may lead to errors if topic reduction techniques are used afterwards. Make sure that manually assigning topics is the last step in the pipeline.Note that topic embeddings will also be created through weightedc-TF-IDF embeddings instead of centroid embeddings.\n",
      "2025-07-31 14:11:27,520 - BERTopic - WARNING: Using a custom list of topic assignments may lead to errors if topic reduction techniques are used afterwards. Make sure that manually assigning topics is the last step in the pipeline.Note that topic embeddings will also be created through weightedc-TF-IDF embeddings instead of centroid embeddings.\n",
      "2025-07-31 14:11:30,839 - BERTopic - WARNING: Using a custom list of topic assignments may lead to errors if topic reduction techniques are used afterwards. Make sure that manually assigning topics is the last step in the pipeline.Note that topic embeddings will also be created through weightedc-TF-IDF embeddings instead of centroid embeddings.\n"
     ]
    },
    {
     "name": "stdout",
     "output_type": "stream",
     "text": [
      "Persentase noise akhir: 34.73%\n"
     ]
    }
   ],
   "source": [
    "import pandas as pd\n",
    "import numpy as np\n",
    "from bertopic import BERTopic\n",
    "from bertopic.representation import MaximalMarginalRelevance\n",
    "from hdbscan import HDBSCAN\n",
    "from sklearn.metrics import davies_bouldin_score\n",
    "from sentence_transformers import SentenceTransformer\n",
    "from langdetect import detect, DetectorFactory\n",
    "import warnings\n",
    "\n",
    "warnings.filterwarnings(\"ignore\")\n",
    "DetectorFactory.seed = 0\n",
    "\n",
    "# Baca dan filter data bahasa Inggris\n",
    "df = pd.read_csv(\"embedding_umap.csv\")\n",
    "mask = df[\"cleaned_reviews\"].notnull() & df[\"cleaned_reviews\"].str.strip().astype(bool)\n",
    "df = df[mask & df[\"cleaned_reviews\"].apply(lambda x: isinstance(x, str))]\n",
    "df[\"lang\"] = df[\"cleaned_reviews\"].apply(lambda x: detect(x) if len(x.strip()) > 5 else \"unknown\")\n",
    "df = df[df[\"lang\"] == \"en\"]\n",
    "docs = df[\"cleaned_reviews\"].tolist()\n",
    "\n",
    "emb_model = SentenceTransformer(\"all-MiniLM-L6-v2\")\n",
    "embeddings = emb_model.encode(docs, show_progress_bar=True)\n",
    "\n",
    "rep_model = MaximalMarginalRelevance(diversity=0.3, top_n_words=30)\n",
    "\n",
    "results = []\n",
    "for mcs in [5, 10, 20]:\n",
    "    for ms in [3, 5, 10]:\n",
    "        try:\n",
    "            hdb = HDBSCAN(min_cluster_size=mcs, min_samples=ms, metric=\"euclidean\", prediction_data=True)\n",
    "            model = BERTopic(hdbscan_model=hdb,\n",
    "                             embedding_model=emb_model,\n",
    "                             representation_model=rep_model,\n",
    "                             calculate_probabilities=True,\n",
    "                             verbose=False)\n",
    "            topics, probs = model.fit_transform(docs, embeddings)\n",
    "            reduced = model.reduce_outliers(docs, topics,\n",
    "                                            strategy=\"probabilities\",\n",
    "                                            probabilities=probs,\n",
    "                                            threshold=0.1)\n",
    "            model.update_topics(docs, topics=reduced, representation_model=rep_model)\n",
    "\n",
    "            labels = np.array(reduced)\n",
    "            valid = labels != -1\n",
    "            dbi = davies_bouldin_score(embeddings[valid], labels[valid]) if valid.sum() > 1 else np.nan\n",
    "            noise = round(1 - valid.mean(), 2)\n",
    "            results.append((dbi, noise, model, reduced))\n",
    "        except Exception:\n",
    "            continue\n",
    "\n",
    "cands = [r for r in results if r[1] <= 0.5]\n",
    "if not cands:\n",
    "    raise ValueError(\"Tidak ditemukan model dengan noise ≤ 50%\")\n",
    "best = sorted(cands, key=lambda x: x[0])[0]\n",
    "final_model, final_topics = best[2], np.array(best[3])\n",
    "\n",
    "df[\"topic\"] = final_topics\n",
    "df.to_csv(\"hasil_topic_assignment.csv\", index=False)\n",
    "\n",
    "topic_keywords = [\n",
    "    {\"topic\": tid, \"keywords\": \", \".join([w for w, _ in final_model.get_topic(tid)])}\n",
    "    for tid in final_model.get_topic_info()[\"Topic\"] if tid != -1\n",
    "]\n",
    "pd.DataFrame(topic_keywords).to_csv(\"daftar_topik_keywords_mmr.csv\", index=False)\n",
    "\n",
    "noise_count = int((final_topics == -1).sum())\n",
    "noise_percent = round(noise_count / len(final_topics) * 100, 2)\n",
    "print(f\"Persentase noise akhir: {noise_percent}%\")"
   ]
  },
  {
   "cell_type": "code",
   "execution_count": 32,
   "id": "1ce96a7b",
   "metadata": {},
   "outputs": [
    {
     "data": {
      "application/vnd.jupyter.widget-view+json": {
       "model_id": "560ab6640d564e9888a38abaa43e151e",
       "version_major": 2,
       "version_minor": 0
      },
      "text/plain": [
       "Batches:   0%|          | 0/39 [00:00<?, ?it/s]"
      ]
     },
     "metadata": {},
     "output_type": "display_data"
    },
    {
     "name": "stderr",
     "output_type": "stream",
     "text": [
      "2025-07-31 14:20:27,500 - BERTopic - WARNING: Using a custom list of topic assignments may lead to errors if topic reduction techniques are used afterwards. Make sure that manually assigning topics is the last step in the pipeline.Note that topic embeddings will also be created through weightedc-TF-IDF embeddings instead of centroid embeddings.\n",
      "2025-07-31 14:20:40,115 - BERTopic - WARNING: Using a custom list of topic assignments may lead to errors if topic reduction techniques are used afterwards. Make sure that manually assigning topics is the last step in the pipeline.Note that topic embeddings will also be created through weightedc-TF-IDF embeddings instead of centroid embeddings.\n",
      "2025-07-31 14:20:47,745 - BERTopic - WARNING: Using a custom list of topic assignments may lead to errors if topic reduction techniques are used afterwards. Make sure that manually assigning topics is the last step in the pipeline.Note that topic embeddings will also be created through weightedc-TF-IDF embeddings instead of centroid embeddings.\n",
      "2025-07-31 14:20:54,351 - BERTopic - WARNING: Using a custom list of topic assignments may lead to errors if topic reduction techniques are used afterwards. Make sure that manually assigning topics is the last step in the pipeline.Note that topic embeddings will also be created through weightedc-TF-IDF embeddings instead of centroid embeddings.\n",
      "2025-07-31 14:21:02,946 - BERTopic - WARNING: Using a custom list of topic assignments may lead to errors if topic reduction techniques are used afterwards. Make sure that manually assigning topics is the last step in the pipeline.Note that topic embeddings will also be created through weightedc-TF-IDF embeddings instead of centroid embeddings.\n",
      "2025-07-31 14:21:10,409 - BERTopic - WARNING: Using a custom list of topic assignments may lead to errors if topic reduction techniques are used afterwards. Make sure that manually assigning topics is the last step in the pipeline.Note that topic embeddings will also be created through weightedc-TF-IDF embeddings instead of centroid embeddings.\n",
      "2025-07-31 14:21:15,312 - BERTopic - WARNING: Using a custom list of topic assignments may lead to errors if topic reduction techniques are used afterwards. Make sure that manually assigning topics is the last step in the pipeline.Note that topic embeddings will also be created through weightedc-TF-IDF embeddings instead of centroid embeddings.\n",
      "2025-07-31 14:21:18,908 - BERTopic - WARNING: Using a custom list of topic assignments may lead to errors if topic reduction techniques are used afterwards. Make sure that manually assigning topics is the last step in the pipeline.Note that topic embeddings will also be created through weightedc-TF-IDF embeddings instead of centroid embeddings.\n",
      "2025-07-31 14:21:22,150 - BERTopic - WARNING: Using a custom list of topic assignments may lead to errors if topic reduction techniques are used afterwards. Make sure that manually assigning topics is the last step in the pipeline.Note that topic embeddings will also be created through weightedc-TF-IDF embeddings instead of centroid embeddings.\n"
     ]
    },
    {
     "name": "stdout",
     "output_type": "stream",
     "text": [
      "Persentase noise akhir: 31.18%\n"
     ]
    }
   ],
   "source": [
    "import pandas as pd\n",
    "import numpy as np\n",
    "from bertopic import BERTopic\n",
    "from bertopic.representation import MaximalMarginalRelevance\n",
    "from hdbscan import HDBSCAN\n",
    "from sklearn.metrics import davies_bouldin_score\n",
    "from sentence_transformers import SentenceTransformer\n",
    "from langdetect import detect, DetectorFactory\n",
    "import warnings\n",
    "\n",
    "warnings.filterwarnings(\"ignore\")\n",
    "DetectorFactory.seed = 0\n",
    "\n",
    "df = pd.read_csv(\"embedding_umap.csv\")\n",
    "df = df[df[\"cleaned_reviews\"].notnull() & df[\"cleaned_reviews\"].str.strip().astype(bool)]\n",
    "df = df[df[\"cleaned_reviews\"].apply(lambda x: isinstance(x, str))]\n",
    "df[\"lang\"] = df[\"cleaned_reviews\"].apply(lambda x: detect(x) if len(x.strip()) > 5 else \"unknown\")\n",
    "df = df[df[\"lang\"] == \"en\"]\n",
    "docs = df[\"cleaned_reviews\"].tolist()\n",
    "\n",
    "emb_model = SentenceTransformer(\"all-MiniLM-L6-v2\")\n",
    "embeddings = emb_model.encode(docs, show_progress_bar=True)\n",
    "\n",
    "rep_model = MaximalMarginalRelevance(diversity=0.3, top_n_words=30)\n",
    "\n",
    "results = []\n",
    "for mcs in [5, 10, 20]:\n",
    "    for ms in [3, 5, 10]:\n",
    "        try:\n",
    "            hdb = HDBSCAN(min_cluster_size=mcs, min_samples=ms, metric=\"euclidean\", prediction_data=True)\n",
    "            model = BERTopic(hdbscan_model=hdb, embedding_model=emb_model,\n",
    "                             representation_model=rep_model, calculate_probabilities=True, verbose=False)\n",
    "            topics, probs = model.fit_transform(docs, embeddings)\n",
    "            reduced = model.reduce_outliers(docs, topics,\n",
    "                                            strategy=\"probabilities\", probabilities=probs, threshold=0.1)\n",
    "            model.update_topics(docs, topics=reduced, representation_model=rep_model)\n",
    "\n",
    "            labels = np.array(reduced)\n",
    "            valid = labels != -1\n",
    "            dbi = davies_bouldin_score(embeddings[valid], labels[valid]) if valid.sum() > 1 else np.nan\n",
    "            noise = round(1 - valid.mean(), 2)\n",
    "            results.append((dbi, noise, model, reduced))\n",
    "        except Exception:\n",
    "            continue\n",
    "\n",
    "cands = [r for r in results if r[1] <= 0.5]\n",
    "if not cands:\n",
    "    raise ValueError(\"Tidak ditemukan model dengan noise ≤ 50%\")\n",
    "best = sorted(cands, key=lambda x: x[0])[0]\n",
    "final_model, final_topics = best[2], np.array(best[3])\n",
    "\n",
    "df[\"topic\"] = final_topics\n",
    "df.to_csv(\"hasil_topic_assignment.csv\", index=False)\n",
    "\n",
    "topic_keywords = [\n",
    "    {\"topic\": tid, \"keywords\": \", \".join([w for w, _ in final_model.get_topic(tid)])}\n",
    "    for tid in final_model.get_topic_info()[\"Topic\"] if tid != -1\n",
    "]\n",
    "pd.DataFrame(topic_keywords).to_csv(\"daftar_topik_keywords_mmr.csv\", index=False)\n",
    "\n",
    "noise_count = int((final_topics == -1).sum())\n",
    "noise_percent = round(noise_count / len(final_topics) * 100, 2)\n",
    "print(f\"Persentase noise akhir: {noise_percent}%\")\n"
   ]
  },
  {
   "cell_type": "code",
   "execution_count": 47,
   "id": "c9598496",
   "metadata": {},
   "outputs": [
    {
     "name": "stderr",
     "output_type": "stream",
     "text": [
      "  0%|          | 0/76 [00:00<?, ?it/s]"
     ]
    },
    {
     "name": "stderr",
     "output_type": "stream",
     "text": [
      "100%|██████████| 76/76 [00:10<00:00,  7.56it/s]\n"
     ]
    },
    {
     "data": {
      "text/html": [
       "        <script type=\"text/javascript\">\n",
       "        window.PlotlyConfig = {MathJaxConfig: 'local'};\n",
       "        if (window.MathJax && window.MathJax.Hub && window.MathJax.Hub.Config) {window.MathJax.Hub.Config({SVG: {font: \"STIX-Web\"}});}\n",
       "        </script>\n",
       "        <script type=\"module\">import \"https://cdn.plot.ly/plotly-3.0.0.min\"</script>\n",
       "        "
      ]
     },
     "metadata": {},
     "output_type": "display_data"
    },
    {
     "data": {
      "application/vnd.plotly.v1+json": {
       "config": {
        "plotlyServerURL": "https://plot.ly"
       },
       "data": [
        {
         "hoverinfo": "text",
         "marker": {
          "color": "rgb(61,153,112)"
         },
         "mode": "lines",
         "text": [
          "telltale_adventure_puzzle_borderland_discover",
          "",
          "",
          "puzzle_plot_outer_style_art"
         ],
         "type": "scatter",
         "x": {
          "bdata": "AAAAAAAAAABetLzDt0bnP160vMO3Ruc/AAAAAAAAAAA=",
          "dtype": "f8"
         },
         "xaxis": "x",
         "y": {
          "bdata": "AAAAAAAALsAAAAAAAAAuwAAAAAAAADnAAAAAAAAAOcA=",
          "dtype": "f8"
         },
         "yaxis": "y"
        },
        {
         "hoverinfo": "text",
         "marker": {
          "color": "rgb(61,153,112)"
         },
         "mode": "lines",
         "text": [
          "puzzle_telltale_plot_adventure_think",
          "",
          "",
          "back_screen_fade_backtrack_puzzle"
         ],
         "type": "scatter",
         "x": {
          "bdata": "XrS8w7dG5z87VNTxTWjsPztU1PFNaOw/AAAAAAAAAAA=",
          "dtype": "f8"
         },
         "xaxis": "x",
         "y": {
          "bdata": "AAAAAAAANMAAAAAAAAA0wAAAAAAAgEHAAAAAAACAQcA=",
          "dtype": "f8"
         },
         "yaxis": "y"
        },
        {
         "hoverinfo": "text",
         "marker": {
          "color": "rgb(61,153,112)"
         },
         "mode": "lines",
         "text": [
          "puzzle_toward_snipping_screenn_puzzles",
          "",
          "",
          "puzzle_telltale_plot_adventure_like"
         ],
         "type": "scatter",
         "x": {
          "bdata": "AAAAAAAAAABDW7A8JwztP0NbsDwnDO0/O1TU8U1o7D8=",
          "dtype": "f8"
         },
         "xaxis": "x",
         "y": {
          "bdata": "AAAAAAAAFMAAAAAAAAAUwAAAAAAAgDvAAAAAAACAO8A=",
          "dtype": "f8"
         },
         "yaxis": "y"
        },
        {
         "hoverinfo": "text",
         "marker": {
          "color": "rgb(255,65,54)"
         },
         "mode": "lines",
         "text": [
          "row_saint_jalopy_merrily_chapter",
          "",
          "",
          "review_overpowered_rally_reviewer_positive"
         ],
         "type": "scatter",
         "x": {
          "bdata": "AAAAAAAAAADpuBh8RYDqP+m4GHxFgOo/AAAAAAAAAAA=",
          "dtype": "f8"
         },
         "xaxis": "x",
         "y": {
          "bdata": "AAAAAACARsAAAAAAAIBGwAAAAAAAgEvAAAAAAACAS8A=",
          "dtype": "f8"
         },
         "yaxis": "y"
        },
        {
         "hoverinfo": "text",
         "marker": {
          "color": "rgb(255,65,54)"
         },
         "mode": "lines",
         "text": [
          "defense_mech_xcom_interesting_several",
          "",
          "",
          "shoot_lynch_camera_rifle_gun"
         ],
         "type": "scatter",
         "x": {
          "bdata": "AAAAAAAAAADFtb9eMSzoP8W1v14xLOg/AAAAAAAAAAA=",
          "dtype": "f8"
         },
         "xaxis": "x",
         "y": {
          "bdata": "AAAAAABAUMAAAAAAAEBQwAAAAAAAwFLAAAAAAADAUsA=",
          "dtype": "f8"
         },
         "yaxis": "y"
        },
        {
         "hoverinfo": "text",
         "marker": {
          "color": "rgb(255,65,54)"
         },
         "mode": "lines",
         "text": [
          "content_release_season_forgive_review",
          "",
          "",
          "character_feel_game_make_like"
         ],
         "type": "scatter",
         "x": {
          "bdata": "AAAAAAAAAAAio3iZppfgPyKjeJmml+A/AAAAAAAAAAA=",
          "dtype": "f8"
         },
         "xaxis": "x",
         "y": {
          "bdata": "AAAAAABAVcAAAAAAAEBVwAAAAAAAwFfAAAAAAADAV8A=",
          "dtype": "f8"
         },
         "yaxis": "y"
        },
        {
         "hoverinfo": "text",
         "marker": {
          "color": "rgb(255,65,54)"
         },
         "mode": "lines",
         "text": [
          "character_game_feel_like_make",
          "",
          "",
          "story_writing_gameplay_cutscene_borderland"
         ],
         "type": "scatter",
         "x": {
          "bdata": "IqN4maaX4D8Z9f6RjUPlPxn1/pGNQ+U/AAAAAAAAAAA=",
          "dtype": "f8"
         },
         "xaxis": "x",
         "y": {
          "bdata": "AAAAAACAVsAAAAAAAIBWwAAAAAAAQFrAAAAAAABAWsA=",
          "dtype": "f8"
         },
         "yaxis": "y"
        },
        {
         "hoverinfo": "text",
         "marker": {
          "color": "rgb(255,65,54)"
         },
         "mode": "lines",
         "text": [
          "character_feel_game_story_like",
          "",
          "",
          "duel_genre_modification_game_two"
         ],
         "type": "scatter",
         "x": {
          "bdata": "GfX+kY1D5T+x+6T8F7XnP7H7pPwXtec/AAAAAAAAAAA=",
          "dtype": "f8"
         },
         "xaxis": "x",
         "y": {
          "bdata": "AAAAAABgWMAAAAAAAGBYwAAAAAAAwFzAAAAAAADAXMA=",
          "dtype": "f8"
         },
         "yaxis": "y"
        },
        {
         "hoverinfo": "text",
         "marker": {
          "color": "rgb(255,65,54)"
         },
         "mode": "lines",
         "text": [
          "shoot_camera_lynch_match_defense",
          "",
          "",
          "game_character_story_feel_like"
         ],
         "type": "scatter",
         "x": {
          "bdata": "xbW/XjEs6D/pGsS4H8roP+kaxLgfyug/sfuk/Be15z8=",
          "dtype": "f8"
         },
         "xaxis": "x",
         "y": {
          "bdata": "AAAAAACAUcAAAAAAAIBRwAAAAAAAkFrAAAAAAACQWsA=",
          "dtype": "f8"
         },
         "yaxis": "y"
        },
        {
         "hoverinfo": "text",
         "marker": {
          "color": "rgb(255,65,54)"
         },
         "mode": "lines",
         "text": [
          "friend_enjoyable_magick_solo_wish",
          "",
          "",
          "check_girl_game_fcking_play"
         ],
         "type": "scatter",
         "x": {
          "bdata": "AAAAAAAAAAC75XiIJAHpP7vleIgkAek/AAAAAAAAAAA=",
          "dtype": "f8"
         },
         "xaxis": "x",
         "y": {
          "bdata": "AAAAAABAX8AAAAAAAEBfwAAAAAAA4GDAAAAAAADgYMA=",
          "dtype": "f8"
         },
         "yaxis": "y"
        },
        {
         "hoverinfo": "text",
         "marker": {
          "color": "rgb(255,65,54)"
         },
         "mode": "lines",
         "text": [
          "game_character_like_feel_story",
          "",
          "",
          "game_board_play_fun_friend"
         ],
         "type": "scatter",
         "x": {
          "bdata": "6RrEuB/K6D90Y8YRN13qP3RjxhE3Xeo/u+V4iCQB6T8=",
          "dtype": "f8"
         },
         "xaxis": "x",
         "y": {
          "bdata": "AAAAAAAIVsAAAAAAAAhWwAAAAAAAQGDAAAAAAABAYMA=",
          "dtype": "f8"
         },
         "yaxis": "y"
        },
        {
         "hoverinfo": "text",
         "marker": {
          "color": "rgb(255,65,54)"
         },
         "mode": "lines",
         "text": [
          "cry_far_zombie_fc_mod",
          "",
          "",
          "fallout_mod_rpgs_bethesda_use"
         ],
         "type": "scatter",
         "x": {
          "bdata": "AAAAAAAAAAAm+shuEmDrPyb6yG4SYOs/AAAAAAAAAAA=",
          "dtype": "f8"
         },
         "xaxis": "x",
         "y": {
          "bdata": "AAAAAAAgYsAAAAAAACBiwAAAAAAAYGPAAAAAAABgY8A=",
          "dtype": "f8"
         },
         "yaxis": "y"
        },
        {
         "hoverinfo": "text",
         "marker": {
          "color": "rgb(255,65,54)"
         },
         "mode": "lines",
         "text": [
          "game_like_character_feel_make",
          "",
          "",
          "fallout_mod_cry_far_zombie"
         ],
         "type": "scatter",
         "x": {
          "bdata": "dGPGETdd6j/ZuKJWYB3sP9m4olZgHew/JvrIbhJg6z8=",
          "dtype": "f8"
         },
         "xaxis": "x",
         "y": {
          "bdata": "AAAAAABEW8AAAAAAAERbwAAAAAAAwGLAAAAAAADAYsA=",
          "dtype": "f8"
         },
         "yaxis": "y"
        },
        {
         "hoverinfo": "text",
         "marker": {
          "color": "rgb(255,65,54)"
         },
         "mode": "lines",
         "text": [
          "row_review_saint_jalopy_merrily",
          "",
          "",
          "game_like_feel_character_make"
         ],
         "type": "scatter",
         "x": {
          "bdata": "6bgYfEWA6j/f+XZENdjsP9/5dkQ12Ow/2biiVmAd7D8=",
          "dtype": "f8"
         },
         "xaxis": "x",
         "y": {
          "bdata": "AAAAAAAAScAAAAAAAABJwAAAAAAAMWDAAAAAAAAxYMA=",
          "dtype": "f8"
         },
         "yaxis": "y"
        },
        {
         "hoverinfo": "text",
         "marker": {
          "color": "rgb(255,65,54)"
         },
         "mode": "lines",
         "text": [
          "devs_grind_zombie_legacy_project",
          "",
          "",
          "city_builder_scenario_building_skyline"
         ],
         "type": "scatter",
         "x": {
          "bdata": "AAAAAAAAAAA0tP7zG2DpPzS0/vMbYOk/AAAAAAAAAAA=",
          "dtype": "f8"
         },
         "xaxis": "x",
         "y": {
          "bdata": "AAAAAACgZMAAAAAAAKBkwAAAAAAA4GXAAAAAAADgZcA=",
          "dtype": "f8"
         },
         "yaxis": "y"
        },
        {
         "hoverinfo": "text",
         "marker": {
          "color": "rgb(255,65,54)"
         },
         "mode": "lines",
         "text": [
          "game_like_feel_make_character",
          "",
          "",
          "city_building_builder_devs_survive"
         ],
         "type": "scatter",
         "x": {
          "bdata": "3/l2RDXY7D8o1UOxxTTtPyjVQ7HFNO0/NLT+8xtg6T8=",
          "dtype": "f8"
         },
         "xaxis": "x",
         "y": {
          "bdata": "AAAAAABxVsAAAAAAAHFWwAAAAAAAQGXAAAAAAABAZcA=",
          "dtype": "f8"
         },
         "yaxis": "y"
        },
        {
         "hoverinfo": "text",
         "marker": {
          "color": "rgb(35,205,205)"
         },
         "mode": "lines",
         "text": [
          "train_spire_slay_face_deck",
          "",
          "",
          "card_deck_match_outcome_unlock"
         ],
         "type": "scatter",
         "x": {
          "bdata": "AAAAAAAAAAAGWWT7kdvlPwZZZPuR2+U/AAAAAAAAAAA=",
          "dtype": "f8"
         },
         "xaxis": "x",
         "y": {
          "bdata": "AAAAAAAgZ8AAAAAAACBnwAAAAAAAYGjAAAAAAABgaMA=",
          "dtype": "f8"
         },
         "yaxis": "y"
        },
        {
         "hoverinfo": "text",
         "marker": {
          "color": "rgb(35,205,205)"
         },
         "mode": "lines",
         "text": [
          "card_deck_match_outcome_unlock",
          "",
          "",
          "card_play_battle_free_rival"
         ],
         "type": "scatter",
         "x": {
          "bdata": "Bllk+5Hb5T9KJyussULpP0onK6yxQuk/AAAAAAAAAAA=",
          "dtype": "f8"
         },
         "xaxis": "x",
         "y": {
          "bdata": "AAAAAADAZ8AAAAAAAMBnwAAAAAAAoGnAAAAAAACgacA=",
          "dtype": "f8"
         },
         "yaxis": "y"
        },
        {
         "hoverinfo": "text",
         "marker": {
          "color": "rgb(0,116,217)"
         },
         "mode": "lines",
         "text": [
          "game_like_feel_make_get",
          "",
          "",
          "card_deck_match_outcome_unlock"
         ],
         "type": "scatter",
         "x": {
          "bdata": "KNVDscU07T88f4C2GF7wPzx/gLYYXvA/SicrrLFC6T8=",
          "dtype": "f8"
         },
         "xaxis": "x",
         "y": {
          "bdata": "AAAAAEA8YMAAAAAAQDxgwAAAAAAAsGjAAAAAAACwaMA=",
          "dtype": "f8"
         },
         "yaxis": "y"
        },
        {
         "hoverinfo": "text",
         "marker": {
          "color": "rgb(0,116,217)"
         },
         "mode": "lines",
         "text": [
          "puzzle_telltale_plot_adventure_one",
          "",
          "",
          "game_like_make_feel_get"
         ],
         "type": "scatter",
         "x": {
          "bdata": "Q1uwPCcM7T/+qPOj8ezwP/6o86Px7PA/PH+Athhe8D8=",
          "dtype": "f8"
         },
         "xaxis": "x",
         "y": {
          "bdata": "AAAAAABAMMAAAAAAAEAwwAAAAAAgdmTAAAAAACB2ZMA=",
          "dtype": "f8"
         },
         "yaxis": "y"
        },
        {
         "hoverinfo": "text",
         "marker": {
          "color": "rgb(133,20,75)"
         },
         "mode": "lines",
         "text": [
          "coop_couch_funcreepy_ridiculous_singleplayer",
          "",
          "",
          "disconnect_microsoft_misson_fix_online"
         ],
         "type": "scatter",
         "x": {
          "bdata": "AAAAAAAAAAAwOk43oLDqPzA6TjegsOo/AAAAAAAAAAA=",
          "dtype": "f8"
         },
         "xaxis": "x",
         "y": {
          "bdata": "AAAAAADgasAAAAAAAOBqwAAAAAAAIGzAAAAAAAAgbMA=",
          "dtype": "f8"
         },
         "yaxis": "y"
        },
        {
         "hoverinfo": "text",
         "marker": {
          "color": "rgb(255,220,0)"
         },
         "mode": "lines",
         "text": [
          "ea_warhammer_crash_mouse_infest",
          "",
          "",
          "crash_desktop_problem_dx_contact"
         ],
         "type": "scatter",
         "x": {
          "bdata": "AAAAAAAAAAAwp7CtMBvqPzCnsK0wG+o/AAAAAAAAAAA=",
          "dtype": "f8"
         },
         "xaxis": "x",
         "y": {
          "bdata": "AAAAAABgbcAAAAAAAGBtwAAAAAAAoG7AAAAAAACgbsA=",
          "dtype": "f8"
         },
         "yaxis": "y"
        },
        {
         "hoverinfo": "text",
         "marker": {
          "color": "rgb(255,220,0)"
         },
         "mode": "lines",
         "text": [
          "frame_per_second_slowmo_launcher",
          "",
          "",
          "pc_console_file_port_ceo"
         ],
         "type": "scatter",
         "x": {
          "bdata": "AAAAAAAAAAB2rAy2FsLpP3asDLYWwuk/AAAAAAAAAAA=",
          "dtype": "f8"
         },
         "xaxis": "x",
         "y": {
          "bdata": "AAAAAADgb8AAAAAAAOBvwAAAAAAAkHDAAAAAAACQcMA=",
          "dtype": "f8"
         },
         "yaxis": "y"
        },
        {
         "hoverinfo": "text",
         "marker": {
          "color": "rgb(255,220,0)"
         },
         "mode": "lines",
         "text": [
          "crash_ea_problem_desktop_fix",
          "",
          "",
          "frame_per_second_pc_console"
         ],
         "type": "scatter",
         "x": {
          "bdata": "MKewrTAb6j85yyo55KnvPznLKjnkqe8/dqwMthbC6T8=",
          "dtype": "f8"
         },
         "xaxis": "x",
         "y": {
          "bdata": "AAAAAAAAbsAAAAAAAABuwAAAAAAAQHDAAAAAAABAcMA=",
          "dtype": "f8"
         },
         "yaxis": "y"
        },
        {
         "hoverinfo": "text",
         "marker": {
          "color": "rgb(0,116,217)"
         },
         "mode": "lines",
         "text": [
          "coop_disconnect_online_microsoft_misson",
          "",
          "",
          "frame_crash_per_second_file"
         ],
         "type": "scatter",
         "x": {
          "bdata": "MDpON6Cw6j84E9SG78jwPzgT1IbvyPA/OcsqOeSp7z8=",
          "dtype": "f8"
         },
         "xaxis": "x",
         "y": {
          "bdata": "AAAAAACAa8AAAAAAAIBrwAAAAAAAQG/AAAAAAABAb8A=",
          "dtype": "f8"
         },
         "yaxis": "y"
        },
        {
         "hoverinfo": "text",
         "marker": {
          "color": "rgb(40,35,35)"
         },
         "mode": "lines",
         "text": [
          "ban_server_admittedly_mandatory_discord",
          "",
          "",
          "csgo_css_cs_server_npc"
         ],
         "type": "scatter",
         "x": {
          "bdata": "AAAAAAAAAAB8DHXWTKDsP3wMddZMoOw/AAAAAAAAAAA=",
          "dtype": "f8"
         },
         "xaxis": "x",
         "y": {
          "bdata": "AAAAAAAwccAAAAAAADBxwAAAAAAA0HHAAAAAAADQccA=",
          "dtype": "f8"
         },
         "yaxis": "y"
        },
        {
         "hoverinfo": "text",
         "marker": {
          "color": "rgb(40,35,35)"
         },
         "mode": "lines",
         "text": [
          "multiplayer_server_favourite_mode_napoleonic",
          "",
          "",
          "halo_multiplayer_quake_overwatch_series"
         ],
         "type": "scatter",
         "x": {
          "bdata": "AAAAAAAAAACJh3k+JmzpP4mHeT4mbOk/AAAAAAAAAAA=",
          "dtype": "f8"
         },
         "xaxis": "x",
         "y": {
          "bdata": "AAAAAABwcsAAAAAAAHBywAAAAAAAEHPAAAAAAAAQc8A=",
          "dtype": "f8"
         },
         "yaxis": "y"
        },
        {
         "hoverinfo": "text",
         "marker": {
          "color": "rgb(40,35,35)"
         },
         "mode": "lines",
         "text": [
          "server_ban_community_css_csgo",
          "",
          "",
          "multiplayer_halo_quake_overwatch_series"
         ],
         "type": "scatter",
         "x": {
          "bdata": "fAx11kyg7D/hJnYsBJfuP+EmdiwEl+4/iYd5PiZs6T8=",
          "dtype": "f8"
         },
         "xaxis": "x",
         "y": {
          "bdata": "AAAAAACAccAAAAAAAIBxwAAAAAAAwHLAAAAAAADAcsA=",
          "dtype": "f8"
         },
         "yaxis": "y"
        },
        {
         "hoverinfo": "text",
         "marker": {
          "color": "rgb(61,153,112)"
         },
         "mode": "lines",
         "text": [
          "valve_hacker_free_rank_purchase",
          "",
          "",
          "free_downloadable_content_pay_campaign"
         ],
         "type": "scatter",
         "x": {
          "bdata": "AAAAAAAAAACK038+vXrsP4rTfz69euw/AAAAAAAAAAA=",
          "dtype": "f8"
         },
         "xaxis": "x",
         "y": {
          "bdata": "AAAAAABQdMAAAAAAAFB0wAAAAAAA8HTAAAAAAADwdMA=",
          "dtype": "f8"
         },
         "yaxis": "y"
        },
        {
         "hoverinfo": "text",
         "marker": {
          "color": "rgb(61,153,112)"
         },
         "mode": "lines",
         "text": [
          "hacker_ass_laugh_deployment_cupcake",
          "",
          "",
          "free_downloadable_content_pay_valve"
         ],
         "type": "scatter",
         "x": {
          "bdata": "AAAAAAAAAADHF688wy7uP8cXrzzDLu4/itN/Pr167D8=",
          "dtype": "f8"
         },
         "xaxis": "x",
         "y": {
          "bdata": "AAAAAACwc8AAAAAAALBzwAAAAAAAoHTAAAAAAACgdMA=",
          "dtype": "f8"
         },
         "yaxis": "y"
        },
        {
         "hoverinfo": "text",
         "marker": {
          "color": "rgb(255,65,54)"
         },
         "mode": "lines",
         "text": [
          "achievement_peace_invasion_chaos_combat",
          "",
          "",
          "unit_war_commander_relic_skin"
         ],
         "type": "scatter",
         "x": {
          "bdata": "AAAAAAAAAACAD1xAsdDqP4APXECx0Oo/AAAAAAAAAAA=",
          "dtype": "f8"
         },
         "xaxis": "x",
         "y": {
          "bdata": "AAAAAAAwdsAAAAAAADB2wAAAAAAA0HbAAAAAAADQdsA=",
          "dtype": "f8"
         },
         "yaxis": "y"
        },
        {
         "hoverinfo": "text",
         "marker": {
          "color": "rgb(255,65,54)"
         },
         "mode": "lines",
         "text": [
          "buggy_sr_break_ending_parkour",
          "",
          "",
          "unit_war_achievement_peace_invasion"
         ],
         "type": "scatter",
         "x": {
          "bdata": "AAAAAAAAAADEgrLo5X/tP8SCsujlf+0/gA9cQLHQ6j8=",
          "dtype": "f8"
         },
         "xaxis": "x",
         "y": {
          "bdata": "AAAAAACQdcAAAAAAAJB1wAAAAAAAgHbAAAAAAACAdsA=",
          "dtype": "f8"
         },
         "yaxis": "y"
        },
        {
         "hoverinfo": "text",
         "marker": {
          "color": "rgb(255,65,54)"
         },
         "mode": "lines",
         "text": [
          "unit_war_achievement_break_peace",
          "",
          "",
          "wish_retribution_barney_shoulda_painkiller"
         ],
         "type": "scatter",
         "x": {
          "bdata": "xIKy6OV/7T+IXdZ80eHuP4hd1nzR4e4/AAAAAAAAAAA=",
          "dtype": "f8"
         },
         "xaxis": "x",
         "y": {
          "bdata": "AAAAAAAIdsAAAAAAAAh2wAAAAAAAcHfAAAAAAABwd8A=",
          "dtype": "f8"
         },
         "yaxis": "y"
        },
        {
         "hoverinfo": "text",
         "marker": {
          "color": "rgb(0,116,217)"
         },
         "mode": "lines",
         "text": [
          "free_hacker_downloadable_pay_content",
          "",
          "",
          "unit_war_break_achievement_chaos"
         ],
         "type": "scatter",
         "x": {
          "bdata": "xxevPMMu7j+4H1TpSQHwP7gfVOlJAfA/iF3WfNHh7j8=",
          "dtype": "f8"
         },
         "xaxis": "x",
         "y": {
          "bdata": "AAAAAAAodMAAAAAAACh0wAAAAAAAvHbAAAAAAAC8dsA=",
          "dtype": "f8"
         },
         "yaxis": "y"
        },
        {
         "hoverinfo": "text",
         "marker": {
          "color": "rgb(0,116,217)"
         },
         "mode": "lines",
         "text": [
          "multiplayer_server_halo_quake_community",
          "",
          "",
          "free_downloadable_unit_content_war"
         ],
         "type": "scatter",
         "x": {
          "bdata": "4SZ2LASX7j9qBh3WcITwP2oGHdZwhPA/uB9U6UkB8D8=",
          "dtype": "f8"
         },
         "xaxis": "x",
         "y": {
          "bdata": "AAAAAAAgcsAAAAAAACBywAAAAAAAcnXAAAAAAABydcA=",
          "dtype": "f8"
         },
         "yaxis": "y"
        },
        {
         "hoverinfo": "text",
         "marker": {
          "color": "rgb(0,116,217)"
         },
         "mode": "lines",
         "text": [
          "crash_per_frame_second_coop",
          "",
          "",
          "multiplayer_halo_server_free_game"
         ],
         "type": "scatter",
         "x": {
          "bdata": "OBPUhu/I8D+cuKQWbITxP5y4pBZshPE/agYd1nCE8D8=",
          "dtype": "f8"
         },
         "xaxis": "x",
         "y": {
          "bdata": "AAAAAABgbcAAAAAAAGBtwAAAAAAAyXPAAAAAAADJc8A=",
          "dtype": "f8"
         },
         "yaxis": "y"
        },
        {
         "hoverinfo": "text",
         "marker": {
          "color": "rgb(35,205,205)"
         },
         "mode": "lines",
         "text": [
          "buy_refund_abandonware_clownshow_steamstore",
          "",
          "",
          "buy_pe_efootball_sale_weary"
         ],
         "type": "scatter",
         "x": {
          "bdata": "AAAAAAAAAADmXYqQ6ArpP+ZdipDoCuk/AAAAAAAAAAA=",
          "dtype": "f8"
         },
         "xaxis": "x",
         "y": {
          "bdata": "AAAAAACweMAAAAAAALB4wAAAAAAAUHnAAAAAAABQecA=",
          "dtype": "f8"
         },
         "yaxis": "y"
        },
        {
         "hoverinfo": "text",
         "marker": {
          "color": "rgb(35,205,205)"
         },
         "mode": "lines",
         "text": [
          "buy_sale_efootball_pe_refund",
          "",
          "",
          "buy_favor_ace_expensive_addition"
         ],
         "type": "scatter",
         "x": {
          "bdata": "5l2KkOgK6T/BK+uZzGjqP8Er65nMaOo/AAAAAAAAAAA=",
          "dtype": "f8"
         },
         "xaxis": "x",
         "y": {
          "bdata": "AAAAAAAAecAAAAAAAAB5wAAAAAAA8HnAAAAAAADwecA=",
          "dtype": "f8"
         },
         "yaxis": "y"
        },
        {
         "hoverinfo": "text",
         "marker": {
          "color": "rgb(35,205,205)"
         },
         "mode": "lines",
         "text": [
          "price_epic_correctley_gall_abusive",
          "",
          "",
          "buy_sale_efootball_pe_refund"
         ],
         "type": "scatter",
         "x": {
          "bdata": "AAAAAAAAAABIF47I60HuP0gXjsjrQe4/wSvrmcxo6j8=",
          "dtype": "f8"
         },
         "xaxis": "x",
         "y": {
          "bdata": "AAAAAAAQeMAAAAAAABB4wAAAAAAAeHnAAAAAAAB4ecA=",
          "dtype": "f8"
         },
         "yaxis": "y"
        },
        {
         "hoverinfo": "text",
         "marker": {
          "color": "rgb(0,116,217)"
         },
         "mode": "lines",
         "text": [
          "crash_multiplayer_per_frame_game",
          "",
          "",
          "buy_sale_price_pe_efootball"
         ],
         "type": "scatter",
         "x": {
          "bdata": "nLikFmyE8T9DC2DAkAHzP0MLYMCQAfM/SBeOyOtB7j8=",
          "dtype": "f8"
         },
         "xaxis": "x",
         "y": {
          "bdata": "AAAAAIA8ccAAAAAAgDxxwAAAAAAAxHjAAAAAAADEeMA=",
          "dtype": "f8"
         },
         "yaxis": "y"
        },
        {
         "hoverinfo": "text",
         "marker": {
          "color": "rgb(61,153,112)"
         },
         "mode": "lines",
         "text": [
          "addict_addictive_oki_questalike_purely",
          "",
          "",
          "helldiver_awdeome_aweosme_border_creative"
         ],
         "type": "scatter",
         "x": {
          "bdata": "AAAAAAAAAAAwSAuwjVDtPzBIC7CNUO0/AAAAAAAAAAA=",
          "dtype": "f8"
         },
         "xaxis": "x",
         "y": {
          "bdata": "AAAAAACQesAAAAAAAJB6wAAAAAAAMHvAAAAAAAAwe8A=",
          "dtype": "f8"
         },
         "yaxis": "y"
        },
        {
         "hoverinfo": "text",
         "marker": {
          "color": "rgb(255,65,54)"
         },
         "mode": "lines",
         "text": [
          "soundtrack_dishonor_metal_besides_mix",
          "",
          "",
          "bioshock_masterpiece_orignal_kombat_metal"
         ],
         "type": "scatter",
         "x": {
          "bdata": "AAAAAAAAAACwnzSqg9vrP7CfNKqD2+s/AAAAAAAAAAA=",
          "dtype": "f8"
         },
         "xaxis": "x",
         "y": {
          "bdata": "AAAAAABwfMAAAAAAAHB8wAAAAAAAEH3AAAAAAAAQfcA=",
          "dtype": "f8"
         },
         "yaxis": "y"
        },
        {
         "hoverinfo": "text",
         "marker": {
          "color": "rgb(255,65,54)"
         },
         "mode": "lines",
         "text": [
          "mafia_vito_definitive_feel_joy",
          "",
          "",
          "bioshock_masterpiece_metal_orignal_kombat"
         ],
         "type": "scatter",
         "x": {
          "bdata": "AAAAAAAAAADbuXqOk83tP9u5eo6Tze0/sJ80qoPb6z8=",
          "dtype": "f8"
         },
         "xaxis": "x",
         "y": {
          "bdata": "AAAAAADQe8AAAAAAANB7wAAAAAAAwHzAAAAAAADAfMA=",
          "dtype": "f8"
         },
         "yaxis": "y"
        },
        {
         "hoverinfo": "text",
         "marker": {
          "color": "rgb(255,65,54)"
         },
         "mode": "lines",
         "text": [
          "mafia_bioshock_masterpiece_metal_orignal",
          "",
          "",
          "vr_narration_headset_great_quality"
         ],
         "type": "scatter",
         "x": {
          "bdata": "27l6jpPN7T9ltzV+XK7uP2W3NX5cru4/AAAAAAAAAAA=",
          "dtype": "f8"
         },
         "xaxis": "x",
         "y": {
          "bdata": "AAAAAABIfMAAAAAAAEh8wAAAAAAAsH3AAAAAAACwfcA=",
          "dtype": "f8"
         },
         "yaxis": "y"
        },
        {
         "hoverinfo": "text",
         "marker": {
          "color": "rgb(255,65,54)"
         },
         "mode": "lines",
         "text": [
          "fantastic_incredible_xen_drifter_fifa",
          "",
          "",
          "shot_fox_sniping_sniper_red"
         ],
         "type": "scatter",
         "x": {
          "bdata": "AAAAAAAAAAAGBIDmdIrtPwYEgOZ0iu0/AAAAAAAAAAA=",
          "dtype": "f8"
         },
         "xaxis": "x",
         "y": {
          "bdata": "AAAAAABQfsAAAAAAAFB+wAAAAAAA8H7AAAAAAADwfsA=",
          "dtype": "f8"
         },
         "yaxis": "y"
        },
        {
         "hoverinfo": "text",
         "marker": {
          "color": "rgb(255,65,54)"
         },
         "mode": "lines",
         "text": [
          "shot_sniping_fox_sniper_incredible",
          "",
          "",
          "assassin_creed_ezio_ezios_rome"
         ],
         "type": "scatter",
         "x": {
          "bdata": "BgSA5nSK7T80/000PwnvPzT/TTQ/Ce8/AAAAAAAAAAA=",
          "dtype": "f8"
         },
         "xaxis": "x",
         "y": {
          "bdata": "AAAAAACgfsAAAAAAAKB+wAAAAAAAkH/AAAAAAACQf8A=",
          "dtype": "f8"
         },
         "yaxis": "y"
        },
        {
         "hoverinfo": "text",
         "marker": {
          "color": "rgb(255,65,54)"
         },
         "mode": "lines",
         "text": [
          "vr_mafia_bioshock_masterpiece_great",
          "",
          "",
          "assassin_creed_shot_ezio_incredible"
         ],
         "type": "scatter",
         "x": {
          "bdata": "Zbc1flyu7j9R+SJnfHLvP1H5Imd8cu8/NP9NND8J7z8=",
          "dtype": "f8"
         },
         "xaxis": "x",
         "y": {
          "bdata": "AAAAAAD8fMAAAAAAAPx8wAAAAAAAGH/AAAAAAAAYf8A=",
          "dtype": "f8"
         },
         "yaxis": "y"
        },
        {
         "hoverinfo": "text",
         "marker": {
          "color": "rgb(255,65,54)"
         },
         "mode": "lines",
         "text": [
          "amazing_story_awesome_history_must",
          "",
          "",
          "awesome_relax_faff_great_unexpectedly"
         ],
         "type": "scatter",
         "x": {
          "bdata": "AAAAAAAAAADG04bN6vvpP8bThs3q++k/AAAAAAAAAAA=",
          "dtype": "f8"
         },
         "xaxis": "x",
         "y": {
          "bdata": "AAAAAAAYgMAAAAAAABiAwAAAAAAAaIDAAAAAAABogMA=",
          "dtype": "f8"
         },
         "yaxis": "y"
        },
        {
         "hoverinfo": "text",
         "marker": {
          "color": "rgb(255,65,54)"
         },
         "mode": "lines",
         "text": [
          "awesome_amazing_story_great_good",
          "",
          "",
          "relax_music_hangover_criminally_pikuniku"
         ],
         "type": "scatter",
         "x": {
          "bdata": "xtOGzer76T+zqC7azq3sP7OoLtrOrew/AAAAAAAAAAA=",
          "dtype": "f8"
         },
         "xaxis": "x",
         "y": {
          "bdata": "AAAAAABAgMAAAAAAAECAwAAAAAAAuIDAAAAAAAC4gMA=",
          "dtype": "f8"
         },
         "yaxis": "y"
        },
        {
         "hoverinfo": "text",
         "marker": {
          "color": "rgb(255,65,54)"
         },
         "mode": "lines",
         "text": [
          "awesome_amazing_relax_story_good",
          "",
          "",
          "hop_playground_play_stop_kindly"
         ],
         "type": "scatter",
         "x": {
          "bdata": "s6gu2s6t7D99eUROPm3uP315RE4+be4/AAAAAAAAAAA=",
          "dtype": "f8"
         },
         "xaxis": "x",
         "y": {
          "bdata": "AAAAAAB8gMAAAAAAAHyAwAAAAAAACIHAAAAAAAAIgcA=",
          "dtype": "f8"
         },
         "yaxis": "y"
        },
        {
         "hoverinfo": "text",
         "marker": {
          "color": "rgb(255,65,54)"
         },
         "mode": "lines",
         "text": [
          "vr_mafia_bioshock_great_assassin",
          "",
          "",
          "awesome_amazing_relax_good_story"
         ],
         "type": "scatter",
         "x": {
          "bdata": "UfkiZ3xy7z8cGIQHA7jvPxwYhAcDuO8/fXlETj5t7j8=",
          "dtype": "f8"
         },
         "xaxis": "x",
         "y": {
          "bdata": "AAAAAAAKfsAAAAAAAAp+wAAAAAAAwoDAAAAAAADCgMA=",
          "dtype": "f8"
         },
         "yaxis": "y"
        },
        {
         "hoverinfo": "text",
         "marker": {
          "color": "rgb(0,116,217)"
         },
         "mode": "lines",
         "text": [
          "addict_nearly_addictive_everyone_questalike",
          "",
          "",
          "vr_great_amazing_good_mafia"
         ],
         "type": "scatter",
         "x": {
          "bdata": "MEgLsI1Q7T8JRoIuXKbwPwlGgi5cpvA/HBiEBwO47z8=",
          "dtype": "f8"
         },
         "xaxis": "x",
         "y": {
          "bdata": "AAAAAADgesAAAAAAAOB6wAAAAAAAx3/AAAAAAADHf8A=",
          "dtype": "f8"
         },
         "yaxis": "y"
        },
        {
         "hoverinfo": "text",
         "marker": {
          "color": "rgb(35,205,205)"
         },
         "mode": "lines",
         "text": [
          "hour_supergiant_damn_throb_nuff",
          "",
          "",
          "hour_paint_average_beautiful_wait"
         ],
         "type": "scatter",
         "x": {
          "bdata": "AAAAAAAAAABGAhZs9bPqP0YCFmz1s+o/AAAAAAAAAAA=",
          "dtype": "f8"
         },
         "xaxis": "x",
         "y": {
          "bdata": "AAAAAABYgcAAAAAAAFiBwAAAAAAAqIHAAAAAAACogcA=",
          "dtype": "f8"
         },
         "yaxis": "y"
        },
        {
         "hoverinfo": "text",
         "marker": {
          "color": "rgb(35,205,205)"
         },
         "mode": "lines",
         "text": [
          "hour_paint_average_beautiful_wait",
          "",
          "",
          "rabbit_download_please_wreckf_pheasant"
         ],
         "type": "scatter",
         "x": {
          "bdata": "RgIWbPWz6j+aZuOujnvrP5pm466Oe+s/AAAAAAAAAAA=",
          "dtype": "f8"
         },
         "xaxis": "x",
         "y": {
          "bdata": "AAAAAACAgcAAAAAAAICBwAAAAAAA+IHAAAAAAAD4gcA=",
          "dtype": "f8"
         },
         "yaxis": "y"
        },
        {
         "hoverinfo": "text",
         "marker": {
          "color": "rgb(0,116,217)"
         },
         "mode": "lines",
         "text": [
          "vr_great_good_amazing_mafia",
          "",
          "",
          "hour_paint_average_short_beautiful"
         ],
         "type": "scatter",
         "x": {
          "bdata": "CUaCLlym8D8k5KF1PTDxPyTkoXU9MPE/mmbjro576z8=",
          "dtype": "f8"
         },
         "xaxis": "x",
         "y": {
          "bdata": "AAAAAIBTfcAAAAAAgFN9wAAAAAAAvIHAAAAAAAC8gcA=",
          "dtype": "f8"
         },
         "yaxis": "y"
        },
        {
         "hoverinfo": "text",
         "marker": {
          "color": "rgb(133,20,75)"
         },
         "mode": "lines",
         "text": [
          "eat_life_society_download_mewt",
          "",
          "",
          "half_life_source_welp_ahhh"
         ],
         "type": "scatter",
         "x": {
          "bdata": "AAAAAAAAAABo1uCv/5XqP2jW4K//leo/AAAAAAAAAAA=",
          "dtype": "f8"
         },
         "xaxis": "x",
         "y": {
          "bdata": "AAAAAABIgsAAAAAAAEiCwAAAAAAAmILAAAAAAACYgsA=",
          "dtype": "f8"
         },
         "yaxis": "y"
        },
        {
         "hoverinfo": "text",
         "marker": {
          "color": "rgb(255,220,0)"
         },
         "mode": "lines",
         "text": [
          "antidote_refreshing_simulation_prove_ghost",
          "",
          "",
          "shooter_person_shooting_looter_booster"
         ],
         "type": "scatter",
         "x": {
          "bdata": "AAAAAAAAAADXSe9B6YjtP9dJ70HpiO0/AAAAAAAAAAA=",
          "dtype": "f8"
         },
         "xaxis": "x",
         "y": {
          "bdata": "AAAAAADogsAAAAAAAOiCwAAAAAAAOIPAAAAAAAA4g8A=",
          "dtype": "f8"
         },
         "yaxis": "y"
        },
        {
         "hoverinfo": "text",
         "marker": {
          "color": "rgb(40,35,35)"
         },
         "mode": "lines",
         "text": [
          "horror_crysis_graphic_opinion_spec",
          "",
          "",
          "wolfenstein_nazi_gunslinger_juarez_shooter"
         ],
         "type": "scatter",
         "x": {
          "bdata": "AAAAAAAAAAAz19tAoxzqPzPX20CjHOo/AAAAAAAAAAA=",
          "dtype": "f8"
         },
         "xaxis": "x",
         "y": {
          "bdata": "AAAAAADYg8AAAAAAANiDwAAAAAAAKITAAAAAAAAohMA=",
          "dtype": "f8"
         },
         "yaxis": "y"
        },
        {
         "hoverinfo": "text",
         "marker": {
          "color": "rgb(40,35,35)"
         },
         "mode": "lines",
         "text": [
          "survivor_vampire_killers_masquerade_please",
          "",
          "",
          "wolfenstein_horror_nazi_gunslinger_shooter"
         ],
         "type": "scatter",
         "x": {
          "bdata": "AAAAAAAAAAB3lg0MHqbrP3eWDQwepus/M9fbQKMc6j8=",
          "dtype": "f8"
         },
         "xaxis": "x",
         "y": {
          "bdata": "AAAAAACIg8AAAAAAAIiDwAAAAAAAAITAAAAAAAAAhMA=",
          "dtype": "f8"
         },
         "yaxis": "y"
        },
        {
         "hoverinfo": "text",
         "marker": {
          "color": "rgb(40,35,35)"
         },
         "mode": "lines",
         "text": [
          "wolfenstein_horror_rise_nazi_gunslinger",
          "",
          "",
          "horror_creepy_psychological_survival_scary"
         ],
         "type": "scatter",
         "x": {
          "bdata": "d5YNDB6m6z80cUP40TbtPzRxQ/jRNu0/AAAAAAAAAAA=",
          "dtype": "f8"
         },
         "xaxis": "x",
         "y": {
          "bdata": "AAAAAADEg8AAAAAAAMSDwAAAAAAAeITAAAAAAAB4hMA=",
          "dtype": "f8"
         },
         "yaxis": "y"
        },
        {
         "hoverinfo": "text",
         "marker": {
          "color": "rgb(0,116,217)"
         },
         "mode": "lines",
         "text": [
          "shooter_person_shooting_antidote_refreshing",
          "",
          "",
          "horror_wolfenstein_rise_nazi_fun"
         ],
         "type": "scatter",
         "x": {
          "bdata": "10nvQemI7T8P6snjnEPwPw/qyeOcQ/A/NHFD+NE27T8=",
          "dtype": "f8"
         },
         "xaxis": "x",
         "y": {
          "bdata": "AAAAAAAQg8AAAAAAABCDwAAAAAAAHoTAAAAAAAAehMA=",
          "dtype": "f8"
         },
         "yaxis": "y"
        },
        {
         "hoverinfo": "text",
         "marker": {
          "color": "rgb(61,153,112)"
         },
         "mode": "lines",
         "text": [
          "remake_halflife_blue_shift_payne",
          "",
          "",
          "worth_def_pain_totally_fan"
         ],
         "type": "scatter",
         "x": {
          "bdata": "AAAAAAAAAABiiDbw4oDsP2KINvDigOw/AAAAAAAAAAA=",
          "dtype": "f8"
         },
         "xaxis": "x",
         "y": {
          "bdata": "AAAAAADIhMAAAAAAAMiEwAAAAAAAGIXAAAAAAAAYhcA=",
          "dtype": "f8"
         },
         "yaxis": "y"
        },
        {
         "hoverinfo": "text",
         "marker": {
          "color": "rgb(61,153,112)"
         },
         "mode": "lines",
         "text": [
          "hitman_boss_breadman_diana_plus",
          "",
          "",
          "soul_dark_otherwise_cardinal_wierdly"
         ],
         "type": "scatter",
         "x": {
          "bdata": "AAAAAAAAAABA5choBFDuP0DlyGgEUO4/AAAAAAAAAAA=",
          "dtype": "f8"
         },
         "xaxis": "x",
         "y": {
          "bdata": "AAAAAABohcAAAAAAAGiFwAAAAAAAuIXAAAAAAAC4hcA=",
          "dtype": "f8"
         },
         "yaxis": "y"
        },
        {
         "hoverinfo": "text",
         "marker": {
          "color": "rgb(61,153,112)"
         },
         "mode": "lines",
         "text": [
          "remake_worth_halflife_blue_shift",
          "",
          "",
          "hitman_soul_dark_boss_otherwise"
         ],
         "type": "scatter",
         "x": {
          "bdata": "Yog28OKA7D/R1NbxgubvP9HU1vGC5u8/QOXIaARQ7j8=",
          "dtype": "f8"
         },
         "xaxis": "x",
         "y": {
          "bdata": "AAAAAADwhMAAAAAAAPCEwAAAAAAAkIXAAAAAAACQhcA=",
          "dtype": "f8"
         },
         "yaxis": "y"
        },
        {
         "hoverinfo": "text",
         "marker": {
          "color": "rgb(255,65,54)"
         },
         "mode": "lines",
         "text": [
          "murder_accidentally_friend_ghost_scream",
          "",
          "",
          "girl_chase_house_rhody_coggin"
         ],
         "type": "scatter",
         "x": {
          "bdata": "AAAAAAAAAADmEUmppxzuP+YRSamnHO4/AAAAAAAAAAA=",
          "dtype": "f8"
         },
         "xaxis": "x",
         "y": {
          "bdata": "AAAAAABYhsAAAAAAAFiGwAAAAAAAqIbAAAAAAACohsA=",
          "dtype": "f8"
         },
         "yaxis": "y"
        },
        {
         "hoverinfo": "text",
         "marker": {
          "color": "rgb(255,65,54)"
         },
         "mode": "lines",
         "text": [
          "government_us_blow_aye_award",
          "",
          "",
          "murder_accidentally_friend_chase_scream"
         ],
         "type": "scatter",
         "x": {
          "bdata": "AAAAAAAAAACDRXWxQ4vvP4NFdbFDi+8/5hFJqacc7j8=",
          "dtype": "f8"
         },
         "xaxis": "x",
         "y": {
          "bdata": "AAAAAAAIhsAAAAAAAAiGwAAAAAAAgIbAAAAAAACAhsA=",
          "dtype": "f8"
         },
         "yaxis": "y"
        },
        {
         "hoverinfo": "text",
         "marker": {
          "color": "rgb(35,205,205)"
         },
         "mode": "lines",
         "text": [
          "classic_old_certify_comeback_surgeryd",
          "",
          "",
          "hype_doom_damn_hold_cherish"
         ],
         "type": "scatter",
         "x": {
          "bdata": "AAAAAAAAAABYkyVifxHuP1iTJWJ/Ee4/AAAAAAAAAAA=",
          "dtype": "f8"
         },
         "xaxis": "x",
         "y": {
          "bdata": "AAAAAAD4hsAAAAAAAPiGwAAAAAAASIfAAAAAAABIh8A=",
          "dtype": "f8"
         },
         "yaxis": "y"
        },
        {
         "hoverinfo": "text",
         "marker": {
          "color": "rgb(61,153,112)"
         },
         "mode": "lines",
         "text": [
          "gi_meat_straight_epic_loneliness",
          "",
          "",
          "hate_taxis_terraria_ig_eh"
         ],
         "type": "scatter",
         "x": {
          "bdata": "AAAAAAAAAAAJhCon1P3vPwmEKifU/e8/AAAAAAAAAAA=",
          "dtype": "f8"
         },
         "xaxis": "x",
         "y": {
          "bdata": "AAAAAACYh8AAAAAAAJiHwAAAAAAA6IfAAAAAAADoh8A=",
          "dtype": "f8"
         },
         "yaxis": "y"
        },
        {
         "hoverinfo": "text",
         "marker": {
          "color": "rgb(0,116,217)"
         },
         "mode": "lines",
         "text": [
          "hype_classic_doom_damn_hold",
          "",
          "",
          "hate_gi_meat_straight_epic"
         ],
         "type": "scatter",
         "x": {
          "bdata": "WJMlYn8R7j8nqHXlJi3wPyeodeUmLfA/CYQqJ9T97z8=",
          "dtype": "f8"
         },
         "xaxis": "x",
         "y": {
          "bdata": "AAAAAAAgh8AAAAAAACCHwAAAAAAAwIfAAAAAAADAh8A=",
          "dtype": "f8"
         },
         "yaxis": "y"
        },
        {
         "hoverinfo": "text",
         "marker": {
          "color": "rgb(0,116,217)"
         },
         "mode": "lines",
         "text": [
          "murder_government_us_accidentally_blow",
          "",
          "",
          "hate_hype_classic_doom_gi"
         ],
         "type": "scatter",
         "x": {
          "bdata": "g0V1sUOL7z8jYETQM3rwPyNgRNAzevA/J6h15SYt8D8=",
          "dtype": "f8"
         },
         "xaxis": "x",
         "y": {
          "bdata": "AAAAAABEhsAAAAAAAESGwAAAAAAAcIfAAAAAAABwh8A=",
          "dtype": "f8"
         },
         "yaxis": "y"
        },
        {
         "hoverinfo": "text",
         "marker": {
          "color": "rgb(0,116,217)"
         },
         "mode": "lines",
         "text": [
          "remake_hitman_soul_worth_dark",
          "",
          "",
          "murder_hate_friend_government_us"
         ],
         "type": "scatter",
         "x": {
          "bdata": "0dTW8YLm7z9zXM/l2sbwP3Ncz+XaxvA/I2BE0DN68D8=",
          "dtype": "f8"
         },
         "xaxis": "x",
         "y": {
          "bdata": "AAAAAABAhcAAAAAAAECFwAAAAAAA2obAAAAAAADahsA=",
          "dtype": "f8"
         },
         "yaxis": "y"
        },
        {
         "hoverinfo": "text",
         "marker": {
          "color": "rgb(0,116,217)"
         },
         "mode": "lines",
         "text": [
          "horror_shooter_wolfenstein_person_first",
          "",
          "",
          "remake_worth_hitman_soul_murder"
         ],
         "type": "scatter",
         "x": {
          "bdata": "D+rJ45xD8D8w8hx9HjDxPzDyHH0eMPE/c1zP5drG8D8=",
          "dtype": "f8"
         },
         "xaxis": "x",
         "y": {
          "bdata": "AAAAAACXg8AAAAAAAJeDwAAAAAAADYbAAAAAAAANhsA=",
          "dtype": "f8"
         },
         "yaxis": "y"
        },
        {
         "hoverinfo": "text",
         "marker": {
          "color": "rgb(0,116,217)"
         },
         "mode": "lines",
         "text": [
          "life_half_eat_society_download",
          "",
          "",
          "horror_shooter_classic_wolfenstein_fun"
         ],
         "type": "scatter",
         "x": {
          "bdata": "aNbgr/+V6j/nFpEGgp7xP+cWkQaCnvE/MPIcfR4w8T8=",
          "dtype": "f8"
         },
         "xaxis": "x",
         "y": {
          "bdata": "AAAAAABwgsAAAAAAAHCCwAAAAAAA0oTAAAAAAADShMA=",
          "dtype": "f8"
         },
         "yaxis": "y"
        },
        {
         "hoverinfo": "text",
         "marker": {
          "color": "rgb(0,116,217)"
         },
         "mode": "lines",
         "text": [
          "hour_story_good_beautiful_masterpiece",
          "",
          "",
          "life_horror_shooter_half_classic"
         ],
         "type": "scatter",
         "x": {
          "bdata": "JOShdT0w8T9gRG+1ll7yP2BEb7WWXvI/5xaRBoKe8T8=",
          "dtype": "f8"
         },
         "xaxis": "x",
         "y": {
          "bdata": "AAAAAOAygMAAAAAA4DKAwAAAAAAAoYPAAAAAAAChg8A=",
          "dtype": "f8"
         },
         "yaxis": "y"
        },
        {
         "hoverinfo": "text",
         "marker": {
          "color": "rgb(0,116,217)"
         },
         "mode": "lines",
         "text": [
          "buy_crash_multiplayer_game_per",
          "",
          "",
          "good_story_great_hour_game"
         ],
         "type": "scatter",
         "x": {
          "bdata": "QwtgwJAB8z8RxLkADEv0PxHEuQAMS/Q/YERvtZZe8j8=",
          "dtype": "f8"
         },
         "xaxis": "x",
         "y": {
          "bdata": "AAAAAEAAdcAAAAAAQAB1wAAAAADw6YHAAAAAAPDpgcA=",
          "dtype": "f8"
         },
         "yaxis": "y"
        },
        {
         "hoverinfo": "text",
         "marker": {
          "color": "rgb(0,116,217)"
         },
         "mode": "lines",
         "text": [
          "game_like_make_get_feel",
          "",
          "",
          "game_good_buy_play_story"
         ],
         "type": "scatter",
         "x": {
          "bdata": "/qjzo/Hs8D8GjhQ/6p/4PwaOFD/qn/g/EcS5AAxL9D8=",
          "dtype": "f8"
         },
         "xaxis": "x",
         "y": {
          "bdata": "AAAAACB+VsAAAAAAIH5WwAAAAAAQanzAAAAAABBqfMA=",
          "dtype": "f8"
         },
         "yaxis": "y"
        },
        {
         "hoverinfo": "text",
         "hovertext": [
          "puzzle_telltale_plot_adventure_think",
          "character_game_feel_like_make",
          "character_feel_game_story_like",
          "shoot_camera_lynch_match_defense",
          "game_character_like_feel_story",
          "game_like_character_feel_make",
          "row_review_saint_jalopy_merrily",
          "game_like_feel_make_character",
          "card_deck_match_outcome_unlock",
          "game_like_feel_make_get",
          "puzzle_telltale_plot_adventure_one",
          "crash_ea_problem_desktop_fix",
          "coop_disconnect_online_microsoft_misson",
          "server_ban_community_css_csgo",
          "unit_war_achievement_break_peace",
          "free_hacker_downloadable_pay_content",
          "multiplayer_server_halo_quake_community",
          "crash_per_frame_second_coop",
          "buy_sale_efootball_pe_refund",
          "crash_multiplayer_per_frame_game",
          "mafia_bioshock_masterpiece_metal_orignal",
          "shot_sniping_fox_sniper_incredible",
          "vr_mafia_bioshock_masterpiece_great",
          "awesome_amazing_story_great_good",
          "awesome_amazing_relax_story_good",
          "vr_mafia_bioshock_great_assassin",
          "addict_nearly_addictive_everyone_questalike",
          "hour_paint_average_beautiful_wait",
          "vr_great_good_amazing_mafia",
          "wolfenstein_horror_rise_nazi_gunslinger",
          "shooter_person_shooting_antidote_refreshing",
          "remake_worth_halflife_blue_shift",
          "hype_classic_doom_damn_hold",
          "murder_government_us_accidentally_blow",
          "remake_hitman_soul_worth_dark",
          "horror_shooter_wolfenstein_person_first",
          "life_half_eat_society_download",
          "hour_story_good_beautiful_masterpiece",
          "buy_crash_multiplayer_game_per",
          "game_like_make_get_feel"
         ],
         "marker": {
          "color": "black"
         },
         "mode": "markers",
         "showlegend": false,
         "type": "scatter",
         "x": [
          0.7273825476637616,
          0.518512058018221,
          0.6644962169154126,
          0.7553946352542701,
          0.7746733292304643,
          0.8238787982146349,
          0.828158132911793,
          0.9013925873949197,
          0.6830530080794979,
          0.9126919233519049,
          0.9077335534410412,
          0.8158191101440249,
          0.8340607719599742,
          0.8945678890817272,
          0.9218625588292402,
          0.9432083306535269,
          0.9559346073521874,
          1.0490565554366196,
          0.7825815985733555,
          1.0948296436795664,
          0.9313447745133162,
          0.9231514455751728,
          0.9587843384776816,
          0.8120016111557724,
          0.8962167989132211,
          0.9827253355395361,
          0.9160831869469401,
          0.8344676123670716,
          1.0406152550461931,
          0.8640279994403518,
          0.9229627883708486,
          0.8907332126293677,
          0.9396359364442146,
          0.9857500520685537,
          0.9968886111661509,
          1.0165070436474968,
          0.8308103976366512,
          1.0742773623480923,
          1.1878821863799238,
          1.057847633778294
         ],
         "y": [
          -20,
          -90,
          -97.5,
          -70,
          -88.125,
          -109.0625,
          -50,
          -89.765625,
          -190,
          -129.8828125,
          -16.25,
          -240,
          -220,
          -280,
          -352.5,
          -322.5,
          -290,
          -235,
          -400,
          -275.78125,
          -452.5,
          -490,
          -463.75,
          -520,
          -527.5,
          -480.625,
          -430,
          -560,
          -469.21875,
          -632.5,
          -610,
          -670,
          -740,
          -712.5,
          -680,
          -626.875,
          -590,
          -518.359375,
          -336.015625,
          -89.970703125
         ]
        },
        {
         "hoverinfo": "text",
         "hovertext": [
          "puzzle_telltale_plot_adventure_like",
          "game_character_story_feel_like",
          "game_board_play_fun_friend",
          "fallout_mod_cry_far_zombie",
          "game_like_feel_character_make",
          "city_building_builder_devs_survive",
          "card_deck_match_outcome_unlock",
          "game_like_make_feel_get",
          "frame_per_second_pc_console",
          "frame_crash_per_second_file",
          "multiplayer_halo_quake_overwatch_series",
          "free_downloadable_content_pay_valve",
          "unit_war_achievement_peace_invasion",
          "unit_war_break_achievement_chaos",
          "free_downloadable_unit_content_war",
          "multiplayer_halo_server_free_game",
          "buy_sale_efootball_pe_refund",
          "buy_sale_price_pe_efootball",
          "bioshock_masterpiece_metal_orignal_kombat",
          "assassin_creed_shot_ezio_incredible",
          "awesome_amazing_relax_good_story",
          "vr_great_amazing_good_mafia",
          "hour_paint_average_short_beautiful",
          "wolfenstein_horror_nazi_gunslinger_shooter",
          "horror_wolfenstein_rise_nazi_fun",
          "hitman_soul_dark_boss_otherwise",
          "murder_accidentally_friend_chase_scream",
          "hate_gi_meat_straight_epic",
          "hate_hype_classic_doom_gi",
          "murder_hate_friend_government_us",
          "remake_worth_hitman_soul_murder",
          "horror_shooter_classic_wolfenstein_fun",
          "life_horror_shooter_half_classic",
          "good_story_great_hour_game",
          "game_good_buy_play_story"
         ],
         "marker": {
          "color": "black"
         },
         "mode": "markers",
         "showlegend": false,
         "type": "scatter",
         "x": [
          0.8877324794035596,
          0.7408561644041268,
          0.7813894906495799,
          0.8554775394221152,
          0.8785859768011292,
          0.7929820790792577,
          0.7893913614909505,
          1.0229727868063057,
          0.8049424701361108,
          0.98948870816671,
          0.794451829930254,
          0.8899828167619586,
          0.8379751450561201,
          0.9650657118062762,
          1.000314628066901,
          1.0323341716579315,
          0.8252928739760749,
          0.9455470006075553,
          0.8705461811377884,
          0.9698787709785166,
          0.9508353737508483,
          0.9912123820111023,
          0.8588326850687793,
          0.8159958140156277,
          0.912941918267768,
          0.9472677275254355,
          0.9409979158741038,
          0.9997349514925428,
          1.0110234225526342,
          1.0298345694955138,
          1.0485486008599565,
          1.0742478263119999,
          1.1011982208742042,
          1.1480929457941542,
          1.2683219936700463
         ],
         "y": [
          -27.5,
          -106.25,
          -130,
          -150,
          -129.53125,
          -170,
          -197.5,
          -163.69140625,
          -260,
          -250,
          -300,
          -330,
          -360,
          -363.75,
          -343.125,
          -316.5625,
          -407.5,
          -396.25,
          -460,
          -497.5,
          -536.25,
          -508.4375,
          -567.5,
          -640,
          -643.75,
          -690,
          -720,
          -760,
          -750,
          -731.25,
          -705.625,
          -666.25,
          -628.125,
          -573.2421875,
          -454.62890625
         ]
        }
       ],
       "layout": {
        "autosize": false,
        "height": 1355,
        "hoverlabel": {
         "bgcolor": "white",
         "font": {
          "family": "Rockwell",
          "size": 16
         }
        },
        "hovermode": "closest",
        "plot_bgcolor": "#ECEFF1",
        "showlegend": false,
        "template": {
         "data": {
          "bar": [
           {
            "error_x": {
             "color": "#2a3f5f"
            },
            "error_y": {
             "color": "#2a3f5f"
            },
            "marker": {
             "line": {
              "color": "white",
              "width": 0.5
             },
             "pattern": {
              "fillmode": "overlay",
              "size": 10,
              "solidity": 0.2
             }
            },
            "type": "bar"
           }
          ],
          "barpolar": [
           {
            "marker": {
             "line": {
              "color": "white",
              "width": 0.5
             },
             "pattern": {
              "fillmode": "overlay",
              "size": 10,
              "solidity": 0.2
             }
            },
            "type": "barpolar"
           }
          ],
          "carpet": [
           {
            "aaxis": {
             "endlinecolor": "#2a3f5f",
             "gridcolor": "#C8D4E3",
             "linecolor": "#C8D4E3",
             "minorgridcolor": "#C8D4E3",
             "startlinecolor": "#2a3f5f"
            },
            "baxis": {
             "endlinecolor": "#2a3f5f",
             "gridcolor": "#C8D4E3",
             "linecolor": "#C8D4E3",
             "minorgridcolor": "#C8D4E3",
             "startlinecolor": "#2a3f5f"
            },
            "type": "carpet"
           }
          ],
          "choropleth": [
           {
            "colorbar": {
             "outlinewidth": 0,
             "ticks": ""
            },
            "type": "choropleth"
           }
          ],
          "contour": [
           {
            "colorbar": {
             "outlinewidth": 0,
             "ticks": ""
            },
            "colorscale": [
             [
              0,
              "#0d0887"
             ],
             [
              0.1111111111111111,
              "#46039f"
             ],
             [
              0.2222222222222222,
              "#7201a8"
             ],
             [
              0.3333333333333333,
              "#9c179e"
             ],
             [
              0.4444444444444444,
              "#bd3786"
             ],
             [
              0.5555555555555556,
              "#d8576b"
             ],
             [
              0.6666666666666666,
              "#ed7953"
             ],
             [
              0.7777777777777778,
              "#fb9f3a"
             ],
             [
              0.8888888888888888,
              "#fdca26"
             ],
             [
              1,
              "#f0f921"
             ]
            ],
            "type": "contour"
           }
          ],
          "contourcarpet": [
           {
            "colorbar": {
             "outlinewidth": 0,
             "ticks": ""
            },
            "type": "contourcarpet"
           }
          ],
          "heatmap": [
           {
            "colorbar": {
             "outlinewidth": 0,
             "ticks": ""
            },
            "colorscale": [
             [
              0,
              "#0d0887"
             ],
             [
              0.1111111111111111,
              "#46039f"
             ],
             [
              0.2222222222222222,
              "#7201a8"
             ],
             [
              0.3333333333333333,
              "#9c179e"
             ],
             [
              0.4444444444444444,
              "#bd3786"
             ],
             [
              0.5555555555555556,
              "#d8576b"
             ],
             [
              0.6666666666666666,
              "#ed7953"
             ],
             [
              0.7777777777777778,
              "#fb9f3a"
             ],
             [
              0.8888888888888888,
              "#fdca26"
             ],
             [
              1,
              "#f0f921"
             ]
            ],
            "type": "heatmap"
           }
          ],
          "histogram": [
           {
            "marker": {
             "pattern": {
              "fillmode": "overlay",
              "size": 10,
              "solidity": 0.2
             }
            },
            "type": "histogram"
           }
          ],
          "histogram2d": [
           {
            "colorbar": {
             "outlinewidth": 0,
             "ticks": ""
            },
            "colorscale": [
             [
              0,
              "#0d0887"
             ],
             [
              0.1111111111111111,
              "#46039f"
             ],
             [
              0.2222222222222222,
              "#7201a8"
             ],
             [
              0.3333333333333333,
              "#9c179e"
             ],
             [
              0.4444444444444444,
              "#bd3786"
             ],
             [
              0.5555555555555556,
              "#d8576b"
             ],
             [
              0.6666666666666666,
              "#ed7953"
             ],
             [
              0.7777777777777778,
              "#fb9f3a"
             ],
             [
              0.8888888888888888,
              "#fdca26"
             ],
             [
              1,
              "#f0f921"
             ]
            ],
            "type": "histogram2d"
           }
          ],
          "histogram2dcontour": [
           {
            "colorbar": {
             "outlinewidth": 0,
             "ticks": ""
            },
            "colorscale": [
             [
              0,
              "#0d0887"
             ],
             [
              0.1111111111111111,
              "#46039f"
             ],
             [
              0.2222222222222222,
              "#7201a8"
             ],
             [
              0.3333333333333333,
              "#9c179e"
             ],
             [
              0.4444444444444444,
              "#bd3786"
             ],
             [
              0.5555555555555556,
              "#d8576b"
             ],
             [
              0.6666666666666666,
              "#ed7953"
             ],
             [
              0.7777777777777778,
              "#fb9f3a"
             ],
             [
              0.8888888888888888,
              "#fdca26"
             ],
             [
              1,
              "#f0f921"
             ]
            ],
            "type": "histogram2dcontour"
           }
          ],
          "mesh3d": [
           {
            "colorbar": {
             "outlinewidth": 0,
             "ticks": ""
            },
            "type": "mesh3d"
           }
          ],
          "parcoords": [
           {
            "line": {
             "colorbar": {
              "outlinewidth": 0,
              "ticks": ""
             }
            },
            "type": "parcoords"
           }
          ],
          "pie": [
           {
            "automargin": true,
            "type": "pie"
           }
          ],
          "scatter": [
           {
            "fillpattern": {
             "fillmode": "overlay",
             "size": 10,
             "solidity": 0.2
            },
            "type": "scatter"
           }
          ],
          "scatter3d": [
           {
            "line": {
             "colorbar": {
              "outlinewidth": 0,
              "ticks": ""
             }
            },
            "marker": {
             "colorbar": {
              "outlinewidth": 0,
              "ticks": ""
             }
            },
            "type": "scatter3d"
           }
          ],
          "scattercarpet": [
           {
            "marker": {
             "colorbar": {
              "outlinewidth": 0,
              "ticks": ""
             }
            },
            "type": "scattercarpet"
           }
          ],
          "scattergeo": [
           {
            "marker": {
             "colorbar": {
              "outlinewidth": 0,
              "ticks": ""
             }
            },
            "type": "scattergeo"
           }
          ],
          "scattergl": [
           {
            "marker": {
             "colorbar": {
              "outlinewidth": 0,
              "ticks": ""
             }
            },
            "type": "scattergl"
           }
          ],
          "scattermap": [
           {
            "marker": {
             "colorbar": {
              "outlinewidth": 0,
              "ticks": ""
             }
            },
            "type": "scattermap"
           }
          ],
          "scattermapbox": [
           {
            "marker": {
             "colorbar": {
              "outlinewidth": 0,
              "ticks": ""
             }
            },
            "type": "scattermapbox"
           }
          ],
          "scatterpolar": [
           {
            "marker": {
             "colorbar": {
              "outlinewidth": 0,
              "ticks": ""
             }
            },
            "type": "scatterpolar"
           }
          ],
          "scatterpolargl": [
           {
            "marker": {
             "colorbar": {
              "outlinewidth": 0,
              "ticks": ""
             }
            },
            "type": "scatterpolargl"
           }
          ],
          "scatterternary": [
           {
            "marker": {
             "colorbar": {
              "outlinewidth": 0,
              "ticks": ""
             }
            },
            "type": "scatterternary"
           }
          ],
          "surface": [
           {
            "colorbar": {
             "outlinewidth": 0,
             "ticks": ""
            },
            "colorscale": [
             [
              0,
              "#0d0887"
             ],
             [
              0.1111111111111111,
              "#46039f"
             ],
             [
              0.2222222222222222,
              "#7201a8"
             ],
             [
              0.3333333333333333,
              "#9c179e"
             ],
             [
              0.4444444444444444,
              "#bd3786"
             ],
             [
              0.5555555555555556,
              "#d8576b"
             ],
             [
              0.6666666666666666,
              "#ed7953"
             ],
             [
              0.7777777777777778,
              "#fb9f3a"
             ],
             [
              0.8888888888888888,
              "#fdca26"
             ],
             [
              1,
              "#f0f921"
             ]
            ],
            "type": "surface"
           }
          ],
          "table": [
           {
            "cells": {
             "fill": {
              "color": "#EBF0F8"
             },
             "line": {
              "color": "white"
             }
            },
            "header": {
             "fill": {
              "color": "#C8D4E3"
             },
             "line": {
              "color": "white"
             }
            },
            "type": "table"
           }
          ]
         },
         "layout": {
          "annotationdefaults": {
           "arrowcolor": "#2a3f5f",
           "arrowhead": 0,
           "arrowwidth": 1
          },
          "autotypenumbers": "strict",
          "coloraxis": {
           "colorbar": {
            "outlinewidth": 0,
            "ticks": ""
           }
          },
          "colorscale": {
           "diverging": [
            [
             0,
             "#8e0152"
            ],
            [
             0.1,
             "#c51b7d"
            ],
            [
             0.2,
             "#de77ae"
            ],
            [
             0.3,
             "#f1b6da"
            ],
            [
             0.4,
             "#fde0ef"
            ],
            [
             0.5,
             "#f7f7f7"
            ],
            [
             0.6,
             "#e6f5d0"
            ],
            [
             0.7,
             "#b8e186"
            ],
            [
             0.8,
             "#7fbc41"
            ],
            [
             0.9,
             "#4d9221"
            ],
            [
             1,
             "#276419"
            ]
           ],
           "sequential": [
            [
             0,
             "#0d0887"
            ],
            [
             0.1111111111111111,
             "#46039f"
            ],
            [
             0.2222222222222222,
             "#7201a8"
            ],
            [
             0.3333333333333333,
             "#9c179e"
            ],
            [
             0.4444444444444444,
             "#bd3786"
            ],
            [
             0.5555555555555556,
             "#d8576b"
            ],
            [
             0.6666666666666666,
             "#ed7953"
            ],
            [
             0.7777777777777778,
             "#fb9f3a"
            ],
            [
             0.8888888888888888,
             "#fdca26"
            ],
            [
             1,
             "#f0f921"
            ]
           ],
           "sequentialminus": [
            [
             0,
             "#0d0887"
            ],
            [
             0.1111111111111111,
             "#46039f"
            ],
            [
             0.2222222222222222,
             "#7201a8"
            ],
            [
             0.3333333333333333,
             "#9c179e"
            ],
            [
             0.4444444444444444,
             "#bd3786"
            ],
            [
             0.5555555555555556,
             "#d8576b"
            ],
            [
             0.6666666666666666,
             "#ed7953"
            ],
            [
             0.7777777777777778,
             "#fb9f3a"
            ],
            [
             0.8888888888888888,
             "#fdca26"
            ],
            [
             1,
             "#f0f921"
            ]
           ]
          },
          "colorway": [
           "#636efa",
           "#EF553B",
           "#00cc96",
           "#ab63fa",
           "#FFA15A",
           "#19d3f3",
           "#FF6692",
           "#B6E880",
           "#FF97FF",
           "#FECB52"
          ],
          "font": {
           "color": "#2a3f5f"
          },
          "geo": {
           "bgcolor": "white",
           "lakecolor": "white",
           "landcolor": "white",
           "showlakes": true,
           "showland": true,
           "subunitcolor": "#C8D4E3"
          },
          "hoverlabel": {
           "align": "left"
          },
          "hovermode": "closest",
          "mapbox": {
           "style": "light"
          },
          "paper_bgcolor": "white",
          "plot_bgcolor": "white",
          "polar": {
           "angularaxis": {
            "gridcolor": "#EBF0F8",
            "linecolor": "#EBF0F8",
            "ticks": ""
           },
           "bgcolor": "white",
           "radialaxis": {
            "gridcolor": "#EBF0F8",
            "linecolor": "#EBF0F8",
            "ticks": ""
           }
          },
          "scene": {
           "xaxis": {
            "backgroundcolor": "white",
            "gridcolor": "#DFE8F3",
            "gridwidth": 2,
            "linecolor": "#EBF0F8",
            "showbackground": true,
            "ticks": "",
            "zerolinecolor": "#EBF0F8"
           },
           "yaxis": {
            "backgroundcolor": "white",
            "gridcolor": "#DFE8F3",
            "gridwidth": 2,
            "linecolor": "#EBF0F8",
            "showbackground": true,
            "ticks": "",
            "zerolinecolor": "#EBF0F8"
           },
           "zaxis": {
            "backgroundcolor": "white",
            "gridcolor": "#DFE8F3",
            "gridwidth": 2,
            "linecolor": "#EBF0F8",
            "showbackground": true,
            "ticks": "",
            "zerolinecolor": "#EBF0F8"
           }
          },
          "shapedefaults": {
           "line": {
            "color": "#2a3f5f"
           }
          },
          "ternary": {
           "aaxis": {
            "gridcolor": "#DFE8F3",
            "linecolor": "#A2B1C6",
            "ticks": ""
           },
           "baxis": {
            "gridcolor": "#DFE8F3",
            "linecolor": "#A2B1C6",
            "ticks": ""
           },
           "bgcolor": "white",
           "caxis": {
            "gridcolor": "#DFE8F3",
            "linecolor": "#A2B1C6",
            "ticks": ""
           }
          },
          "title": {
           "x": 0.05
          },
          "xaxis": {
           "automargin": true,
           "gridcolor": "#EBF0F8",
           "linecolor": "#EBF0F8",
           "ticks": "",
           "title": {
            "standoff": 15
           },
           "zerolinecolor": "#EBF0F8",
           "zerolinewidth": 2
          },
          "yaxis": {
           "automargin": true,
           "gridcolor": "#EBF0F8",
           "linecolor": "#EBF0F8",
           "ticks": "",
           "title": {
            "standoff": 15
           },
           "zerolinecolor": "#EBF0F8",
           "zerolinewidth": 2
          }
         }
        },
        "title": {
         "font": {
          "color": "Black",
          "size": 22
         },
         "text": "<b>Hierarchical Clustering</b>",
         "x": 0.5,
         "xanchor": "center",
         "yanchor": "top"
        },
        "width": 1000,
        "xaxis": {
         "mirror": "allticks",
         "rangemode": "tozero",
         "showgrid": false,
         "showline": true,
         "showticklabels": true,
         "ticks": "outside",
         "type": "linear",
         "zeroline": false
        },
        "yaxis": {
         "mirror": "allticks",
         "range": [
          -770,
          0
         ],
         "rangemode": "tozero",
         "showgrid": false,
         "showline": true,
         "showticklabels": true,
         "tickmode": "array",
         "ticks": "outside",
         "ticktext": [
          "61_puzzle_toward_snipping",
          "33_telltale_adventure_puzzle",
          "6_puzzle_plot_outer",
          "62_back_screen_fade",
          "51_row_saint_jalopy",
          "13_review_overpowered_rally",
          "18_defense_mech_xcom",
          "40_shoot_lynch_camera",
          "2_content_release_season",
          "0_character_feel_game",
          "1_story_writing_gameplay",
          "30_duel_genre_modification",
          "24_friend_enjoyable_magick",
          "5_check_girl_game",
          "35_cry_far_zombie",
          "31_fallout_mod_rpgs",
          "58_devs_grind_zombie",
          "12_city_builder_scenario",
          "21_train_spire_slay",
          "3_card_deck_match",
          "27_card_play_battle",
          "57_coop_couch_funcreepy",
          "53_disconnect_microsoft_mis...",
          "74_ea_warhammer_crash",
          "9_crash_desktop_problem",
          "23_frame_per_second",
          "43_pc_console_file",
          "36_ban_server_admittedly",
          "46_csgo_css_cs",
          "69_multiplayer_server_favou...",
          "45_halo_multiplayer_quake",
          "50_hacker_ass_laugh",
          "75_valve_hacker_free",
          "10_free_downloadable_content",
          "39_buggy_sr_break",
          "15_achievement_peace_invasion",
          "29_unit_war_commander",
          "59_wish_retribution_barney",
          "67_price_epic_correctley",
          "25_buy_refund_abandonware",
          "48_buy_pe_efootball",
          "70_buy_favor_ace",
          "56_addict_addictive_oki",
          "16_helldiver_awdeome_aweosme",
          "73_mafia_vito_definitive",
          "63_soundtrack_dishonor_metal",
          "19_bioshock_masterpiece_ori...",
          "47_vr_narration_headset",
          "68_fantastic_incredible_xen",
          "72_shot_fox_sniping",
          "76_assassin_creed_ezio",
          "11_amazing_story_awesome",
          "8_awesome_relax_faff",
          "71_relax_music_hangover",
          "60_hop_playground_play",
          "22_hour_supergiant_damn",
          "42_hour_paint_average",
          "44_rabbit_download_please",
          "38_eat_life_society",
          "37_half_life_source",
          "66_antidote_refreshing_simu...",
          "14_shooter_person_shooting",
          "28_survivor_vampire_killers",
          "20_horror_crysis_graphic",
          "7_wolfenstein_nazi_gunslinger",
          "26_horror_creepy_psychologi...",
          "41_remake_halflife_blue",
          "65_worth_def_pain",
          "34_hitman_boss_breadman",
          "54_soul_dark_otherwise",
          "4_government_us_blow",
          "17_murder_accidentally_friend",
          "64_girl_chase_house",
          "32_classic_old_certify",
          "55_hype_doom_damn",
          "52_gi_meat_straight",
          "49_hate_taxis_terraria"
         ],
         "tickvals": [
          -5,
          -15,
          -25,
          -35,
          -45,
          -55,
          -65,
          -75,
          -85,
          -95,
          -105,
          -115,
          -125,
          -135,
          -145,
          -155,
          -165,
          -175,
          -185,
          -195,
          -205,
          -215,
          -225,
          -235,
          -245,
          -255,
          -265,
          -275,
          -285,
          -295,
          -305,
          -315,
          -325,
          -335,
          -345,
          -355,
          -365,
          -375,
          -385,
          -395,
          -405,
          -415,
          -425,
          -435,
          -445,
          -455,
          -465,
          -475,
          -485,
          -495,
          -505,
          -515,
          -525,
          -535,
          -545,
          -555,
          -565,
          -575,
          -585,
          -595,
          -605,
          -615,
          -625,
          -635,
          -645,
          -655,
          -665,
          -675,
          -685,
          -695,
          -705,
          -715,
          -725,
          -735,
          -745,
          -755,
          -765
         ],
         "type": "linear",
         "zeroline": false
        }
       }
      },
      "text/html": [
       "<div>            <script src=\"https://cdnjs.cloudflare.com/ajax/libs/mathjax/2.7.5/MathJax.js?config=TeX-AMS-MML_SVG\"></script><script type=\"text/javascript\">if (window.MathJax && window.MathJax.Hub && window.MathJax.Hub.Config) {window.MathJax.Hub.Config({SVG: {font: \"STIX-Web\"}});}</script>                <script type=\"text/javascript\">window.PlotlyConfig = {MathJaxConfig: 'local'};</script>\n",
       "        <script charset=\"utf-8\" src=\"https://cdn.plot.ly/plotly-3.0.0.min.js\"></script>                <div id=\"87528fa5-c8c8-4e0b-8eea-059d06a86f3d\" class=\"plotly-graph-div\" style=\"height:1355px; width:1000px;\"></div>            <script type=\"text/javascript\">                window.PLOTLYENV=window.PLOTLYENV || {};                                if (document.getElementById(\"87528fa5-c8c8-4e0b-8eea-059d06a86f3d\")) {                    Plotly.newPlot(                        \"87528fa5-c8c8-4e0b-8eea-059d06a86f3d\",                        [{\"hoverinfo\":\"text\",\"marker\":{\"color\":\"rgb(61,153,112)\"},\"mode\":\"lines\",\"text\":[\"telltale_adventure_puzzle_borderland_discover\",\"\",\"\",\"puzzle_plot_outer_style_art\"],\"x\":{\"dtype\":\"f8\",\"bdata\":\"AAAAAAAAAABetLzDt0bnP160vMO3Ruc\\u002fAAAAAAAAAAA=\"},\"xaxis\":\"x\",\"y\":{\"dtype\":\"f8\",\"bdata\":\"AAAAAAAALsAAAAAAAAAuwAAAAAAAADnAAAAAAAAAOcA=\"},\"yaxis\":\"y\",\"type\":\"scatter\"},{\"hoverinfo\":\"text\",\"marker\":{\"color\":\"rgb(61,153,112)\"},\"mode\":\"lines\",\"text\":[\"puzzle_telltale_plot_adventure_think\",\"\",\"\",\"back_screen_fade_backtrack_puzzle\"],\"x\":{\"dtype\":\"f8\",\"bdata\":\"XrS8w7dG5z87VNTxTWjsPztU1PFNaOw\\u002fAAAAAAAAAAA=\"},\"xaxis\":\"x\",\"y\":{\"dtype\":\"f8\",\"bdata\":\"AAAAAAAANMAAAAAAAAA0wAAAAAAAgEHAAAAAAACAQcA=\"},\"yaxis\":\"y\",\"type\":\"scatter\"},{\"hoverinfo\":\"text\",\"marker\":{\"color\":\"rgb(61,153,112)\"},\"mode\":\"lines\",\"text\":[\"puzzle_toward_snipping_screenn_puzzles\",\"\",\"\",\"puzzle_telltale_plot_adventure_like\"],\"x\":{\"dtype\":\"f8\",\"bdata\":\"AAAAAAAAAABDW7A8JwztP0NbsDwnDO0\\u002fO1TU8U1o7D8=\"},\"xaxis\":\"x\",\"y\":{\"dtype\":\"f8\",\"bdata\":\"AAAAAAAAFMAAAAAAAAAUwAAAAAAAgDvAAAAAAACAO8A=\"},\"yaxis\":\"y\",\"type\":\"scatter\"},{\"hoverinfo\":\"text\",\"marker\":{\"color\":\"rgb(255,65,54)\"},\"mode\":\"lines\",\"text\":[\"row_saint_jalopy_merrily_chapter\",\"\",\"\",\"review_overpowered_rally_reviewer_positive\"],\"x\":{\"dtype\":\"f8\",\"bdata\":\"AAAAAAAAAADpuBh8RYDqP+m4GHxFgOo\\u002fAAAAAAAAAAA=\"},\"xaxis\":\"x\",\"y\":{\"dtype\":\"f8\",\"bdata\":\"AAAAAACARsAAAAAAAIBGwAAAAAAAgEvAAAAAAACAS8A=\"},\"yaxis\":\"y\",\"type\":\"scatter\"},{\"hoverinfo\":\"text\",\"marker\":{\"color\":\"rgb(255,65,54)\"},\"mode\":\"lines\",\"text\":[\"defense_mech_xcom_interesting_several\",\"\",\"\",\"shoot_lynch_camera_rifle_gun\"],\"x\":{\"dtype\":\"f8\",\"bdata\":\"AAAAAAAAAADFtb9eMSzoP8W1v14xLOg\\u002fAAAAAAAAAAA=\"},\"xaxis\":\"x\",\"y\":{\"dtype\":\"f8\",\"bdata\":\"AAAAAABAUMAAAAAAAEBQwAAAAAAAwFLAAAAAAADAUsA=\"},\"yaxis\":\"y\",\"type\":\"scatter\"},{\"hoverinfo\":\"text\",\"marker\":{\"color\":\"rgb(255,65,54)\"},\"mode\":\"lines\",\"text\":[\"content_release_season_forgive_review\",\"\",\"\",\"character_feel_game_make_like\"],\"x\":{\"dtype\":\"f8\",\"bdata\":\"AAAAAAAAAAAio3iZppfgPyKjeJmml+A\\u002fAAAAAAAAAAA=\"},\"xaxis\":\"x\",\"y\":{\"dtype\":\"f8\",\"bdata\":\"AAAAAABAVcAAAAAAAEBVwAAAAAAAwFfAAAAAAADAV8A=\"},\"yaxis\":\"y\",\"type\":\"scatter\"},{\"hoverinfo\":\"text\",\"marker\":{\"color\":\"rgb(255,65,54)\"},\"mode\":\"lines\",\"text\":[\"character_game_feel_like_make\",\"\",\"\",\"story_writing_gameplay_cutscene_borderland\"],\"x\":{\"dtype\":\"f8\",\"bdata\":\"IqN4maaX4D8Z9f6RjUPlPxn1\\u002fpGNQ+U\\u002fAAAAAAAAAAA=\"},\"xaxis\":\"x\",\"y\":{\"dtype\":\"f8\",\"bdata\":\"AAAAAACAVsAAAAAAAIBWwAAAAAAAQFrAAAAAAABAWsA=\"},\"yaxis\":\"y\",\"type\":\"scatter\"},{\"hoverinfo\":\"text\",\"marker\":{\"color\":\"rgb(255,65,54)\"},\"mode\":\"lines\",\"text\":[\"character_feel_game_story_like\",\"\",\"\",\"duel_genre_modification_game_two\"],\"x\":{\"dtype\":\"f8\",\"bdata\":\"GfX+kY1D5T+x+6T8F7XnP7H7pPwXtec\\u002fAAAAAAAAAAA=\"},\"xaxis\":\"x\",\"y\":{\"dtype\":\"f8\",\"bdata\":\"AAAAAABgWMAAAAAAAGBYwAAAAAAAwFzAAAAAAADAXMA=\"},\"yaxis\":\"y\",\"type\":\"scatter\"},{\"hoverinfo\":\"text\",\"marker\":{\"color\":\"rgb(255,65,54)\"},\"mode\":\"lines\",\"text\":[\"shoot_camera_lynch_match_defense\",\"\",\"\",\"game_character_story_feel_like\"],\"x\":{\"dtype\":\"f8\",\"bdata\":\"xbW\\u002fXjEs6D\\u002fpGsS4H8roP+kaxLgfyug\\u002fsfuk\\u002fBe15z8=\"},\"xaxis\":\"x\",\"y\":{\"dtype\":\"f8\",\"bdata\":\"AAAAAACAUcAAAAAAAIBRwAAAAAAAkFrAAAAAAACQWsA=\"},\"yaxis\":\"y\",\"type\":\"scatter\"},{\"hoverinfo\":\"text\",\"marker\":{\"color\":\"rgb(255,65,54)\"},\"mode\":\"lines\",\"text\":[\"friend_enjoyable_magick_solo_wish\",\"\",\"\",\"check_girl_game_fcking_play\"],\"x\":{\"dtype\":\"f8\",\"bdata\":\"AAAAAAAAAAC75XiIJAHpP7vleIgkAek\\u002fAAAAAAAAAAA=\"},\"xaxis\":\"x\",\"y\":{\"dtype\":\"f8\",\"bdata\":\"AAAAAABAX8AAAAAAAEBfwAAAAAAA4GDAAAAAAADgYMA=\"},\"yaxis\":\"y\",\"type\":\"scatter\"},{\"hoverinfo\":\"text\",\"marker\":{\"color\":\"rgb(255,65,54)\"},\"mode\":\"lines\",\"text\":[\"game_character_like_feel_story\",\"\",\"\",\"game_board_play_fun_friend\"],\"x\":{\"dtype\":\"f8\",\"bdata\":\"6RrEuB\\u002fK6D90Y8YRN13qP3RjxhE3Xeo\\u002fu+V4iCQB6T8=\"},\"xaxis\":\"x\",\"y\":{\"dtype\":\"f8\",\"bdata\":\"AAAAAAAIVsAAAAAAAAhWwAAAAAAAQGDAAAAAAABAYMA=\"},\"yaxis\":\"y\",\"type\":\"scatter\"},{\"hoverinfo\":\"text\",\"marker\":{\"color\":\"rgb(255,65,54)\"},\"mode\":\"lines\",\"text\":[\"cry_far_zombie_fc_mod\",\"\",\"\",\"fallout_mod_rpgs_bethesda_use\"],\"x\":{\"dtype\":\"f8\",\"bdata\":\"AAAAAAAAAAAm+shuEmDrPyb6yG4SYOs\\u002fAAAAAAAAAAA=\"},\"xaxis\":\"x\",\"y\":{\"dtype\":\"f8\",\"bdata\":\"AAAAAAAgYsAAAAAAACBiwAAAAAAAYGPAAAAAAABgY8A=\"},\"yaxis\":\"y\",\"type\":\"scatter\"},{\"hoverinfo\":\"text\",\"marker\":{\"color\":\"rgb(255,65,54)\"},\"mode\":\"lines\",\"text\":[\"game_like_character_feel_make\",\"\",\"\",\"fallout_mod_cry_far_zombie\"],\"x\":{\"dtype\":\"f8\",\"bdata\":\"dGPGETdd6j\\u002fZuKJWYB3sP9m4olZgHew\\u002fJvrIbhJg6z8=\"},\"xaxis\":\"x\",\"y\":{\"dtype\":\"f8\",\"bdata\":\"AAAAAABEW8AAAAAAAERbwAAAAAAAwGLAAAAAAADAYsA=\"},\"yaxis\":\"y\",\"type\":\"scatter\"},{\"hoverinfo\":\"text\",\"marker\":{\"color\":\"rgb(255,65,54)\"},\"mode\":\"lines\",\"text\":[\"row_review_saint_jalopy_merrily\",\"\",\"\",\"game_like_feel_character_make\"],\"x\":{\"dtype\":\"f8\",\"bdata\":\"6bgYfEWA6j\\u002ff+XZENdjsP9\\u002f5dkQ12Ow\\u002f2biiVmAd7D8=\"},\"xaxis\":\"x\",\"y\":{\"dtype\":\"f8\",\"bdata\":\"AAAAAAAAScAAAAAAAABJwAAAAAAAMWDAAAAAAAAxYMA=\"},\"yaxis\":\"y\",\"type\":\"scatter\"},{\"hoverinfo\":\"text\",\"marker\":{\"color\":\"rgb(255,65,54)\"},\"mode\":\"lines\",\"text\":[\"devs_grind_zombie_legacy_project\",\"\",\"\",\"city_builder_scenario_building_skyline\"],\"x\":{\"dtype\":\"f8\",\"bdata\":\"AAAAAAAAAAA0tP7zG2DpPzS0\\u002fvMbYOk\\u002fAAAAAAAAAAA=\"},\"xaxis\":\"x\",\"y\":{\"dtype\":\"f8\",\"bdata\":\"AAAAAACgZMAAAAAAAKBkwAAAAAAA4GXAAAAAAADgZcA=\"},\"yaxis\":\"y\",\"type\":\"scatter\"},{\"hoverinfo\":\"text\",\"marker\":{\"color\":\"rgb(255,65,54)\"},\"mode\":\"lines\",\"text\":[\"game_like_feel_make_character\",\"\",\"\",\"city_building_builder_devs_survive\"],\"x\":{\"dtype\":\"f8\",\"bdata\":\"3\\u002fl2RDXY7D8o1UOxxTTtPyjVQ7HFNO0\\u002fNLT+8xtg6T8=\"},\"xaxis\":\"x\",\"y\":{\"dtype\":\"f8\",\"bdata\":\"AAAAAABxVsAAAAAAAHFWwAAAAAAAQGXAAAAAAABAZcA=\"},\"yaxis\":\"y\",\"type\":\"scatter\"},{\"hoverinfo\":\"text\",\"marker\":{\"color\":\"rgb(35,205,205)\"},\"mode\":\"lines\",\"text\":[\"train_spire_slay_face_deck\",\"\",\"\",\"card_deck_match_outcome_unlock\"],\"x\":{\"dtype\":\"f8\",\"bdata\":\"AAAAAAAAAAAGWWT7kdvlPwZZZPuR2+U\\u002fAAAAAAAAAAA=\"},\"xaxis\":\"x\",\"y\":{\"dtype\":\"f8\",\"bdata\":\"AAAAAAAgZ8AAAAAAACBnwAAAAAAAYGjAAAAAAABgaMA=\"},\"yaxis\":\"y\",\"type\":\"scatter\"},{\"hoverinfo\":\"text\",\"marker\":{\"color\":\"rgb(35,205,205)\"},\"mode\":\"lines\",\"text\":[\"card_deck_match_outcome_unlock\",\"\",\"\",\"card_play_battle_free_rival\"],\"x\":{\"dtype\":\"f8\",\"bdata\":\"Bllk+5Hb5T9KJyussULpP0onK6yxQuk\\u002fAAAAAAAAAAA=\"},\"xaxis\":\"x\",\"y\":{\"dtype\":\"f8\",\"bdata\":\"AAAAAADAZ8AAAAAAAMBnwAAAAAAAoGnAAAAAAACgacA=\"},\"yaxis\":\"y\",\"type\":\"scatter\"},{\"hoverinfo\":\"text\",\"marker\":{\"color\":\"rgb(0,116,217)\"},\"mode\":\"lines\",\"text\":[\"game_like_feel_make_get\",\"\",\"\",\"card_deck_match_outcome_unlock\"],\"x\":{\"dtype\":\"f8\",\"bdata\":\"KNVDscU07T88f4C2GF7wPzx\\u002fgLYYXvA\\u002fSicrrLFC6T8=\"},\"xaxis\":\"x\",\"y\":{\"dtype\":\"f8\",\"bdata\":\"AAAAAEA8YMAAAAAAQDxgwAAAAAAAsGjAAAAAAACwaMA=\"},\"yaxis\":\"y\",\"type\":\"scatter\"},{\"hoverinfo\":\"text\",\"marker\":{\"color\":\"rgb(0,116,217)\"},\"mode\":\"lines\",\"text\":[\"puzzle_telltale_plot_adventure_one\",\"\",\"\",\"game_like_make_feel_get\"],\"x\":{\"dtype\":\"f8\",\"bdata\":\"Q1uwPCcM7T\\u002f+qPOj8ezwP\\u002f6o86Px7PA\\u002fPH+Athhe8D8=\"},\"xaxis\":\"x\",\"y\":{\"dtype\":\"f8\",\"bdata\":\"AAAAAABAMMAAAAAAAEAwwAAAAAAgdmTAAAAAACB2ZMA=\"},\"yaxis\":\"y\",\"type\":\"scatter\"},{\"hoverinfo\":\"text\",\"marker\":{\"color\":\"rgb(133,20,75)\"},\"mode\":\"lines\",\"text\":[\"coop_couch_funcreepy_ridiculous_singleplayer\",\"\",\"\",\"disconnect_microsoft_misson_fix_online\"],\"x\":{\"dtype\":\"f8\",\"bdata\":\"AAAAAAAAAAAwOk43oLDqPzA6TjegsOo\\u002fAAAAAAAAAAA=\"},\"xaxis\":\"x\",\"y\":{\"dtype\":\"f8\",\"bdata\":\"AAAAAADgasAAAAAAAOBqwAAAAAAAIGzAAAAAAAAgbMA=\"},\"yaxis\":\"y\",\"type\":\"scatter\"},{\"hoverinfo\":\"text\",\"marker\":{\"color\":\"rgb(255,220,0)\"},\"mode\":\"lines\",\"text\":[\"ea_warhammer_crash_mouse_infest\",\"\",\"\",\"crash_desktop_problem_dx_contact\"],\"x\":{\"dtype\":\"f8\",\"bdata\":\"AAAAAAAAAAAwp7CtMBvqPzCnsK0wG+o\\u002fAAAAAAAAAAA=\"},\"xaxis\":\"x\",\"y\":{\"dtype\":\"f8\",\"bdata\":\"AAAAAABgbcAAAAAAAGBtwAAAAAAAoG7AAAAAAACgbsA=\"},\"yaxis\":\"y\",\"type\":\"scatter\"},{\"hoverinfo\":\"text\",\"marker\":{\"color\":\"rgb(255,220,0)\"},\"mode\":\"lines\",\"text\":[\"frame_per_second_slowmo_launcher\",\"\",\"\",\"pc_console_file_port_ceo\"],\"x\":{\"dtype\":\"f8\",\"bdata\":\"AAAAAAAAAAB2rAy2FsLpP3asDLYWwuk\\u002fAAAAAAAAAAA=\"},\"xaxis\":\"x\",\"y\":{\"dtype\":\"f8\",\"bdata\":\"AAAAAADgb8AAAAAAAOBvwAAAAAAAkHDAAAAAAACQcMA=\"},\"yaxis\":\"y\",\"type\":\"scatter\"},{\"hoverinfo\":\"text\",\"marker\":{\"color\":\"rgb(255,220,0)\"},\"mode\":\"lines\",\"text\":[\"crash_ea_problem_desktop_fix\",\"\",\"\",\"frame_per_second_pc_console\"],\"x\":{\"dtype\":\"f8\",\"bdata\":\"MKewrTAb6j85yyo55KnvPznLKjnkqe8\\u002fdqwMthbC6T8=\"},\"xaxis\":\"x\",\"y\":{\"dtype\":\"f8\",\"bdata\":\"AAAAAAAAbsAAAAAAAABuwAAAAAAAQHDAAAAAAABAcMA=\"},\"yaxis\":\"y\",\"type\":\"scatter\"},{\"hoverinfo\":\"text\",\"marker\":{\"color\":\"rgb(0,116,217)\"},\"mode\":\"lines\",\"text\":[\"coop_disconnect_online_microsoft_misson\",\"\",\"\",\"frame_crash_per_second_file\"],\"x\":{\"dtype\":\"f8\",\"bdata\":\"MDpON6Cw6j84E9SG78jwPzgT1IbvyPA\\u002fOcsqOeSp7z8=\"},\"xaxis\":\"x\",\"y\":{\"dtype\":\"f8\",\"bdata\":\"AAAAAACAa8AAAAAAAIBrwAAAAAAAQG\\u002fAAAAAAABAb8A=\"},\"yaxis\":\"y\",\"type\":\"scatter\"},{\"hoverinfo\":\"text\",\"marker\":{\"color\":\"rgb(40,35,35)\"},\"mode\":\"lines\",\"text\":[\"ban_server_admittedly_mandatory_discord\",\"\",\"\",\"csgo_css_cs_server_npc\"],\"x\":{\"dtype\":\"f8\",\"bdata\":\"AAAAAAAAAAB8DHXWTKDsP3wMddZMoOw\\u002fAAAAAAAAAAA=\"},\"xaxis\":\"x\",\"y\":{\"dtype\":\"f8\",\"bdata\":\"AAAAAAAwccAAAAAAADBxwAAAAAAA0HHAAAAAAADQccA=\"},\"yaxis\":\"y\",\"type\":\"scatter\"},{\"hoverinfo\":\"text\",\"marker\":{\"color\":\"rgb(40,35,35)\"},\"mode\":\"lines\",\"text\":[\"multiplayer_server_favourite_mode_napoleonic\",\"\",\"\",\"halo_multiplayer_quake_overwatch_series\"],\"x\":{\"dtype\":\"f8\",\"bdata\":\"AAAAAAAAAACJh3k+JmzpP4mHeT4mbOk\\u002fAAAAAAAAAAA=\"},\"xaxis\":\"x\",\"y\":{\"dtype\":\"f8\",\"bdata\":\"AAAAAABwcsAAAAAAAHBywAAAAAAAEHPAAAAAAAAQc8A=\"},\"yaxis\":\"y\",\"type\":\"scatter\"},{\"hoverinfo\":\"text\",\"marker\":{\"color\":\"rgb(40,35,35)\"},\"mode\":\"lines\",\"text\":[\"server_ban_community_css_csgo\",\"\",\"\",\"multiplayer_halo_quake_overwatch_series\"],\"x\":{\"dtype\":\"f8\",\"bdata\":\"fAx11kyg7D\\u002fhJnYsBJfuP+EmdiwEl+4\\u002fiYd5PiZs6T8=\"},\"xaxis\":\"x\",\"y\":{\"dtype\":\"f8\",\"bdata\":\"AAAAAACAccAAAAAAAIBxwAAAAAAAwHLAAAAAAADAcsA=\"},\"yaxis\":\"y\",\"type\":\"scatter\"},{\"hoverinfo\":\"text\",\"marker\":{\"color\":\"rgb(61,153,112)\"},\"mode\":\"lines\",\"text\":[\"valve_hacker_free_rank_purchase\",\"\",\"\",\"free_downloadable_content_pay_campaign\"],\"x\":{\"dtype\":\"f8\",\"bdata\":\"AAAAAAAAAACK038+vXrsP4rTfz69euw\\u002fAAAAAAAAAAA=\"},\"xaxis\":\"x\",\"y\":{\"dtype\":\"f8\",\"bdata\":\"AAAAAABQdMAAAAAAAFB0wAAAAAAA8HTAAAAAAADwdMA=\"},\"yaxis\":\"y\",\"type\":\"scatter\"},{\"hoverinfo\":\"text\",\"marker\":{\"color\":\"rgb(61,153,112)\"},\"mode\":\"lines\",\"text\":[\"hacker_ass_laugh_deployment_cupcake\",\"\",\"\",\"free_downloadable_content_pay_valve\"],\"x\":{\"dtype\":\"f8\",\"bdata\":\"AAAAAAAAAADHF688wy7uP8cXrzzDLu4\\u002fitN\\u002fPr167D8=\"},\"xaxis\":\"x\",\"y\":{\"dtype\":\"f8\",\"bdata\":\"AAAAAACwc8AAAAAAALBzwAAAAAAAoHTAAAAAAACgdMA=\"},\"yaxis\":\"y\",\"type\":\"scatter\"},{\"hoverinfo\":\"text\",\"marker\":{\"color\":\"rgb(255,65,54)\"},\"mode\":\"lines\",\"text\":[\"achievement_peace_invasion_chaos_combat\",\"\",\"\",\"unit_war_commander_relic_skin\"],\"x\":{\"dtype\":\"f8\",\"bdata\":\"AAAAAAAAAACAD1xAsdDqP4APXECx0Oo\\u002fAAAAAAAAAAA=\"},\"xaxis\":\"x\",\"y\":{\"dtype\":\"f8\",\"bdata\":\"AAAAAAAwdsAAAAAAADB2wAAAAAAA0HbAAAAAAADQdsA=\"},\"yaxis\":\"y\",\"type\":\"scatter\"},{\"hoverinfo\":\"text\",\"marker\":{\"color\":\"rgb(255,65,54)\"},\"mode\":\"lines\",\"text\":[\"buggy_sr_break_ending_parkour\",\"\",\"\",\"unit_war_achievement_peace_invasion\"],\"x\":{\"dtype\":\"f8\",\"bdata\":\"AAAAAAAAAADEgrLo5X\\u002ftP8SCsujlf+0\\u002fgA9cQLHQ6j8=\"},\"xaxis\":\"x\",\"y\":{\"dtype\":\"f8\",\"bdata\":\"AAAAAACQdcAAAAAAAJB1wAAAAAAAgHbAAAAAAACAdsA=\"},\"yaxis\":\"y\",\"type\":\"scatter\"},{\"hoverinfo\":\"text\",\"marker\":{\"color\":\"rgb(255,65,54)\"},\"mode\":\"lines\",\"text\":[\"unit_war_achievement_break_peace\",\"\",\"\",\"wish_retribution_barney_shoulda_painkiller\"],\"x\":{\"dtype\":\"f8\",\"bdata\":\"xIKy6OV\\u002f7T+IXdZ80eHuP4hd1nzR4e4\\u002fAAAAAAAAAAA=\"},\"xaxis\":\"x\",\"y\":{\"dtype\":\"f8\",\"bdata\":\"AAAAAAAIdsAAAAAAAAh2wAAAAAAAcHfAAAAAAABwd8A=\"},\"yaxis\":\"y\",\"type\":\"scatter\"},{\"hoverinfo\":\"text\",\"marker\":{\"color\":\"rgb(0,116,217)\"},\"mode\":\"lines\",\"text\":[\"free_hacker_downloadable_pay_content\",\"\",\"\",\"unit_war_break_achievement_chaos\"],\"x\":{\"dtype\":\"f8\",\"bdata\":\"xxevPMMu7j+4H1TpSQHwP7gfVOlJAfA\\u002fiF3WfNHh7j8=\"},\"xaxis\":\"x\",\"y\":{\"dtype\":\"f8\",\"bdata\":\"AAAAAAAodMAAAAAAACh0wAAAAAAAvHbAAAAAAAC8dsA=\"},\"yaxis\":\"y\",\"type\":\"scatter\"},{\"hoverinfo\":\"text\",\"marker\":{\"color\":\"rgb(0,116,217)\"},\"mode\":\"lines\",\"text\":[\"multiplayer_server_halo_quake_community\",\"\",\"\",\"free_downloadable_unit_content_war\"],\"x\":{\"dtype\":\"f8\",\"bdata\":\"4SZ2LASX7j9qBh3WcITwP2oGHdZwhPA\\u002fuB9U6UkB8D8=\"},\"xaxis\":\"x\",\"y\":{\"dtype\":\"f8\",\"bdata\":\"AAAAAAAgcsAAAAAAACBywAAAAAAAcnXAAAAAAABydcA=\"},\"yaxis\":\"y\",\"type\":\"scatter\"},{\"hoverinfo\":\"text\",\"marker\":{\"color\":\"rgb(0,116,217)\"},\"mode\":\"lines\",\"text\":[\"crash_per_frame_second_coop\",\"\",\"\",\"multiplayer_halo_server_free_game\"],\"x\":{\"dtype\":\"f8\",\"bdata\":\"OBPUhu\\u002fI8D+cuKQWbITxP5y4pBZshPE\\u002fagYd1nCE8D8=\"},\"xaxis\":\"x\",\"y\":{\"dtype\":\"f8\",\"bdata\":\"AAAAAABgbcAAAAAAAGBtwAAAAAAAyXPAAAAAAADJc8A=\"},\"yaxis\":\"y\",\"type\":\"scatter\"},{\"hoverinfo\":\"text\",\"marker\":{\"color\":\"rgb(35,205,205)\"},\"mode\":\"lines\",\"text\":[\"buy_refund_abandonware_clownshow_steamstore\",\"\",\"\",\"buy_pe_efootball_sale_weary\"],\"x\":{\"dtype\":\"f8\",\"bdata\":\"AAAAAAAAAADmXYqQ6ArpP+ZdipDoCuk\\u002fAAAAAAAAAAA=\"},\"xaxis\":\"x\",\"y\":{\"dtype\":\"f8\",\"bdata\":\"AAAAAACweMAAAAAAALB4wAAAAAAAUHnAAAAAAABQecA=\"},\"yaxis\":\"y\",\"type\":\"scatter\"},{\"hoverinfo\":\"text\",\"marker\":{\"color\":\"rgb(35,205,205)\"},\"mode\":\"lines\",\"text\":[\"buy_sale_efootball_pe_refund\",\"\",\"\",\"buy_favor_ace_expensive_addition\"],\"x\":{\"dtype\":\"f8\",\"bdata\":\"5l2KkOgK6T\\u002fBK+uZzGjqP8Er65nMaOo\\u002fAAAAAAAAAAA=\"},\"xaxis\":\"x\",\"y\":{\"dtype\":\"f8\",\"bdata\":\"AAAAAAAAecAAAAAAAAB5wAAAAAAA8HnAAAAAAADwecA=\"},\"yaxis\":\"y\",\"type\":\"scatter\"},{\"hoverinfo\":\"text\",\"marker\":{\"color\":\"rgb(35,205,205)\"},\"mode\":\"lines\",\"text\":[\"price_epic_correctley_gall_abusive\",\"\",\"\",\"buy_sale_efootball_pe_refund\"],\"x\":{\"dtype\":\"f8\",\"bdata\":\"AAAAAAAAAABIF47I60HuP0gXjsjrQe4\\u002fwSvrmcxo6j8=\"},\"xaxis\":\"x\",\"y\":{\"dtype\":\"f8\",\"bdata\":\"AAAAAAAQeMAAAAAAABB4wAAAAAAAeHnAAAAAAAB4ecA=\"},\"yaxis\":\"y\",\"type\":\"scatter\"},{\"hoverinfo\":\"text\",\"marker\":{\"color\":\"rgb(0,116,217)\"},\"mode\":\"lines\",\"text\":[\"crash_multiplayer_per_frame_game\",\"\",\"\",\"buy_sale_price_pe_efootball\"],\"x\":{\"dtype\":\"f8\",\"bdata\":\"nLikFmyE8T9DC2DAkAHzP0MLYMCQAfM\\u002fSBeOyOtB7j8=\"},\"xaxis\":\"x\",\"y\":{\"dtype\":\"f8\",\"bdata\":\"AAAAAIA8ccAAAAAAgDxxwAAAAAAAxHjAAAAAAADEeMA=\"},\"yaxis\":\"y\",\"type\":\"scatter\"},{\"hoverinfo\":\"text\",\"marker\":{\"color\":\"rgb(61,153,112)\"},\"mode\":\"lines\",\"text\":[\"addict_addictive_oki_questalike_purely\",\"\",\"\",\"helldiver_awdeome_aweosme_border_creative\"],\"x\":{\"dtype\":\"f8\",\"bdata\":\"AAAAAAAAAAAwSAuwjVDtPzBIC7CNUO0\\u002fAAAAAAAAAAA=\"},\"xaxis\":\"x\",\"y\":{\"dtype\":\"f8\",\"bdata\":\"AAAAAACQesAAAAAAAJB6wAAAAAAAMHvAAAAAAAAwe8A=\"},\"yaxis\":\"y\",\"type\":\"scatter\"},{\"hoverinfo\":\"text\",\"marker\":{\"color\":\"rgb(255,65,54)\"},\"mode\":\"lines\",\"text\":[\"soundtrack_dishonor_metal_besides_mix\",\"\",\"\",\"bioshock_masterpiece_orignal_kombat_metal\"],\"x\":{\"dtype\":\"f8\",\"bdata\":\"AAAAAAAAAACwnzSqg9vrP7CfNKqD2+s\\u002fAAAAAAAAAAA=\"},\"xaxis\":\"x\",\"y\":{\"dtype\":\"f8\",\"bdata\":\"AAAAAABwfMAAAAAAAHB8wAAAAAAAEH3AAAAAAAAQfcA=\"},\"yaxis\":\"y\",\"type\":\"scatter\"},{\"hoverinfo\":\"text\",\"marker\":{\"color\":\"rgb(255,65,54)\"},\"mode\":\"lines\",\"text\":[\"mafia_vito_definitive_feel_joy\",\"\",\"\",\"bioshock_masterpiece_metal_orignal_kombat\"],\"x\":{\"dtype\":\"f8\",\"bdata\":\"AAAAAAAAAADbuXqOk83tP9u5eo6Tze0\\u002fsJ80qoPb6z8=\"},\"xaxis\":\"x\",\"y\":{\"dtype\":\"f8\",\"bdata\":\"AAAAAADQe8AAAAAAANB7wAAAAAAAwHzAAAAAAADAfMA=\"},\"yaxis\":\"y\",\"type\":\"scatter\"},{\"hoverinfo\":\"text\",\"marker\":{\"color\":\"rgb(255,65,54)\"},\"mode\":\"lines\",\"text\":[\"mafia_bioshock_masterpiece_metal_orignal\",\"\",\"\",\"vr_narration_headset_great_quality\"],\"x\":{\"dtype\":\"f8\",\"bdata\":\"27l6jpPN7T9ltzV+XK7uP2W3NX5cru4\\u002fAAAAAAAAAAA=\"},\"xaxis\":\"x\",\"y\":{\"dtype\":\"f8\",\"bdata\":\"AAAAAABIfMAAAAAAAEh8wAAAAAAAsH3AAAAAAACwfcA=\"},\"yaxis\":\"y\",\"type\":\"scatter\"},{\"hoverinfo\":\"text\",\"marker\":{\"color\":\"rgb(255,65,54)\"},\"mode\":\"lines\",\"text\":[\"fantastic_incredible_xen_drifter_fifa\",\"\",\"\",\"shot_fox_sniping_sniper_red\"],\"x\":{\"dtype\":\"f8\",\"bdata\":\"AAAAAAAAAAAGBIDmdIrtPwYEgOZ0iu0\\u002fAAAAAAAAAAA=\"},\"xaxis\":\"x\",\"y\":{\"dtype\":\"f8\",\"bdata\":\"AAAAAABQfsAAAAAAAFB+wAAAAAAA8H7AAAAAAADwfsA=\"},\"yaxis\":\"y\",\"type\":\"scatter\"},{\"hoverinfo\":\"text\",\"marker\":{\"color\":\"rgb(255,65,54)\"},\"mode\":\"lines\",\"text\":[\"shot_sniping_fox_sniper_incredible\",\"\",\"\",\"assassin_creed_ezio_ezios_rome\"],\"x\":{\"dtype\":\"f8\",\"bdata\":\"BgSA5nSK7T80\\u002f000PwnvPzT\\u002fTTQ\\u002fCe8\\u002fAAAAAAAAAAA=\"},\"xaxis\":\"x\",\"y\":{\"dtype\":\"f8\",\"bdata\":\"AAAAAACgfsAAAAAAAKB+wAAAAAAAkH\\u002fAAAAAAACQf8A=\"},\"yaxis\":\"y\",\"type\":\"scatter\"},{\"hoverinfo\":\"text\",\"marker\":{\"color\":\"rgb(255,65,54)\"},\"mode\":\"lines\",\"text\":[\"vr_mafia_bioshock_masterpiece_great\",\"\",\"\",\"assassin_creed_shot_ezio_incredible\"],\"x\":{\"dtype\":\"f8\",\"bdata\":\"Zbc1flyu7j9R+SJnfHLvP1H5Imd8cu8\\u002fNP9NND8J7z8=\"},\"xaxis\":\"x\",\"y\":{\"dtype\":\"f8\",\"bdata\":\"AAAAAAD8fMAAAAAAAPx8wAAAAAAAGH\\u002fAAAAAAAAYf8A=\"},\"yaxis\":\"y\",\"type\":\"scatter\"},{\"hoverinfo\":\"text\",\"marker\":{\"color\":\"rgb(255,65,54)\"},\"mode\":\"lines\",\"text\":[\"amazing_story_awesome_history_must\",\"\",\"\",\"awesome_relax_faff_great_unexpectedly\"],\"x\":{\"dtype\":\"f8\",\"bdata\":\"AAAAAAAAAADG04bN6vvpP8bThs3q++k\\u002fAAAAAAAAAAA=\"},\"xaxis\":\"x\",\"y\":{\"dtype\":\"f8\",\"bdata\":\"AAAAAAAYgMAAAAAAABiAwAAAAAAAaIDAAAAAAABogMA=\"},\"yaxis\":\"y\",\"type\":\"scatter\"},{\"hoverinfo\":\"text\",\"marker\":{\"color\":\"rgb(255,65,54)\"},\"mode\":\"lines\",\"text\":[\"awesome_amazing_story_great_good\",\"\",\"\",\"relax_music_hangover_criminally_pikuniku\"],\"x\":{\"dtype\":\"f8\",\"bdata\":\"xtOGzer76T+zqC7azq3sP7OoLtrOrew\\u002fAAAAAAAAAAA=\"},\"xaxis\":\"x\",\"y\":{\"dtype\":\"f8\",\"bdata\":\"AAAAAABAgMAAAAAAAECAwAAAAAAAuIDAAAAAAAC4gMA=\"},\"yaxis\":\"y\",\"type\":\"scatter\"},{\"hoverinfo\":\"text\",\"marker\":{\"color\":\"rgb(255,65,54)\"},\"mode\":\"lines\",\"text\":[\"awesome_amazing_relax_story_good\",\"\",\"\",\"hop_playground_play_stop_kindly\"],\"x\":{\"dtype\":\"f8\",\"bdata\":\"s6gu2s6t7D99eUROPm3uP315RE4+be4\\u002fAAAAAAAAAAA=\"},\"xaxis\":\"x\",\"y\":{\"dtype\":\"f8\",\"bdata\":\"AAAAAAB8gMAAAAAAAHyAwAAAAAAACIHAAAAAAAAIgcA=\"},\"yaxis\":\"y\",\"type\":\"scatter\"},{\"hoverinfo\":\"text\",\"marker\":{\"color\":\"rgb(255,65,54)\"},\"mode\":\"lines\",\"text\":[\"vr_mafia_bioshock_great_assassin\",\"\",\"\",\"awesome_amazing_relax_good_story\"],\"x\":{\"dtype\":\"f8\",\"bdata\":\"UfkiZ3xy7z8cGIQHA7jvPxwYhAcDuO8\\u002ffXlETj5t7j8=\"},\"xaxis\":\"x\",\"y\":{\"dtype\":\"f8\",\"bdata\":\"AAAAAAAKfsAAAAAAAAp+wAAAAAAAwoDAAAAAAADCgMA=\"},\"yaxis\":\"y\",\"type\":\"scatter\"},{\"hoverinfo\":\"text\",\"marker\":{\"color\":\"rgb(0,116,217)\"},\"mode\":\"lines\",\"text\":[\"addict_nearly_addictive_everyone_questalike\",\"\",\"\",\"vr_great_amazing_good_mafia\"],\"x\":{\"dtype\":\"f8\",\"bdata\":\"MEgLsI1Q7T8JRoIuXKbwPwlGgi5cpvA\\u002fHBiEBwO47z8=\"},\"xaxis\":\"x\",\"y\":{\"dtype\":\"f8\",\"bdata\":\"AAAAAADgesAAAAAAAOB6wAAAAAAAx3\\u002fAAAAAAADHf8A=\"},\"yaxis\":\"y\",\"type\":\"scatter\"},{\"hoverinfo\":\"text\",\"marker\":{\"color\":\"rgb(35,205,205)\"},\"mode\":\"lines\",\"text\":[\"hour_supergiant_damn_throb_nuff\",\"\",\"\",\"hour_paint_average_beautiful_wait\"],\"x\":{\"dtype\":\"f8\",\"bdata\":\"AAAAAAAAAABGAhZs9bPqP0YCFmz1s+o\\u002fAAAAAAAAAAA=\"},\"xaxis\":\"x\",\"y\":{\"dtype\":\"f8\",\"bdata\":\"AAAAAABYgcAAAAAAAFiBwAAAAAAAqIHAAAAAAACogcA=\"},\"yaxis\":\"y\",\"type\":\"scatter\"},{\"hoverinfo\":\"text\",\"marker\":{\"color\":\"rgb(35,205,205)\"},\"mode\":\"lines\",\"text\":[\"hour_paint_average_beautiful_wait\",\"\",\"\",\"rabbit_download_please_wreckf_pheasant\"],\"x\":{\"dtype\":\"f8\",\"bdata\":\"RgIWbPWz6j+aZuOujnvrP5pm466Oe+s\\u002fAAAAAAAAAAA=\"},\"xaxis\":\"x\",\"y\":{\"dtype\":\"f8\",\"bdata\":\"AAAAAACAgcAAAAAAAICBwAAAAAAA+IHAAAAAAAD4gcA=\"},\"yaxis\":\"y\",\"type\":\"scatter\"},{\"hoverinfo\":\"text\",\"marker\":{\"color\":\"rgb(0,116,217)\"},\"mode\":\"lines\",\"text\":[\"vr_great_good_amazing_mafia\",\"\",\"\",\"hour_paint_average_short_beautiful\"],\"x\":{\"dtype\":\"f8\",\"bdata\":\"CUaCLlym8D8k5KF1PTDxPyTkoXU9MPE\\u002fmmbjro576z8=\"},\"xaxis\":\"x\",\"y\":{\"dtype\":\"f8\",\"bdata\":\"AAAAAIBTfcAAAAAAgFN9wAAAAAAAvIHAAAAAAAC8gcA=\"},\"yaxis\":\"y\",\"type\":\"scatter\"},{\"hoverinfo\":\"text\",\"marker\":{\"color\":\"rgb(133,20,75)\"},\"mode\":\"lines\",\"text\":[\"eat_life_society_download_mewt\",\"\",\"\",\"half_life_source_welp_ahhh\"],\"x\":{\"dtype\":\"f8\",\"bdata\":\"AAAAAAAAAABo1uCv\\u002f5XqP2jW4K\\u002f\\u002fleo\\u002fAAAAAAAAAAA=\"},\"xaxis\":\"x\",\"y\":{\"dtype\":\"f8\",\"bdata\":\"AAAAAABIgsAAAAAAAEiCwAAAAAAAmILAAAAAAACYgsA=\"},\"yaxis\":\"y\",\"type\":\"scatter\"},{\"hoverinfo\":\"text\",\"marker\":{\"color\":\"rgb(255,220,0)\"},\"mode\":\"lines\",\"text\":[\"antidote_refreshing_simulation_prove_ghost\",\"\",\"\",\"shooter_person_shooting_looter_booster\"],\"x\":{\"dtype\":\"f8\",\"bdata\":\"AAAAAAAAAADXSe9B6YjtP9dJ70HpiO0\\u002fAAAAAAAAAAA=\"},\"xaxis\":\"x\",\"y\":{\"dtype\":\"f8\",\"bdata\":\"AAAAAADogsAAAAAAAOiCwAAAAAAAOIPAAAAAAAA4g8A=\"},\"yaxis\":\"y\",\"type\":\"scatter\"},{\"hoverinfo\":\"text\",\"marker\":{\"color\":\"rgb(40,35,35)\"},\"mode\":\"lines\",\"text\":[\"horror_crysis_graphic_opinion_spec\",\"\",\"\",\"wolfenstein_nazi_gunslinger_juarez_shooter\"],\"x\":{\"dtype\":\"f8\",\"bdata\":\"AAAAAAAAAAAz19tAoxzqPzPX20CjHOo\\u002fAAAAAAAAAAA=\"},\"xaxis\":\"x\",\"y\":{\"dtype\":\"f8\",\"bdata\":\"AAAAAADYg8AAAAAAANiDwAAAAAAAKITAAAAAAAAohMA=\"},\"yaxis\":\"y\",\"type\":\"scatter\"},{\"hoverinfo\":\"text\",\"marker\":{\"color\":\"rgb(40,35,35)\"},\"mode\":\"lines\",\"text\":[\"survivor_vampire_killers_masquerade_please\",\"\",\"\",\"wolfenstein_horror_nazi_gunslinger_shooter\"],\"x\":{\"dtype\":\"f8\",\"bdata\":\"AAAAAAAAAAB3lg0MHqbrP3eWDQwepus\\u002fM9fbQKMc6j8=\"},\"xaxis\":\"x\",\"y\":{\"dtype\":\"f8\",\"bdata\":\"AAAAAACIg8AAAAAAAIiDwAAAAAAAAITAAAAAAAAAhMA=\"},\"yaxis\":\"y\",\"type\":\"scatter\"},{\"hoverinfo\":\"text\",\"marker\":{\"color\":\"rgb(40,35,35)\"},\"mode\":\"lines\",\"text\":[\"wolfenstein_horror_rise_nazi_gunslinger\",\"\",\"\",\"horror_creepy_psychological_survival_scary\"],\"x\":{\"dtype\":\"f8\",\"bdata\":\"d5YNDB6m6z80cUP40TbtPzRxQ\\u002fjRNu0\\u002fAAAAAAAAAAA=\"},\"xaxis\":\"x\",\"y\":{\"dtype\":\"f8\",\"bdata\":\"AAAAAADEg8AAAAAAAMSDwAAAAAAAeITAAAAAAAB4hMA=\"},\"yaxis\":\"y\",\"type\":\"scatter\"},{\"hoverinfo\":\"text\",\"marker\":{\"color\":\"rgb(0,116,217)\"},\"mode\":\"lines\",\"text\":[\"shooter_person_shooting_antidote_refreshing\",\"\",\"\",\"horror_wolfenstein_rise_nazi_fun\"],\"x\":{\"dtype\":\"f8\",\"bdata\":\"10nvQemI7T8P6snjnEPwPw\\u002fqyeOcQ\\u002fA\\u002fNHFD+NE27T8=\"},\"xaxis\":\"x\",\"y\":{\"dtype\":\"f8\",\"bdata\":\"AAAAAAAQg8AAAAAAABCDwAAAAAAAHoTAAAAAAAAehMA=\"},\"yaxis\":\"y\",\"type\":\"scatter\"},{\"hoverinfo\":\"text\",\"marker\":{\"color\":\"rgb(61,153,112)\"},\"mode\":\"lines\",\"text\":[\"remake_halflife_blue_shift_payne\",\"\",\"\",\"worth_def_pain_totally_fan\"],\"x\":{\"dtype\":\"f8\",\"bdata\":\"AAAAAAAAAABiiDbw4oDsP2KINvDigOw\\u002fAAAAAAAAAAA=\"},\"xaxis\":\"x\",\"y\":{\"dtype\":\"f8\",\"bdata\":\"AAAAAADIhMAAAAAAAMiEwAAAAAAAGIXAAAAAAAAYhcA=\"},\"yaxis\":\"y\",\"type\":\"scatter\"},{\"hoverinfo\":\"text\",\"marker\":{\"color\":\"rgb(61,153,112)\"},\"mode\":\"lines\",\"text\":[\"hitman_boss_breadman_diana_plus\",\"\",\"\",\"soul_dark_otherwise_cardinal_wierdly\"],\"x\":{\"dtype\":\"f8\",\"bdata\":\"AAAAAAAAAABA5choBFDuP0DlyGgEUO4\\u002fAAAAAAAAAAA=\"},\"xaxis\":\"x\",\"y\":{\"dtype\":\"f8\",\"bdata\":\"AAAAAABohcAAAAAAAGiFwAAAAAAAuIXAAAAAAAC4hcA=\"},\"yaxis\":\"y\",\"type\":\"scatter\"},{\"hoverinfo\":\"text\",\"marker\":{\"color\":\"rgb(61,153,112)\"},\"mode\":\"lines\",\"text\":[\"remake_worth_halflife_blue_shift\",\"\",\"\",\"hitman_soul_dark_boss_otherwise\"],\"x\":{\"dtype\":\"f8\",\"bdata\":\"Yog28OKA7D\\u002fR1NbxgubvP9HU1vGC5u8\\u002fQOXIaARQ7j8=\"},\"xaxis\":\"x\",\"y\":{\"dtype\":\"f8\",\"bdata\":\"AAAAAADwhMAAAAAAAPCEwAAAAAAAkIXAAAAAAACQhcA=\"},\"yaxis\":\"y\",\"type\":\"scatter\"},{\"hoverinfo\":\"text\",\"marker\":{\"color\":\"rgb(255,65,54)\"},\"mode\":\"lines\",\"text\":[\"murder_accidentally_friend_ghost_scream\",\"\",\"\",\"girl_chase_house_rhody_coggin\"],\"x\":{\"dtype\":\"f8\",\"bdata\":\"AAAAAAAAAADmEUmppxzuP+YRSamnHO4\\u002fAAAAAAAAAAA=\"},\"xaxis\":\"x\",\"y\":{\"dtype\":\"f8\",\"bdata\":\"AAAAAABYhsAAAAAAAFiGwAAAAAAAqIbAAAAAAACohsA=\"},\"yaxis\":\"y\",\"type\":\"scatter\"},{\"hoverinfo\":\"text\",\"marker\":{\"color\":\"rgb(255,65,54)\"},\"mode\":\"lines\",\"text\":[\"government_us_blow_aye_award\",\"\",\"\",\"murder_accidentally_friend_chase_scream\"],\"x\":{\"dtype\":\"f8\",\"bdata\":\"AAAAAAAAAACDRXWxQ4vvP4NFdbFDi+8\\u002f5hFJqacc7j8=\"},\"xaxis\":\"x\",\"y\":{\"dtype\":\"f8\",\"bdata\":\"AAAAAAAIhsAAAAAAAAiGwAAAAAAAgIbAAAAAAACAhsA=\"},\"yaxis\":\"y\",\"type\":\"scatter\"},{\"hoverinfo\":\"text\",\"marker\":{\"color\":\"rgb(35,205,205)\"},\"mode\":\"lines\",\"text\":[\"classic_old_certify_comeback_surgeryd\",\"\",\"\",\"hype_doom_damn_hold_cherish\"],\"x\":{\"dtype\":\"f8\",\"bdata\":\"AAAAAAAAAABYkyVifxHuP1iTJWJ\\u002fEe4\\u002fAAAAAAAAAAA=\"},\"xaxis\":\"x\",\"y\":{\"dtype\":\"f8\",\"bdata\":\"AAAAAAD4hsAAAAAAAPiGwAAAAAAASIfAAAAAAABIh8A=\"},\"yaxis\":\"y\",\"type\":\"scatter\"},{\"hoverinfo\":\"text\",\"marker\":{\"color\":\"rgb(61,153,112)\"},\"mode\":\"lines\",\"text\":[\"gi_meat_straight_epic_loneliness\",\"\",\"\",\"hate_taxis_terraria_ig_eh\"],\"x\":{\"dtype\":\"f8\",\"bdata\":\"AAAAAAAAAAAJhCon1P3vPwmEKifU\\u002fe8\\u002fAAAAAAAAAAA=\"},\"xaxis\":\"x\",\"y\":{\"dtype\":\"f8\",\"bdata\":\"AAAAAACYh8AAAAAAAJiHwAAAAAAA6IfAAAAAAADoh8A=\"},\"yaxis\":\"y\",\"type\":\"scatter\"},{\"hoverinfo\":\"text\",\"marker\":{\"color\":\"rgb(0,116,217)\"},\"mode\":\"lines\",\"text\":[\"hype_classic_doom_damn_hold\",\"\",\"\",\"hate_gi_meat_straight_epic\"],\"x\":{\"dtype\":\"f8\",\"bdata\":\"WJMlYn8R7j8nqHXlJi3wPyeodeUmLfA\\u002fCYQqJ9T97z8=\"},\"xaxis\":\"x\",\"y\":{\"dtype\":\"f8\",\"bdata\":\"AAAAAAAgh8AAAAAAACCHwAAAAAAAwIfAAAAAAADAh8A=\"},\"yaxis\":\"y\",\"type\":\"scatter\"},{\"hoverinfo\":\"text\",\"marker\":{\"color\":\"rgb(0,116,217)\"},\"mode\":\"lines\",\"text\":[\"murder_government_us_accidentally_blow\",\"\",\"\",\"hate_hype_classic_doom_gi\"],\"x\":{\"dtype\":\"f8\",\"bdata\":\"g0V1sUOL7z8jYETQM3rwPyNgRNAzevA\\u002fJ6h15SYt8D8=\"},\"xaxis\":\"x\",\"y\":{\"dtype\":\"f8\",\"bdata\":\"AAAAAABEhsAAAAAAAESGwAAAAAAAcIfAAAAAAABwh8A=\"},\"yaxis\":\"y\",\"type\":\"scatter\"},{\"hoverinfo\":\"text\",\"marker\":{\"color\":\"rgb(0,116,217)\"},\"mode\":\"lines\",\"text\":[\"remake_hitman_soul_worth_dark\",\"\",\"\",\"murder_hate_friend_government_us\"],\"x\":{\"dtype\":\"f8\",\"bdata\":\"0dTW8YLm7z9zXM\\u002fl2sbwP3Ncz+XaxvA\\u002fI2BE0DN68D8=\"},\"xaxis\":\"x\",\"y\":{\"dtype\":\"f8\",\"bdata\":\"AAAAAABAhcAAAAAAAECFwAAAAAAA2obAAAAAAADahsA=\"},\"yaxis\":\"y\",\"type\":\"scatter\"},{\"hoverinfo\":\"text\",\"marker\":{\"color\":\"rgb(0,116,217)\"},\"mode\":\"lines\",\"text\":[\"horror_shooter_wolfenstein_person_first\",\"\",\"\",\"remake_worth_hitman_soul_murder\"],\"x\":{\"dtype\":\"f8\",\"bdata\":\"D+rJ45xD8D8w8hx9HjDxPzDyHH0eMPE\\u002fc1zP5drG8D8=\"},\"xaxis\":\"x\",\"y\":{\"dtype\":\"f8\",\"bdata\":\"AAAAAACXg8AAAAAAAJeDwAAAAAAADYbAAAAAAAANhsA=\"},\"yaxis\":\"y\",\"type\":\"scatter\"},{\"hoverinfo\":\"text\",\"marker\":{\"color\":\"rgb(0,116,217)\"},\"mode\":\"lines\",\"text\":[\"life_half_eat_society_download\",\"\",\"\",\"horror_shooter_classic_wolfenstein_fun\"],\"x\":{\"dtype\":\"f8\",\"bdata\":\"aNbgr\\u002f+V6j\\u002fnFpEGgp7xP+cWkQaCnvE\\u002fMPIcfR4w8T8=\"},\"xaxis\":\"x\",\"y\":{\"dtype\":\"f8\",\"bdata\":\"AAAAAABwgsAAAAAAAHCCwAAAAAAA0oTAAAAAAADShMA=\"},\"yaxis\":\"y\",\"type\":\"scatter\"},{\"hoverinfo\":\"text\",\"marker\":{\"color\":\"rgb(0,116,217)\"},\"mode\":\"lines\",\"text\":[\"hour_story_good_beautiful_masterpiece\",\"\",\"\",\"life_horror_shooter_half_classic\"],\"x\":{\"dtype\":\"f8\",\"bdata\":\"JOShdT0w8T9gRG+1ll7yP2BEb7WWXvI\\u002f5xaRBoKe8T8=\"},\"xaxis\":\"x\",\"y\":{\"dtype\":\"f8\",\"bdata\":\"AAAAAOAygMAAAAAA4DKAwAAAAAAAoYPAAAAAAAChg8A=\"},\"yaxis\":\"y\",\"type\":\"scatter\"},{\"hoverinfo\":\"text\",\"marker\":{\"color\":\"rgb(0,116,217)\"},\"mode\":\"lines\",\"text\":[\"buy_crash_multiplayer_game_per\",\"\",\"\",\"good_story_great_hour_game\"],\"x\":{\"dtype\":\"f8\",\"bdata\":\"QwtgwJAB8z8RxLkADEv0PxHEuQAMS\\u002fQ\\u002fYERvtZZe8j8=\"},\"xaxis\":\"x\",\"y\":{\"dtype\":\"f8\",\"bdata\":\"AAAAAEAAdcAAAAAAQAB1wAAAAADw6YHAAAAAAPDpgcA=\"},\"yaxis\":\"y\",\"type\":\"scatter\"},{\"hoverinfo\":\"text\",\"marker\":{\"color\":\"rgb(0,116,217)\"},\"mode\":\"lines\",\"text\":[\"game_like_make_get_feel\",\"\",\"\",\"game_good_buy_play_story\"],\"x\":{\"dtype\":\"f8\",\"bdata\":\"\\u002fqjzo\\u002fHs8D8GjhQ\\u002f6p\\u002f4PwaOFD\\u002fqn\\u002fg\\u002fEcS5AAxL9D8=\"},\"xaxis\":\"x\",\"y\":{\"dtype\":\"f8\",\"bdata\":\"AAAAACB+VsAAAAAAIH5WwAAAAAAQanzAAAAAABBqfMA=\"},\"yaxis\":\"y\",\"type\":\"scatter\"},{\"hoverinfo\":\"text\",\"hovertext\":[\"puzzle_telltale_plot_adventure_think\",\"character_game_feel_like_make\",\"character_feel_game_story_like\",\"shoot_camera_lynch_match_defense\",\"game_character_like_feel_story\",\"game_like_character_feel_make\",\"row_review_saint_jalopy_merrily\",\"game_like_feel_make_character\",\"card_deck_match_outcome_unlock\",\"game_like_feel_make_get\",\"puzzle_telltale_plot_adventure_one\",\"crash_ea_problem_desktop_fix\",\"coop_disconnect_online_microsoft_misson\",\"server_ban_community_css_csgo\",\"unit_war_achievement_break_peace\",\"free_hacker_downloadable_pay_content\",\"multiplayer_server_halo_quake_community\",\"crash_per_frame_second_coop\",\"buy_sale_efootball_pe_refund\",\"crash_multiplayer_per_frame_game\",\"mafia_bioshock_masterpiece_metal_orignal\",\"shot_sniping_fox_sniper_incredible\",\"vr_mafia_bioshock_masterpiece_great\",\"awesome_amazing_story_great_good\",\"awesome_amazing_relax_story_good\",\"vr_mafia_bioshock_great_assassin\",\"addict_nearly_addictive_everyone_questalike\",\"hour_paint_average_beautiful_wait\",\"vr_great_good_amazing_mafia\",\"wolfenstein_horror_rise_nazi_gunslinger\",\"shooter_person_shooting_antidote_refreshing\",\"remake_worth_halflife_blue_shift\",\"hype_classic_doom_damn_hold\",\"murder_government_us_accidentally_blow\",\"remake_hitman_soul_worth_dark\",\"horror_shooter_wolfenstein_person_first\",\"life_half_eat_society_download\",\"hour_story_good_beautiful_masterpiece\",\"buy_crash_multiplayer_game_per\",\"game_like_make_get_feel\"],\"marker\":{\"color\":\"black\"},\"mode\":\"markers\",\"showlegend\":false,\"x\":[0.7273825476637616,0.518512058018221,0.6644962169154126,0.7553946352542701,0.7746733292304643,0.8238787982146349,0.828158132911793,0.9013925873949197,0.6830530080794979,0.9126919233519049,0.9077335534410412,0.8158191101440249,0.8340607719599742,0.8945678890817272,0.9218625588292402,0.9432083306535269,0.9559346073521874,1.0490565554366196,0.7825815985733555,1.0948296436795664,0.9313447745133162,0.9231514455751728,0.9587843384776816,0.8120016111557724,0.8962167989132211,0.9827253355395361,0.9160831869469401,0.8344676123670716,1.0406152550461931,0.8640279994403518,0.9229627883708486,0.8907332126293677,0.9396359364442146,0.9857500520685537,0.9968886111661509,1.0165070436474968,0.8308103976366512,1.0742773623480923,1.1878821863799238,1.057847633778294],\"y\":[-20.0,-90.0,-97.5,-70.0,-88.125,-109.0625,-50.0,-89.765625,-190.0,-129.8828125,-16.25,-240.0,-220.0,-280.0,-352.5,-322.5,-290.0,-235.0,-400.0,-275.78125,-452.5,-490.0,-463.75,-520.0,-527.5,-480.625,-430.0,-560.0,-469.21875,-632.5,-610.0,-670.0,-740.0,-712.5,-680.0,-626.875,-590.0,-518.359375,-336.015625,-89.970703125],\"type\":\"scatter\"},{\"hoverinfo\":\"text\",\"hovertext\":[\"puzzle_telltale_plot_adventure_like\",\"game_character_story_feel_like\",\"game_board_play_fun_friend\",\"fallout_mod_cry_far_zombie\",\"game_like_feel_character_make\",\"city_building_builder_devs_survive\",\"card_deck_match_outcome_unlock\",\"game_like_make_feel_get\",\"frame_per_second_pc_console\",\"frame_crash_per_second_file\",\"multiplayer_halo_quake_overwatch_series\",\"free_downloadable_content_pay_valve\",\"unit_war_achievement_peace_invasion\",\"unit_war_break_achievement_chaos\",\"free_downloadable_unit_content_war\",\"multiplayer_halo_server_free_game\",\"buy_sale_efootball_pe_refund\",\"buy_sale_price_pe_efootball\",\"bioshock_masterpiece_metal_orignal_kombat\",\"assassin_creed_shot_ezio_incredible\",\"awesome_amazing_relax_good_story\",\"vr_great_amazing_good_mafia\",\"hour_paint_average_short_beautiful\",\"wolfenstein_horror_nazi_gunslinger_shooter\",\"horror_wolfenstein_rise_nazi_fun\",\"hitman_soul_dark_boss_otherwise\",\"murder_accidentally_friend_chase_scream\",\"hate_gi_meat_straight_epic\",\"hate_hype_classic_doom_gi\",\"murder_hate_friend_government_us\",\"remake_worth_hitman_soul_murder\",\"horror_shooter_classic_wolfenstein_fun\",\"life_horror_shooter_half_classic\",\"good_story_great_hour_game\",\"game_good_buy_play_story\"],\"marker\":{\"color\":\"black\"},\"mode\":\"markers\",\"showlegend\":false,\"x\":[0.8877324794035596,0.7408561644041268,0.7813894906495799,0.8554775394221152,0.8785859768011292,0.7929820790792577,0.7893913614909505,1.0229727868063057,0.8049424701361108,0.98948870816671,0.794451829930254,0.8899828167619586,0.8379751450561201,0.9650657118062762,1.000314628066901,1.0323341716579315,0.8252928739760749,0.9455470006075553,0.8705461811377884,0.9698787709785166,0.9508353737508483,0.9912123820111023,0.8588326850687793,0.8159958140156277,0.912941918267768,0.9472677275254355,0.9409979158741038,0.9997349514925428,1.0110234225526342,1.0298345694955138,1.0485486008599565,1.0742478263119999,1.1011982208742042,1.1480929457941542,1.2683219936700463],\"y\":[-27.5,-106.25,-130.0,-150.0,-129.53125,-170.0,-197.5,-163.69140625,-260.0,-250.0,-300.0,-330.0,-360.0,-363.75,-343.125,-316.5625,-407.5,-396.25,-460.0,-497.5,-536.25,-508.4375,-567.5,-640.0,-643.75,-690.0,-720.0,-760.0,-750.0,-731.25,-705.625,-666.25,-628.125,-573.2421875,-454.62890625],\"type\":\"scatter\"}],                        {\"autosize\":false,\"height\":1355,\"hovermode\":\"closest\",\"showlegend\":false,\"width\":1000,\"xaxis\":{\"mirror\":\"allticks\",\"rangemode\":\"tozero\",\"showgrid\":false,\"showline\":true,\"showticklabels\":true,\"ticks\":\"outside\",\"type\":\"linear\",\"zeroline\":false},\"yaxis\":{\"mirror\":\"allticks\",\"rangemode\":\"tozero\",\"showgrid\":false,\"showline\":true,\"showticklabels\":true,\"tickmode\":\"array\",\"ticks\":\"outside\",\"ticktext\":[\"61_puzzle_toward_snipping\",\"33_telltale_adventure_puzzle\",\"6_puzzle_plot_outer\",\"62_back_screen_fade\",\"51_row_saint_jalopy\",\"13_review_overpowered_rally\",\"18_defense_mech_xcom\",\"40_shoot_lynch_camera\",\"2_content_release_season\",\"0_character_feel_game\",\"1_story_writing_gameplay\",\"30_duel_genre_modification\",\"24_friend_enjoyable_magick\",\"5_check_girl_game\",\"35_cry_far_zombie\",\"31_fallout_mod_rpgs\",\"58_devs_grind_zombie\",\"12_city_builder_scenario\",\"21_train_spire_slay\",\"3_card_deck_match\",\"27_card_play_battle\",\"57_coop_couch_funcreepy\",\"53_disconnect_microsoft_mis...\",\"74_ea_warhammer_crash\",\"9_crash_desktop_problem\",\"23_frame_per_second\",\"43_pc_console_file\",\"36_ban_server_admittedly\",\"46_csgo_css_cs\",\"69_multiplayer_server_favou...\",\"45_halo_multiplayer_quake\",\"50_hacker_ass_laugh\",\"75_valve_hacker_free\",\"10_free_downloadable_content\",\"39_buggy_sr_break\",\"15_achievement_peace_invasion\",\"29_unit_war_commander\",\"59_wish_retribution_barney\",\"67_price_epic_correctley\",\"25_buy_refund_abandonware\",\"48_buy_pe_efootball\",\"70_buy_favor_ace\",\"56_addict_addictive_oki\",\"16_helldiver_awdeome_aweosme\",\"73_mafia_vito_definitive\",\"63_soundtrack_dishonor_metal\",\"19_bioshock_masterpiece_ori...\",\"47_vr_narration_headset\",\"68_fantastic_incredible_xen\",\"72_shot_fox_sniping\",\"76_assassin_creed_ezio\",\"11_amazing_story_awesome\",\"8_awesome_relax_faff\",\"71_relax_music_hangover\",\"60_hop_playground_play\",\"22_hour_supergiant_damn\",\"42_hour_paint_average\",\"44_rabbit_download_please\",\"38_eat_life_society\",\"37_half_life_source\",\"66_antidote_refreshing_simu...\",\"14_shooter_person_shooting\",\"28_survivor_vampire_killers\",\"20_horror_crysis_graphic\",\"7_wolfenstein_nazi_gunslinger\",\"26_horror_creepy_psychologi...\",\"41_remake_halflife_blue\",\"65_worth_def_pain\",\"34_hitman_boss_breadman\",\"54_soul_dark_otherwise\",\"4_government_us_blow\",\"17_murder_accidentally_friend\",\"64_girl_chase_house\",\"32_classic_old_certify\",\"55_hype_doom_damn\",\"52_gi_meat_straight\",\"49_hate_taxis_terraria\"],\"tickvals\":[-5.0,-15.0,-25.0,-35.0,-45.0,-55.0,-65.0,-75.0,-85.0,-95.0,-105.0,-115.0,-125.0,-135.0,-145.0,-155.0,-165.0,-175.0,-185.0,-195.0,-205.0,-215.0,-225.0,-235.0,-245.0,-255.0,-265.0,-275.0,-285.0,-295.0,-305.0,-315.0,-325.0,-335.0,-345.0,-355.0,-365.0,-375.0,-385.0,-395.0,-405.0,-415.0,-425.0,-435.0,-445.0,-455.0,-465.0,-475.0,-485.0,-495.0,-505.0,-515.0,-525.0,-535.0,-545.0,-555.0,-565.0,-575.0,-585.0,-595.0,-605.0,-615.0,-625.0,-635.0,-645.0,-655.0,-665.0,-675.0,-685.0,-695.0,-705.0,-715.0,-725.0,-735.0,-745.0,-755.0,-765.0],\"type\":\"linear\",\"zeroline\":false,\"range\":[-770.0,0.0]},\"template\":{\"data\":{\"barpolar\":[{\"marker\":{\"line\":{\"color\":\"white\",\"width\":0.5},\"pattern\":{\"fillmode\":\"overlay\",\"size\":10,\"solidity\":0.2}},\"type\":\"barpolar\"}],\"bar\":[{\"error_x\":{\"color\":\"#2a3f5f\"},\"error_y\":{\"color\":\"#2a3f5f\"},\"marker\":{\"line\":{\"color\":\"white\",\"width\":0.5},\"pattern\":{\"fillmode\":\"overlay\",\"size\":10,\"solidity\":0.2}},\"type\":\"bar\"}],\"carpet\":[{\"aaxis\":{\"endlinecolor\":\"#2a3f5f\",\"gridcolor\":\"#C8D4E3\",\"linecolor\":\"#C8D4E3\",\"minorgridcolor\":\"#C8D4E3\",\"startlinecolor\":\"#2a3f5f\"},\"baxis\":{\"endlinecolor\":\"#2a3f5f\",\"gridcolor\":\"#C8D4E3\",\"linecolor\":\"#C8D4E3\",\"minorgridcolor\":\"#C8D4E3\",\"startlinecolor\":\"#2a3f5f\"},\"type\":\"carpet\"}],\"choropleth\":[{\"colorbar\":{\"outlinewidth\":0,\"ticks\":\"\"},\"type\":\"choropleth\"}],\"contourcarpet\":[{\"colorbar\":{\"outlinewidth\":0,\"ticks\":\"\"},\"type\":\"contourcarpet\"}],\"contour\":[{\"colorbar\":{\"outlinewidth\":0,\"ticks\":\"\"},\"colorscale\":[[0.0,\"#0d0887\"],[0.1111111111111111,\"#46039f\"],[0.2222222222222222,\"#7201a8\"],[0.3333333333333333,\"#9c179e\"],[0.4444444444444444,\"#bd3786\"],[0.5555555555555556,\"#d8576b\"],[0.6666666666666666,\"#ed7953\"],[0.7777777777777778,\"#fb9f3a\"],[0.8888888888888888,\"#fdca26\"],[1.0,\"#f0f921\"]],\"type\":\"contour\"}],\"heatmap\":[{\"colorbar\":{\"outlinewidth\":0,\"ticks\":\"\"},\"colorscale\":[[0.0,\"#0d0887\"],[0.1111111111111111,\"#46039f\"],[0.2222222222222222,\"#7201a8\"],[0.3333333333333333,\"#9c179e\"],[0.4444444444444444,\"#bd3786\"],[0.5555555555555556,\"#d8576b\"],[0.6666666666666666,\"#ed7953\"],[0.7777777777777778,\"#fb9f3a\"],[0.8888888888888888,\"#fdca26\"],[1.0,\"#f0f921\"]],\"type\":\"heatmap\"}],\"histogram2dcontour\":[{\"colorbar\":{\"outlinewidth\":0,\"ticks\":\"\"},\"colorscale\":[[0.0,\"#0d0887\"],[0.1111111111111111,\"#46039f\"],[0.2222222222222222,\"#7201a8\"],[0.3333333333333333,\"#9c179e\"],[0.4444444444444444,\"#bd3786\"],[0.5555555555555556,\"#d8576b\"],[0.6666666666666666,\"#ed7953\"],[0.7777777777777778,\"#fb9f3a\"],[0.8888888888888888,\"#fdca26\"],[1.0,\"#f0f921\"]],\"type\":\"histogram2dcontour\"}],\"histogram2d\":[{\"colorbar\":{\"outlinewidth\":0,\"ticks\":\"\"},\"colorscale\":[[0.0,\"#0d0887\"],[0.1111111111111111,\"#46039f\"],[0.2222222222222222,\"#7201a8\"],[0.3333333333333333,\"#9c179e\"],[0.4444444444444444,\"#bd3786\"],[0.5555555555555556,\"#d8576b\"],[0.6666666666666666,\"#ed7953\"],[0.7777777777777778,\"#fb9f3a\"],[0.8888888888888888,\"#fdca26\"],[1.0,\"#f0f921\"]],\"type\":\"histogram2d\"}],\"histogram\":[{\"marker\":{\"pattern\":{\"fillmode\":\"overlay\",\"size\":10,\"solidity\":0.2}},\"type\":\"histogram\"}],\"mesh3d\":[{\"colorbar\":{\"outlinewidth\":0,\"ticks\":\"\"},\"type\":\"mesh3d\"}],\"parcoords\":[{\"line\":{\"colorbar\":{\"outlinewidth\":0,\"ticks\":\"\"}},\"type\":\"parcoords\"}],\"pie\":[{\"automargin\":true,\"type\":\"pie\"}],\"scatter3d\":[{\"line\":{\"colorbar\":{\"outlinewidth\":0,\"ticks\":\"\"}},\"marker\":{\"colorbar\":{\"outlinewidth\":0,\"ticks\":\"\"}},\"type\":\"scatter3d\"}],\"scattercarpet\":[{\"marker\":{\"colorbar\":{\"outlinewidth\":0,\"ticks\":\"\"}},\"type\":\"scattercarpet\"}],\"scattergeo\":[{\"marker\":{\"colorbar\":{\"outlinewidth\":0,\"ticks\":\"\"}},\"type\":\"scattergeo\"}],\"scattergl\":[{\"marker\":{\"colorbar\":{\"outlinewidth\":0,\"ticks\":\"\"}},\"type\":\"scattergl\"}],\"scattermapbox\":[{\"marker\":{\"colorbar\":{\"outlinewidth\":0,\"ticks\":\"\"}},\"type\":\"scattermapbox\"}],\"scattermap\":[{\"marker\":{\"colorbar\":{\"outlinewidth\":0,\"ticks\":\"\"}},\"type\":\"scattermap\"}],\"scatterpolargl\":[{\"marker\":{\"colorbar\":{\"outlinewidth\":0,\"ticks\":\"\"}},\"type\":\"scatterpolargl\"}],\"scatterpolar\":[{\"marker\":{\"colorbar\":{\"outlinewidth\":0,\"ticks\":\"\"}},\"type\":\"scatterpolar\"}],\"scatter\":[{\"fillpattern\":{\"fillmode\":\"overlay\",\"size\":10,\"solidity\":0.2},\"type\":\"scatter\"}],\"scatterternary\":[{\"marker\":{\"colorbar\":{\"outlinewidth\":0,\"ticks\":\"\"}},\"type\":\"scatterternary\"}],\"surface\":[{\"colorbar\":{\"outlinewidth\":0,\"ticks\":\"\"},\"colorscale\":[[0.0,\"#0d0887\"],[0.1111111111111111,\"#46039f\"],[0.2222222222222222,\"#7201a8\"],[0.3333333333333333,\"#9c179e\"],[0.4444444444444444,\"#bd3786\"],[0.5555555555555556,\"#d8576b\"],[0.6666666666666666,\"#ed7953\"],[0.7777777777777778,\"#fb9f3a\"],[0.8888888888888888,\"#fdca26\"],[1.0,\"#f0f921\"]],\"type\":\"surface\"}],\"table\":[{\"cells\":{\"fill\":{\"color\":\"#EBF0F8\"},\"line\":{\"color\":\"white\"}},\"header\":{\"fill\":{\"color\":\"#C8D4E3\"},\"line\":{\"color\":\"white\"}},\"type\":\"table\"}]},\"layout\":{\"annotationdefaults\":{\"arrowcolor\":\"#2a3f5f\",\"arrowhead\":0,\"arrowwidth\":1},\"autotypenumbers\":\"strict\",\"coloraxis\":{\"colorbar\":{\"outlinewidth\":0,\"ticks\":\"\"}},\"colorscale\":{\"diverging\":[[0,\"#8e0152\"],[0.1,\"#c51b7d\"],[0.2,\"#de77ae\"],[0.3,\"#f1b6da\"],[0.4,\"#fde0ef\"],[0.5,\"#f7f7f7\"],[0.6,\"#e6f5d0\"],[0.7,\"#b8e186\"],[0.8,\"#7fbc41\"],[0.9,\"#4d9221\"],[1,\"#276419\"]],\"sequential\":[[0.0,\"#0d0887\"],[0.1111111111111111,\"#46039f\"],[0.2222222222222222,\"#7201a8\"],[0.3333333333333333,\"#9c179e\"],[0.4444444444444444,\"#bd3786\"],[0.5555555555555556,\"#d8576b\"],[0.6666666666666666,\"#ed7953\"],[0.7777777777777778,\"#fb9f3a\"],[0.8888888888888888,\"#fdca26\"],[1.0,\"#f0f921\"]],\"sequentialminus\":[[0.0,\"#0d0887\"],[0.1111111111111111,\"#46039f\"],[0.2222222222222222,\"#7201a8\"],[0.3333333333333333,\"#9c179e\"],[0.4444444444444444,\"#bd3786\"],[0.5555555555555556,\"#d8576b\"],[0.6666666666666666,\"#ed7953\"],[0.7777777777777778,\"#fb9f3a\"],[0.8888888888888888,\"#fdca26\"],[1.0,\"#f0f921\"]]},\"colorway\":[\"#636efa\",\"#EF553B\",\"#00cc96\",\"#ab63fa\",\"#FFA15A\",\"#19d3f3\",\"#FF6692\",\"#B6E880\",\"#FF97FF\",\"#FECB52\"],\"font\":{\"color\":\"#2a3f5f\"},\"geo\":{\"bgcolor\":\"white\",\"lakecolor\":\"white\",\"landcolor\":\"white\",\"showlakes\":true,\"showland\":true,\"subunitcolor\":\"#C8D4E3\"},\"hoverlabel\":{\"align\":\"left\"},\"hovermode\":\"closest\",\"mapbox\":{\"style\":\"light\"},\"paper_bgcolor\":\"white\",\"plot_bgcolor\":\"white\",\"polar\":{\"angularaxis\":{\"gridcolor\":\"#EBF0F8\",\"linecolor\":\"#EBF0F8\",\"ticks\":\"\"},\"bgcolor\":\"white\",\"radialaxis\":{\"gridcolor\":\"#EBF0F8\",\"linecolor\":\"#EBF0F8\",\"ticks\":\"\"}},\"scene\":{\"xaxis\":{\"backgroundcolor\":\"white\",\"gridcolor\":\"#DFE8F3\",\"gridwidth\":2,\"linecolor\":\"#EBF0F8\",\"showbackground\":true,\"ticks\":\"\",\"zerolinecolor\":\"#EBF0F8\"},\"yaxis\":{\"backgroundcolor\":\"white\",\"gridcolor\":\"#DFE8F3\",\"gridwidth\":2,\"linecolor\":\"#EBF0F8\",\"showbackground\":true,\"ticks\":\"\",\"zerolinecolor\":\"#EBF0F8\"},\"zaxis\":{\"backgroundcolor\":\"white\",\"gridcolor\":\"#DFE8F3\",\"gridwidth\":2,\"linecolor\":\"#EBF0F8\",\"showbackground\":true,\"ticks\":\"\",\"zerolinecolor\":\"#EBF0F8\"}},\"shapedefaults\":{\"line\":{\"color\":\"#2a3f5f\"}},\"ternary\":{\"aaxis\":{\"gridcolor\":\"#DFE8F3\",\"linecolor\":\"#A2B1C6\",\"ticks\":\"\"},\"baxis\":{\"gridcolor\":\"#DFE8F3\",\"linecolor\":\"#A2B1C6\",\"ticks\":\"\"},\"bgcolor\":\"white\",\"caxis\":{\"gridcolor\":\"#DFE8F3\",\"linecolor\":\"#A2B1C6\",\"ticks\":\"\"}},\"title\":{\"x\":0.05},\"xaxis\":{\"automargin\":true,\"gridcolor\":\"#EBF0F8\",\"linecolor\":\"#EBF0F8\",\"ticks\":\"\",\"title\":{\"standoff\":15},\"zerolinecolor\":\"#EBF0F8\",\"zerolinewidth\":2},\"yaxis\":{\"automargin\":true,\"gridcolor\":\"#EBF0F8\",\"linecolor\":\"#EBF0F8\",\"ticks\":\"\",\"title\":{\"standoff\":15},\"zerolinecolor\":\"#EBF0F8\",\"zerolinewidth\":2}}},\"title\":{\"font\":{\"size\":22,\"color\":\"Black\"},\"text\":\"\\u003cb\\u003eHierarchical Clustering\\u003c\\u002fb\\u003e\",\"x\":0.5,\"xanchor\":\"center\",\"yanchor\":\"top\"},\"hoverlabel\":{\"font\":{\"size\":16,\"family\":\"Rockwell\"},\"bgcolor\":\"white\"},\"plot_bgcolor\":\"#ECEFF1\"},                        {\"responsive\": true}                    ).then(function(){\n",
       "                            \n",
       "var gd = document.getElementById('87528fa5-c8c8-4e0b-8eea-059d06a86f3d');\n",
       "var x = new MutationObserver(function (mutations, observer) {{\n",
       "        var display = window.getComputedStyle(gd).display;\n",
       "        if (!display || display === 'none') {{\n",
       "            console.log([gd, 'removed!']);\n",
       "            Plotly.purge(gd);\n",
       "            observer.disconnect();\n",
       "        }}\n",
       "}});\n",
       "\n",
       "// Listen for the removal of the full notebook cells\n",
       "var notebookContainer = gd.closest('#notebook-container');\n",
       "if (notebookContainer) {{\n",
       "    x.observe(notebookContainer, {childList: true});\n",
       "}}\n",
       "\n",
       "// Listen for the clearing of the current output cell\n",
       "var outputEl = gd.closest('.output');\n",
       "if (outputEl) {{\n",
       "    x.observe(outputEl, {childList: true});\n",
       "}}\n",
       "\n",
       "                        })                };            </script>        </div>"
      ]
     },
     "metadata": {},
     "output_type": "display_data"
    }
   ],
   "source": [
    "import plotly.io as pio\n",
    "pio.renderers.default = \"plotly_mimetype+notebook_connected\"\n",
    "\n",
    "hier = final_model.hierarchical_topics(docs)\n",
    "fig_hier = final_model.visualize_hierarchy(hierarchical_topics=hier)\n",
    "fig_hier.show()\n"
   ]
  },
  {
   "cell_type": "code",
   "execution_count": 49,
   "id": "82a9a575",
   "metadata": {},
   "outputs": [
    {
     "data": {
      "application/vnd.plotly.v1+json": {
       "config": {
        "plotlyServerURL": "https://plot.ly"
       },
       "data": [
        {
         "marker": {
          "color": "#D55E00"
         },
         "orientation": "h",
         "type": "bar",
         "x": [
          0.008200626177158615,
          0.008300976707485749,
          0.008613821608354489,
          0.008671644172337921,
          0.009529676231911513
         ],
         "xaxis": "x",
         "y": [
          "like  ",
          "make  ",
          "game  ",
          "feel  ",
          "character  "
         ],
         "yaxis": "y"
        },
        {
         "marker": {
          "color": "#0072B2"
         },
         "orientation": "h",
         "type": "bar",
         "x": [
          0.01099571115802714,
          0.011600669470872075,
          0.014144527302063161,
          0.01424166058857309,
          0.020351512587716867
         ],
         "xaxis": "x2",
         "y": [
          "back  ",
          "content  ",
          "like  ",
          "game  ",
          "puzzle  "
         ],
         "yaxis": "y2"
        },
        {
         "marker": {
          "color": "#CC79A7"
         },
         "orientation": "h",
         "type": "bar",
         "x": [
          0.02290412676571232,
          0.02457082347641147,
          0.026382911896035668,
          0.04012343962845639,
          0.06984585731467928
         ],
         "xaxis": "x3",
         "y": [
          "psychological  ",
          "crysis  ",
          "fear  ",
          "creepy  ",
          "horror  "
         ],
         "yaxis": "y3"
        },
        {
         "marker": {
          "color": "#E69F00"
         },
         "orientation": "h",
         "type": "bar",
         "x": [
          0.012050311859544093,
          0.012206896040216807,
          0.012554753690194417,
          0.014110053712932032,
          0.016529583061916486
         ],
         "xaxis": "x4",
         "y": [
          "even  ",
          "match  ",
          "lynch  ",
          "camera  ",
          "shoot  "
         ],
         "yaxis": "y4"
        },
        {
         "marker": {
          "color": "#56B4E9"
         },
         "orientation": "h",
         "type": "bar",
         "x": [
          0.018405569371148314,
          0.019781200911286895,
          0.02199418062019213,
          0.022181696956013318,
          0.02628819141187105
         ],
         "xaxis": "x5",
         "y": [
          "borderland  ",
          "cutscene  ",
          "gameplay  ",
          "writing  ",
          "story  "
         ],
         "yaxis": "y5"
        },
        {
         "marker": {
          "color": "#009E73"
         },
         "orientation": "h",
         "type": "bar",
         "x": [
          0.016189992788139294,
          0.018394145591302175,
          0.020398867679706056,
          0.02574239497853888,
          0.05434226720916842
         ],
         "xaxis": "x6",
         "y": [
          "unlock  ",
          "outcome  ",
          "match  ",
          "deck  ",
          "card  "
         ],
         "yaxis": "y6"
        },
        {
         "marker": {
          "color": "#F0E442"
         },
         "orientation": "h",
         "type": "bar",
         "x": [
          0.016950917825082106,
          0.01751694705860418,
          0.02993960625237383,
          0.03505677442331498,
          0.037424507815467294
         ],
         "xaxis": "x7",
         "y": [
          "merrily  ",
          "look  ",
          "saint  ",
          "review  ",
          "row  "
         ],
         "yaxis": "y7"
        },
        {
         "marker": {
          "color": "#D55E00"
         },
         "orientation": "h",
         "type": "bar",
         "x": [
          0.05184291965187587,
          0.05440409001079128,
          0.06185657040286666,
          0.08591704298846722,
          0.13671201128369556
         ],
         "xaxis": "x8",
         "y": [
          "pretty  ",
          "good  ",
          "music  ",
          "awesome  ",
          "relax  "
         ],
         "yaxis": "y8"
        },
        {
         "marker": {
          "color": "#0072B2"
         },
         "orientation": "h",
         "type": "bar",
         "x": [
          0.020023819198148995,
          0.02017288454388767,
          0.021311637369385964,
          0.021523594639296397,
          0.021942933309282563
         ],
         "xaxis": "x9",
         "y": [
          "fcking  ",
          "play  ",
          "girl  ",
          "check  ",
          "game  "
         ],
         "yaxis": "y9"
        },
        {
         "marker": {
          "color": "#CC79A7"
         },
         "orientation": "h",
         "type": "bar",
         "x": [
          0.09355705874904495,
          0.11458509025057273,
          0.15772055232003354,
          0.1602187713659203,
          0.17166732971167178
         ],
         "xaxis": "x10",
         "y": [
          "award  ",
          "aye  ",
          "blow  ",
          "us  ",
          "government  "
         ],
         "yaxis": "y10"
        },
        {
         "marker": {
          "color": "#E69F00"
         },
         "orientation": "h",
         "type": "bar",
         "x": [
          0.02719719917611687,
          0.030628239380476766,
          0.03197485984256952,
          0.03474850059183461,
          0.052919813627329476
         ],
         "xaxis": "x11",
         "y": [
          "shooter  ",
          "juarez  ",
          "gunslinger  ",
          "nazi  ",
          "wolfenstein  "
         ],
         "yaxis": "y11"
        },
        {
         "marker": {
          "color": "#56B4E9"
         },
         "orientation": "h",
         "type": "bar",
         "x": [
          0.03167823616360402,
          0.03167823616360402,
          0.0414216819457577,
          0.06236858342693341,
          0.06356657597813548
         ],
         "xaxis": "x12",
         "y": [
          "kombat  ",
          "orignal  ",
          "masterpiece  ",
          "bioshock  ",
          "mafia  "
         ],
         "yaxis": "y12"
        },
        {
         "marker": {
          "color": "#009E73"
         },
         "orientation": "h",
         "type": "bar",
         "x": [
          0.03506763939123398,
          0.03735689462714597,
          0.0417081926370568,
          0.04745456838182019,
          0.12911546070740504
         ],
         "xaxis": "x13",
         "y": [
          "constantly  ",
          "dx  ",
          "problem  ",
          "desktop  ",
          "crash  "
         ],
         "yaxis": "y13"
        },
        {
         "marker": {
          "color": "#F0E442"
         },
         "orientation": "h",
         "type": "bar",
         "x": [
          0.04835202717537582,
          0.05378162002790211,
          0.05535040269449331,
          0.08915925059270952,
          0.09009702986108276
         ],
         "xaxis": "x14",
         "y": [
          "must  ",
          "history  ",
          "awesome  ",
          "story  ",
          "amazing  "
         ],
         "yaxis": "y14"
        },
        {
         "marker": {
          "color": "#D55E00"
         },
         "orientation": "h",
         "type": "bar",
         "x": [
          0.027153908036408908,
          0.033687626005071275,
          0.034617101594752064,
          0.04385947253619088,
          0.08018152371301508
         ],
         "xaxis": "x15",
         "y": [
          "skyline  ",
          "building  ",
          "scenario  ",
          "builder  ",
          "city  "
         ],
         "yaxis": "y15"
        }
       ],
       "layout": {
        "annotations": [
         {
          "font": {
           "size": 16
          },
          "showarrow": false,
          "text": "Topic 0",
          "x": 0.0875,
          "xanchor": "center",
          "xref": "paper",
          "y": 1,
          "yanchor": "bottom",
          "yref": "paper"
         },
         {
          "font": {
           "size": 16
          },
          "showarrow": false,
          "text": "Topic 1",
          "x": 0.36250000000000004,
          "xanchor": "center",
          "xref": "paper",
          "y": 1,
          "yanchor": "bottom",
          "yref": "paper"
         },
         {
          "font": {
           "size": 16
          },
          "showarrow": false,
          "text": "Topic 2",
          "x": 0.6375000000000001,
          "xanchor": "center",
          "xref": "paper",
          "y": 1,
          "yanchor": "bottom",
          "yref": "paper"
         },
         {
          "font": {
           "size": 16
          },
          "showarrow": false,
          "text": "Topic 3",
          "x": 0.9125,
          "xanchor": "center",
          "xref": "paper",
          "y": 1,
          "yanchor": "bottom",
          "yref": "paper"
         },
         {
          "font": {
           "size": 16
          },
          "showarrow": false,
          "text": "Topic 4",
          "x": 0.0875,
          "xanchor": "center",
          "xref": "paper",
          "y": 0.7250000000000001,
          "yanchor": "bottom",
          "yref": "paper"
         },
         {
          "font": {
           "size": 16
          },
          "showarrow": false,
          "text": "Topic 5",
          "x": 0.36250000000000004,
          "xanchor": "center",
          "xref": "paper",
          "y": 0.7250000000000001,
          "yanchor": "bottom",
          "yref": "paper"
         },
         {
          "font": {
           "size": 16
          },
          "showarrow": false,
          "text": "Topic 6",
          "x": 0.6375000000000001,
          "xanchor": "center",
          "xref": "paper",
          "y": 0.7250000000000001,
          "yanchor": "bottom",
          "yref": "paper"
         },
         {
          "font": {
           "size": 16
          },
          "showarrow": false,
          "text": "Topic 7",
          "x": 0.9125,
          "xanchor": "center",
          "xref": "paper",
          "y": 0.7250000000000001,
          "yanchor": "bottom",
          "yref": "paper"
         },
         {
          "font": {
           "size": 16
          },
          "showarrow": false,
          "text": "Topic 8",
          "x": 0.0875,
          "xanchor": "center",
          "xref": "paper",
          "y": 0.45,
          "yanchor": "bottom",
          "yref": "paper"
         },
         {
          "font": {
           "size": 16
          },
          "showarrow": false,
          "text": "Topic 9",
          "x": 0.36250000000000004,
          "xanchor": "center",
          "xref": "paper",
          "y": 0.45,
          "yanchor": "bottom",
          "yref": "paper"
         },
         {
          "font": {
           "size": 16
          },
          "showarrow": false,
          "text": "Topic 10",
          "x": 0.6375000000000001,
          "xanchor": "center",
          "xref": "paper",
          "y": 0.45,
          "yanchor": "bottom",
          "yref": "paper"
         },
         {
          "font": {
           "size": 16
          },
          "showarrow": false,
          "text": "Topic 11",
          "x": 0.9125,
          "xanchor": "center",
          "xref": "paper",
          "y": 0.45,
          "yanchor": "bottom",
          "yref": "paper"
         },
         {
          "font": {
           "size": 16
          },
          "showarrow": false,
          "text": "Topic 12",
          "x": 0.0875,
          "xanchor": "center",
          "xref": "paper",
          "y": 0.175,
          "yanchor": "bottom",
          "yref": "paper"
         },
         {
          "font": {
           "size": 16
          },
          "showarrow": false,
          "text": "Topic 13",
          "x": 0.36250000000000004,
          "xanchor": "center",
          "xref": "paper",
          "y": 0.175,
          "yanchor": "bottom",
          "yref": "paper"
         },
         {
          "font": {
           "size": 16
          },
          "showarrow": false,
          "text": "Topic 14",
          "x": 0.6375000000000001,
          "xanchor": "center",
          "xref": "paper",
          "y": 0.175,
          "yanchor": "bottom",
          "yref": "paper"
         }
        ],
        "height": 1000,
        "hoverlabel": {
         "bgcolor": "white",
         "font": {
          "family": "Rockwell",
          "size": 16
         }
        },
        "showlegend": false,
        "template": {
         "data": {
          "bar": [
           {
            "error_x": {
             "color": "#2a3f5f"
            },
            "error_y": {
             "color": "#2a3f5f"
            },
            "marker": {
             "line": {
              "color": "white",
              "width": 0.5
             },
             "pattern": {
              "fillmode": "overlay",
              "size": 10,
              "solidity": 0.2
             }
            },
            "type": "bar"
           }
          ],
          "barpolar": [
           {
            "marker": {
             "line": {
              "color": "white",
              "width": 0.5
             },
             "pattern": {
              "fillmode": "overlay",
              "size": 10,
              "solidity": 0.2
             }
            },
            "type": "barpolar"
           }
          ],
          "carpet": [
           {
            "aaxis": {
             "endlinecolor": "#2a3f5f",
             "gridcolor": "#C8D4E3",
             "linecolor": "#C8D4E3",
             "minorgridcolor": "#C8D4E3",
             "startlinecolor": "#2a3f5f"
            },
            "baxis": {
             "endlinecolor": "#2a3f5f",
             "gridcolor": "#C8D4E3",
             "linecolor": "#C8D4E3",
             "minorgridcolor": "#C8D4E3",
             "startlinecolor": "#2a3f5f"
            },
            "type": "carpet"
           }
          ],
          "choropleth": [
           {
            "colorbar": {
             "outlinewidth": 0,
             "ticks": ""
            },
            "type": "choropleth"
           }
          ],
          "contour": [
           {
            "colorbar": {
             "outlinewidth": 0,
             "ticks": ""
            },
            "colorscale": [
             [
              0,
              "#0d0887"
             ],
             [
              0.1111111111111111,
              "#46039f"
             ],
             [
              0.2222222222222222,
              "#7201a8"
             ],
             [
              0.3333333333333333,
              "#9c179e"
             ],
             [
              0.4444444444444444,
              "#bd3786"
             ],
             [
              0.5555555555555556,
              "#d8576b"
             ],
             [
              0.6666666666666666,
              "#ed7953"
             ],
             [
              0.7777777777777778,
              "#fb9f3a"
             ],
             [
              0.8888888888888888,
              "#fdca26"
             ],
             [
              1,
              "#f0f921"
             ]
            ],
            "type": "contour"
           }
          ],
          "contourcarpet": [
           {
            "colorbar": {
             "outlinewidth": 0,
             "ticks": ""
            },
            "type": "contourcarpet"
           }
          ],
          "heatmap": [
           {
            "colorbar": {
             "outlinewidth": 0,
             "ticks": ""
            },
            "colorscale": [
             [
              0,
              "#0d0887"
             ],
             [
              0.1111111111111111,
              "#46039f"
             ],
             [
              0.2222222222222222,
              "#7201a8"
             ],
             [
              0.3333333333333333,
              "#9c179e"
             ],
             [
              0.4444444444444444,
              "#bd3786"
             ],
             [
              0.5555555555555556,
              "#d8576b"
             ],
             [
              0.6666666666666666,
              "#ed7953"
             ],
             [
              0.7777777777777778,
              "#fb9f3a"
             ],
             [
              0.8888888888888888,
              "#fdca26"
             ],
             [
              1,
              "#f0f921"
             ]
            ],
            "type": "heatmap"
           }
          ],
          "histogram": [
           {
            "marker": {
             "pattern": {
              "fillmode": "overlay",
              "size": 10,
              "solidity": 0.2
             }
            },
            "type": "histogram"
           }
          ],
          "histogram2d": [
           {
            "colorbar": {
             "outlinewidth": 0,
             "ticks": ""
            },
            "colorscale": [
             [
              0,
              "#0d0887"
             ],
             [
              0.1111111111111111,
              "#46039f"
             ],
             [
              0.2222222222222222,
              "#7201a8"
             ],
             [
              0.3333333333333333,
              "#9c179e"
             ],
             [
              0.4444444444444444,
              "#bd3786"
             ],
             [
              0.5555555555555556,
              "#d8576b"
             ],
             [
              0.6666666666666666,
              "#ed7953"
             ],
             [
              0.7777777777777778,
              "#fb9f3a"
             ],
             [
              0.8888888888888888,
              "#fdca26"
             ],
             [
              1,
              "#f0f921"
             ]
            ],
            "type": "histogram2d"
           }
          ],
          "histogram2dcontour": [
           {
            "colorbar": {
             "outlinewidth": 0,
             "ticks": ""
            },
            "colorscale": [
             [
              0,
              "#0d0887"
             ],
             [
              0.1111111111111111,
              "#46039f"
             ],
             [
              0.2222222222222222,
              "#7201a8"
             ],
             [
              0.3333333333333333,
              "#9c179e"
             ],
             [
              0.4444444444444444,
              "#bd3786"
             ],
             [
              0.5555555555555556,
              "#d8576b"
             ],
             [
              0.6666666666666666,
              "#ed7953"
             ],
             [
              0.7777777777777778,
              "#fb9f3a"
             ],
             [
              0.8888888888888888,
              "#fdca26"
             ],
             [
              1,
              "#f0f921"
             ]
            ],
            "type": "histogram2dcontour"
           }
          ],
          "mesh3d": [
           {
            "colorbar": {
             "outlinewidth": 0,
             "ticks": ""
            },
            "type": "mesh3d"
           }
          ],
          "parcoords": [
           {
            "line": {
             "colorbar": {
              "outlinewidth": 0,
              "ticks": ""
             }
            },
            "type": "parcoords"
           }
          ],
          "pie": [
           {
            "automargin": true,
            "type": "pie"
           }
          ],
          "scatter": [
           {
            "fillpattern": {
             "fillmode": "overlay",
             "size": 10,
             "solidity": 0.2
            },
            "type": "scatter"
           }
          ],
          "scatter3d": [
           {
            "line": {
             "colorbar": {
              "outlinewidth": 0,
              "ticks": ""
             }
            },
            "marker": {
             "colorbar": {
              "outlinewidth": 0,
              "ticks": ""
             }
            },
            "type": "scatter3d"
           }
          ],
          "scattercarpet": [
           {
            "marker": {
             "colorbar": {
              "outlinewidth": 0,
              "ticks": ""
             }
            },
            "type": "scattercarpet"
           }
          ],
          "scattergeo": [
           {
            "marker": {
             "colorbar": {
              "outlinewidth": 0,
              "ticks": ""
             }
            },
            "type": "scattergeo"
           }
          ],
          "scattergl": [
           {
            "marker": {
             "colorbar": {
              "outlinewidth": 0,
              "ticks": ""
             }
            },
            "type": "scattergl"
           }
          ],
          "scattermap": [
           {
            "marker": {
             "colorbar": {
              "outlinewidth": 0,
              "ticks": ""
             }
            },
            "type": "scattermap"
           }
          ],
          "scattermapbox": [
           {
            "marker": {
             "colorbar": {
              "outlinewidth": 0,
              "ticks": ""
             }
            },
            "type": "scattermapbox"
           }
          ],
          "scatterpolar": [
           {
            "marker": {
             "colorbar": {
              "outlinewidth": 0,
              "ticks": ""
             }
            },
            "type": "scatterpolar"
           }
          ],
          "scatterpolargl": [
           {
            "marker": {
             "colorbar": {
              "outlinewidth": 0,
              "ticks": ""
             }
            },
            "type": "scatterpolargl"
           }
          ],
          "scatterternary": [
           {
            "marker": {
             "colorbar": {
              "outlinewidth": 0,
              "ticks": ""
             }
            },
            "type": "scatterternary"
           }
          ],
          "surface": [
           {
            "colorbar": {
             "outlinewidth": 0,
             "ticks": ""
            },
            "colorscale": [
             [
              0,
              "#0d0887"
             ],
             [
              0.1111111111111111,
              "#46039f"
             ],
             [
              0.2222222222222222,
              "#7201a8"
             ],
             [
              0.3333333333333333,
              "#9c179e"
             ],
             [
              0.4444444444444444,
              "#bd3786"
             ],
             [
              0.5555555555555556,
              "#d8576b"
             ],
             [
              0.6666666666666666,
              "#ed7953"
             ],
             [
              0.7777777777777778,
              "#fb9f3a"
             ],
             [
              0.8888888888888888,
              "#fdca26"
             ],
             [
              1,
              "#f0f921"
             ]
            ],
            "type": "surface"
           }
          ],
          "table": [
           {
            "cells": {
             "fill": {
              "color": "#EBF0F8"
             },
             "line": {
              "color": "white"
             }
            },
            "header": {
             "fill": {
              "color": "#C8D4E3"
             },
             "line": {
              "color": "white"
             }
            },
            "type": "table"
           }
          ]
         },
         "layout": {
          "annotationdefaults": {
           "arrowcolor": "#2a3f5f",
           "arrowhead": 0,
           "arrowwidth": 1
          },
          "autotypenumbers": "strict",
          "coloraxis": {
           "colorbar": {
            "outlinewidth": 0,
            "ticks": ""
           }
          },
          "colorscale": {
           "diverging": [
            [
             0,
             "#8e0152"
            ],
            [
             0.1,
             "#c51b7d"
            ],
            [
             0.2,
             "#de77ae"
            ],
            [
             0.3,
             "#f1b6da"
            ],
            [
             0.4,
             "#fde0ef"
            ],
            [
             0.5,
             "#f7f7f7"
            ],
            [
             0.6,
             "#e6f5d0"
            ],
            [
             0.7,
             "#b8e186"
            ],
            [
             0.8,
             "#7fbc41"
            ],
            [
             0.9,
             "#4d9221"
            ],
            [
             1,
             "#276419"
            ]
           ],
           "sequential": [
            [
             0,
             "#0d0887"
            ],
            [
             0.1111111111111111,
             "#46039f"
            ],
            [
             0.2222222222222222,
             "#7201a8"
            ],
            [
             0.3333333333333333,
             "#9c179e"
            ],
            [
             0.4444444444444444,
             "#bd3786"
            ],
            [
             0.5555555555555556,
             "#d8576b"
            ],
            [
             0.6666666666666666,
             "#ed7953"
            ],
            [
             0.7777777777777778,
             "#fb9f3a"
            ],
            [
             0.8888888888888888,
             "#fdca26"
            ],
            [
             1,
             "#f0f921"
            ]
           ],
           "sequentialminus": [
            [
             0,
             "#0d0887"
            ],
            [
             0.1111111111111111,
             "#46039f"
            ],
            [
             0.2222222222222222,
             "#7201a8"
            ],
            [
             0.3333333333333333,
             "#9c179e"
            ],
            [
             0.4444444444444444,
             "#bd3786"
            ],
            [
             0.5555555555555556,
             "#d8576b"
            ],
            [
             0.6666666666666666,
             "#ed7953"
            ],
            [
             0.7777777777777778,
             "#fb9f3a"
            ],
            [
             0.8888888888888888,
             "#fdca26"
            ],
            [
             1,
             "#f0f921"
            ]
           ]
          },
          "colorway": [
           "#636efa",
           "#EF553B",
           "#00cc96",
           "#ab63fa",
           "#FFA15A",
           "#19d3f3",
           "#FF6692",
           "#B6E880",
           "#FF97FF",
           "#FECB52"
          ],
          "font": {
           "color": "#2a3f5f"
          },
          "geo": {
           "bgcolor": "white",
           "lakecolor": "white",
           "landcolor": "white",
           "showlakes": true,
           "showland": true,
           "subunitcolor": "#C8D4E3"
          },
          "hoverlabel": {
           "align": "left"
          },
          "hovermode": "closest",
          "mapbox": {
           "style": "light"
          },
          "paper_bgcolor": "white",
          "plot_bgcolor": "white",
          "polar": {
           "angularaxis": {
            "gridcolor": "#EBF0F8",
            "linecolor": "#EBF0F8",
            "ticks": ""
           },
           "bgcolor": "white",
           "radialaxis": {
            "gridcolor": "#EBF0F8",
            "linecolor": "#EBF0F8",
            "ticks": ""
           }
          },
          "scene": {
           "xaxis": {
            "backgroundcolor": "white",
            "gridcolor": "#DFE8F3",
            "gridwidth": 2,
            "linecolor": "#EBF0F8",
            "showbackground": true,
            "ticks": "",
            "zerolinecolor": "#EBF0F8"
           },
           "yaxis": {
            "backgroundcolor": "white",
            "gridcolor": "#DFE8F3",
            "gridwidth": 2,
            "linecolor": "#EBF0F8",
            "showbackground": true,
            "ticks": "",
            "zerolinecolor": "#EBF0F8"
           },
           "zaxis": {
            "backgroundcolor": "white",
            "gridcolor": "#DFE8F3",
            "gridwidth": 2,
            "linecolor": "#EBF0F8",
            "showbackground": true,
            "ticks": "",
            "zerolinecolor": "#EBF0F8"
           }
          },
          "shapedefaults": {
           "line": {
            "color": "#2a3f5f"
           }
          },
          "ternary": {
           "aaxis": {
            "gridcolor": "#DFE8F3",
            "linecolor": "#A2B1C6",
            "ticks": ""
           },
           "baxis": {
            "gridcolor": "#DFE8F3",
            "linecolor": "#A2B1C6",
            "ticks": ""
           },
           "bgcolor": "white",
           "caxis": {
            "gridcolor": "#DFE8F3",
            "linecolor": "#A2B1C6",
            "ticks": ""
           }
          },
          "title": {
           "x": 0.05
          },
          "xaxis": {
           "automargin": true,
           "gridcolor": "#EBF0F8",
           "linecolor": "#EBF0F8",
           "ticks": "",
           "title": {
            "standoff": 15
           },
           "zerolinecolor": "#EBF0F8",
           "zerolinewidth": 2
          },
          "yaxis": {
           "automargin": true,
           "gridcolor": "#EBF0F8",
           "linecolor": "#EBF0F8",
           "ticks": "",
           "title": {
            "standoff": 15
           },
           "zerolinecolor": "#EBF0F8",
           "zerolinewidth": 2
          }
         }
        },
        "title": {
         "font": {
          "color": "Black",
          "size": 22
         },
         "text": "Topic Word Scores",
         "x": 0.5,
         "xanchor": "center",
         "yanchor": "top"
        },
        "width": 1000,
        "xaxis": {
         "anchor": "y",
         "domain": [
          0,
          0.175
         ],
         "showgrid": true
        },
        "xaxis10": {
         "anchor": "y10",
         "domain": [
          0.275,
          0.45
         ],
         "showgrid": true
        },
        "xaxis11": {
         "anchor": "y11",
         "domain": [
          0.55,
          0.7250000000000001
         ],
         "showgrid": true
        },
        "xaxis12": {
         "anchor": "y12",
         "domain": [
          0.825,
          1
         ],
         "showgrid": true
        },
        "xaxis13": {
         "anchor": "y13",
         "domain": [
          0,
          0.175
         ],
         "showgrid": true
        },
        "xaxis14": {
         "anchor": "y14",
         "domain": [
          0.275,
          0.45
         ],
         "showgrid": true
        },
        "xaxis15": {
         "anchor": "y15",
         "domain": [
          0.55,
          0.7250000000000001
         ],
         "showgrid": true
        },
        "xaxis16": {
         "anchor": "y16",
         "domain": [
          0.825,
          1
         ],
         "showgrid": true
        },
        "xaxis2": {
         "anchor": "y2",
         "domain": [
          0.275,
          0.45
         ],
         "showgrid": true
        },
        "xaxis3": {
         "anchor": "y3",
         "domain": [
          0.55,
          0.7250000000000001
         ],
         "showgrid": true
        },
        "xaxis4": {
         "anchor": "y4",
         "domain": [
          0.825,
          1
         ],
         "showgrid": true
        },
        "xaxis5": {
         "anchor": "y5",
         "domain": [
          0,
          0.175
         ],
         "showgrid": true
        },
        "xaxis6": {
         "anchor": "y6",
         "domain": [
          0.275,
          0.45
         ],
         "showgrid": true
        },
        "xaxis7": {
         "anchor": "y7",
         "domain": [
          0.55,
          0.7250000000000001
         ],
         "showgrid": true
        },
        "xaxis8": {
         "anchor": "y8",
         "domain": [
          0.825,
          1
         ],
         "showgrid": true
        },
        "xaxis9": {
         "anchor": "y9",
         "domain": [
          0,
          0.175
         ],
         "showgrid": true
        },
        "yaxis": {
         "anchor": "x",
         "domain": [
          0.825,
          1
         ],
         "showgrid": true
        },
        "yaxis10": {
         "anchor": "x10",
         "domain": [
          0.275,
          0.45
         ],
         "showgrid": true
        },
        "yaxis11": {
         "anchor": "x11",
         "domain": [
          0.275,
          0.45
         ],
         "showgrid": true
        },
        "yaxis12": {
         "anchor": "x12",
         "domain": [
          0.275,
          0.45
         ],
         "showgrid": true
        },
        "yaxis13": {
         "anchor": "x13",
         "domain": [
          0,
          0.175
         ],
         "showgrid": true
        },
        "yaxis14": {
         "anchor": "x14",
         "domain": [
          0,
          0.175
         ],
         "showgrid": true
        },
        "yaxis15": {
         "anchor": "x15",
         "domain": [
          0,
          0.175
         ],
         "showgrid": true
        },
        "yaxis16": {
         "anchor": "x16",
         "domain": [
          0,
          0.175
         ],
         "showgrid": true
        },
        "yaxis2": {
         "anchor": "x2",
         "domain": [
          0.825,
          1
         ],
         "showgrid": true
        },
        "yaxis3": {
         "anchor": "x3",
         "domain": [
          0.825,
          1
         ],
         "showgrid": true
        },
        "yaxis4": {
         "anchor": "x4",
         "domain": [
          0.825,
          1
         ],
         "showgrid": true
        },
        "yaxis5": {
         "anchor": "x5",
         "domain": [
          0.55,
          0.7250000000000001
         ],
         "showgrid": true
        },
        "yaxis6": {
         "anchor": "x6",
         "domain": [
          0.55,
          0.7250000000000001
         ],
         "showgrid": true
        },
        "yaxis7": {
         "anchor": "x7",
         "domain": [
          0.55,
          0.7250000000000001
         ],
         "showgrid": true
        },
        "yaxis8": {
         "anchor": "x8",
         "domain": [
          0.55,
          0.7250000000000001
         ],
         "showgrid": true
        },
        "yaxis9": {
         "anchor": "x9",
         "domain": [
          0.275,
          0.45
         ],
         "showgrid": true
        }
       }
      },
      "text/html": [
       "<div>            <script src=\"https://cdnjs.cloudflare.com/ajax/libs/mathjax/2.7.5/MathJax.js?config=TeX-AMS-MML_SVG\"></script><script type=\"text/javascript\">if (window.MathJax && window.MathJax.Hub && window.MathJax.Hub.Config) {window.MathJax.Hub.Config({SVG: {font: \"STIX-Web\"}});}</script>                <script type=\"text/javascript\">window.PlotlyConfig = {MathJaxConfig: 'local'};</script>\n",
       "        <script charset=\"utf-8\" src=\"https://cdn.plot.ly/plotly-3.0.0.min.js\"></script>                <div id=\"682b5592-47cf-4814-856c-de71b8b6cb52\" class=\"plotly-graph-div\" style=\"height:1000px; width:1000px;\"></div>            <script type=\"text/javascript\">                window.PLOTLYENV=window.PLOTLYENV || {};                                if (document.getElementById(\"682b5592-47cf-4814-856c-de71b8b6cb52\")) {                    Plotly.newPlot(                        \"682b5592-47cf-4814-856c-de71b8b6cb52\",                        [{\"marker\":{\"color\":\"#D55E00\"},\"orientation\":\"h\",\"x\":[0.008200626177158615,0.008300976707485749,0.008613821608354489,0.008671644172337921,0.009529676231911513],\"y\":[\"like  \",\"make  \",\"game  \",\"feel  \",\"character  \"],\"type\":\"bar\",\"xaxis\":\"x\",\"yaxis\":\"y\"},{\"marker\":{\"color\":\"#0072B2\"},\"orientation\":\"h\",\"x\":[0.01099571115802714,0.011600669470872075,0.014144527302063161,0.01424166058857309,0.020351512587716867],\"y\":[\"back  \",\"content  \",\"like  \",\"game  \",\"puzzle  \"],\"type\":\"bar\",\"xaxis\":\"x2\",\"yaxis\":\"y2\"},{\"marker\":{\"color\":\"#CC79A7\"},\"orientation\":\"h\",\"x\":[0.02290412676571232,0.02457082347641147,0.026382911896035668,0.04012343962845639,0.06984585731467928],\"y\":[\"psychological  \",\"crysis  \",\"fear  \",\"creepy  \",\"horror  \"],\"type\":\"bar\",\"xaxis\":\"x3\",\"yaxis\":\"y3\"},{\"marker\":{\"color\":\"#E69F00\"},\"orientation\":\"h\",\"x\":[0.012050311859544093,0.012206896040216807,0.012554753690194417,0.014110053712932032,0.016529583061916486],\"y\":[\"even  \",\"match  \",\"lynch  \",\"camera  \",\"shoot  \"],\"type\":\"bar\",\"xaxis\":\"x4\",\"yaxis\":\"y4\"},{\"marker\":{\"color\":\"#56B4E9\"},\"orientation\":\"h\",\"x\":[0.018405569371148314,0.019781200911286895,0.02199418062019213,0.022181696956013318,0.02628819141187105],\"y\":[\"borderland  \",\"cutscene  \",\"gameplay  \",\"writing  \",\"story  \"],\"type\":\"bar\",\"xaxis\":\"x5\",\"yaxis\":\"y5\"},{\"marker\":{\"color\":\"#009E73\"},\"orientation\":\"h\",\"x\":[0.016189992788139294,0.018394145591302175,0.020398867679706056,0.02574239497853888,0.05434226720916842],\"y\":[\"unlock  \",\"outcome  \",\"match  \",\"deck  \",\"card  \"],\"type\":\"bar\",\"xaxis\":\"x6\",\"yaxis\":\"y6\"},{\"marker\":{\"color\":\"#F0E442\"},\"orientation\":\"h\",\"x\":[0.016950917825082106,0.01751694705860418,0.02993960625237383,0.03505677442331498,0.037424507815467294],\"y\":[\"merrily  \",\"look  \",\"saint  \",\"review  \",\"row  \"],\"type\":\"bar\",\"xaxis\":\"x7\",\"yaxis\":\"y7\"},{\"marker\":{\"color\":\"#D55E00\"},\"orientation\":\"h\",\"x\":[0.05184291965187587,0.05440409001079128,0.06185657040286666,0.08591704298846722,0.13671201128369556],\"y\":[\"pretty  \",\"good  \",\"music  \",\"awesome  \",\"relax  \"],\"type\":\"bar\",\"xaxis\":\"x8\",\"yaxis\":\"y8\"},{\"marker\":{\"color\":\"#0072B2\"},\"orientation\":\"h\",\"x\":[0.020023819198148995,0.02017288454388767,0.021311637369385964,0.021523594639296397,0.021942933309282563],\"y\":[\"fcking  \",\"play  \",\"girl  \",\"check  \",\"game  \"],\"type\":\"bar\",\"xaxis\":\"x9\",\"yaxis\":\"y9\"},{\"marker\":{\"color\":\"#CC79A7\"},\"orientation\":\"h\",\"x\":[0.09355705874904495,0.11458509025057273,0.15772055232003354,0.1602187713659203,0.17166732971167178],\"y\":[\"award  \",\"aye  \",\"blow  \",\"us  \",\"government  \"],\"type\":\"bar\",\"xaxis\":\"x10\",\"yaxis\":\"y10\"},{\"marker\":{\"color\":\"#E69F00\"},\"orientation\":\"h\",\"x\":[0.02719719917611687,0.030628239380476766,0.03197485984256952,0.03474850059183461,0.052919813627329476],\"y\":[\"shooter  \",\"juarez  \",\"gunslinger  \",\"nazi  \",\"wolfenstein  \"],\"type\":\"bar\",\"xaxis\":\"x11\",\"yaxis\":\"y11\"},{\"marker\":{\"color\":\"#56B4E9\"},\"orientation\":\"h\",\"x\":[0.03167823616360402,0.03167823616360402,0.0414216819457577,0.06236858342693341,0.06356657597813548],\"y\":[\"kombat  \",\"orignal  \",\"masterpiece  \",\"bioshock  \",\"mafia  \"],\"type\":\"bar\",\"xaxis\":\"x12\",\"yaxis\":\"y12\"},{\"marker\":{\"color\":\"#009E73\"},\"orientation\":\"h\",\"x\":[0.03506763939123398,0.03735689462714597,0.0417081926370568,0.04745456838182019,0.12911546070740504],\"y\":[\"constantly  \",\"dx  \",\"problem  \",\"desktop  \",\"crash  \"],\"type\":\"bar\",\"xaxis\":\"x13\",\"yaxis\":\"y13\"},{\"marker\":{\"color\":\"#F0E442\"},\"orientation\":\"h\",\"x\":[0.04835202717537582,0.05378162002790211,0.05535040269449331,0.08915925059270952,0.09009702986108276],\"y\":[\"must  \",\"history  \",\"awesome  \",\"story  \",\"amazing  \"],\"type\":\"bar\",\"xaxis\":\"x14\",\"yaxis\":\"y14\"},{\"marker\":{\"color\":\"#D55E00\"},\"orientation\":\"h\",\"x\":[0.027153908036408908,0.033687626005071275,0.034617101594752064,0.04385947253619088,0.08018152371301508],\"y\":[\"skyline  \",\"building  \",\"scenario  \",\"builder  \",\"city  \"],\"type\":\"bar\",\"xaxis\":\"x15\",\"yaxis\":\"y15\"}],                        {\"template\":{\"data\":{\"barpolar\":[{\"marker\":{\"line\":{\"color\":\"white\",\"width\":0.5},\"pattern\":{\"fillmode\":\"overlay\",\"size\":10,\"solidity\":0.2}},\"type\":\"barpolar\"}],\"bar\":[{\"error_x\":{\"color\":\"#2a3f5f\"},\"error_y\":{\"color\":\"#2a3f5f\"},\"marker\":{\"line\":{\"color\":\"white\",\"width\":0.5},\"pattern\":{\"fillmode\":\"overlay\",\"size\":10,\"solidity\":0.2}},\"type\":\"bar\"}],\"carpet\":[{\"aaxis\":{\"endlinecolor\":\"#2a3f5f\",\"gridcolor\":\"#C8D4E3\",\"linecolor\":\"#C8D4E3\",\"minorgridcolor\":\"#C8D4E3\",\"startlinecolor\":\"#2a3f5f\"},\"baxis\":{\"endlinecolor\":\"#2a3f5f\",\"gridcolor\":\"#C8D4E3\",\"linecolor\":\"#C8D4E3\",\"minorgridcolor\":\"#C8D4E3\",\"startlinecolor\":\"#2a3f5f\"},\"type\":\"carpet\"}],\"choropleth\":[{\"colorbar\":{\"outlinewidth\":0,\"ticks\":\"\"},\"type\":\"choropleth\"}],\"contourcarpet\":[{\"colorbar\":{\"outlinewidth\":0,\"ticks\":\"\"},\"type\":\"contourcarpet\"}],\"contour\":[{\"colorbar\":{\"outlinewidth\":0,\"ticks\":\"\"},\"colorscale\":[[0.0,\"#0d0887\"],[0.1111111111111111,\"#46039f\"],[0.2222222222222222,\"#7201a8\"],[0.3333333333333333,\"#9c179e\"],[0.4444444444444444,\"#bd3786\"],[0.5555555555555556,\"#d8576b\"],[0.6666666666666666,\"#ed7953\"],[0.7777777777777778,\"#fb9f3a\"],[0.8888888888888888,\"#fdca26\"],[1.0,\"#f0f921\"]],\"type\":\"contour\"}],\"heatmap\":[{\"colorbar\":{\"outlinewidth\":0,\"ticks\":\"\"},\"colorscale\":[[0.0,\"#0d0887\"],[0.1111111111111111,\"#46039f\"],[0.2222222222222222,\"#7201a8\"],[0.3333333333333333,\"#9c179e\"],[0.4444444444444444,\"#bd3786\"],[0.5555555555555556,\"#d8576b\"],[0.6666666666666666,\"#ed7953\"],[0.7777777777777778,\"#fb9f3a\"],[0.8888888888888888,\"#fdca26\"],[1.0,\"#f0f921\"]],\"type\":\"heatmap\"}],\"histogram2dcontour\":[{\"colorbar\":{\"outlinewidth\":0,\"ticks\":\"\"},\"colorscale\":[[0.0,\"#0d0887\"],[0.1111111111111111,\"#46039f\"],[0.2222222222222222,\"#7201a8\"],[0.3333333333333333,\"#9c179e\"],[0.4444444444444444,\"#bd3786\"],[0.5555555555555556,\"#d8576b\"],[0.6666666666666666,\"#ed7953\"],[0.7777777777777778,\"#fb9f3a\"],[0.8888888888888888,\"#fdca26\"],[1.0,\"#f0f921\"]],\"type\":\"histogram2dcontour\"}],\"histogram2d\":[{\"colorbar\":{\"outlinewidth\":0,\"ticks\":\"\"},\"colorscale\":[[0.0,\"#0d0887\"],[0.1111111111111111,\"#46039f\"],[0.2222222222222222,\"#7201a8\"],[0.3333333333333333,\"#9c179e\"],[0.4444444444444444,\"#bd3786\"],[0.5555555555555556,\"#d8576b\"],[0.6666666666666666,\"#ed7953\"],[0.7777777777777778,\"#fb9f3a\"],[0.8888888888888888,\"#fdca26\"],[1.0,\"#f0f921\"]],\"type\":\"histogram2d\"}],\"histogram\":[{\"marker\":{\"pattern\":{\"fillmode\":\"overlay\",\"size\":10,\"solidity\":0.2}},\"type\":\"histogram\"}],\"mesh3d\":[{\"colorbar\":{\"outlinewidth\":0,\"ticks\":\"\"},\"type\":\"mesh3d\"}],\"parcoords\":[{\"line\":{\"colorbar\":{\"outlinewidth\":0,\"ticks\":\"\"}},\"type\":\"parcoords\"}],\"pie\":[{\"automargin\":true,\"type\":\"pie\"}],\"scatter3d\":[{\"line\":{\"colorbar\":{\"outlinewidth\":0,\"ticks\":\"\"}},\"marker\":{\"colorbar\":{\"outlinewidth\":0,\"ticks\":\"\"}},\"type\":\"scatter3d\"}],\"scattercarpet\":[{\"marker\":{\"colorbar\":{\"outlinewidth\":0,\"ticks\":\"\"}},\"type\":\"scattercarpet\"}],\"scattergeo\":[{\"marker\":{\"colorbar\":{\"outlinewidth\":0,\"ticks\":\"\"}},\"type\":\"scattergeo\"}],\"scattergl\":[{\"marker\":{\"colorbar\":{\"outlinewidth\":0,\"ticks\":\"\"}},\"type\":\"scattergl\"}],\"scattermapbox\":[{\"marker\":{\"colorbar\":{\"outlinewidth\":0,\"ticks\":\"\"}},\"type\":\"scattermapbox\"}],\"scattermap\":[{\"marker\":{\"colorbar\":{\"outlinewidth\":0,\"ticks\":\"\"}},\"type\":\"scattermap\"}],\"scatterpolargl\":[{\"marker\":{\"colorbar\":{\"outlinewidth\":0,\"ticks\":\"\"}},\"type\":\"scatterpolargl\"}],\"scatterpolar\":[{\"marker\":{\"colorbar\":{\"outlinewidth\":0,\"ticks\":\"\"}},\"type\":\"scatterpolar\"}],\"scatter\":[{\"fillpattern\":{\"fillmode\":\"overlay\",\"size\":10,\"solidity\":0.2},\"type\":\"scatter\"}],\"scatterternary\":[{\"marker\":{\"colorbar\":{\"outlinewidth\":0,\"ticks\":\"\"}},\"type\":\"scatterternary\"}],\"surface\":[{\"colorbar\":{\"outlinewidth\":0,\"ticks\":\"\"},\"colorscale\":[[0.0,\"#0d0887\"],[0.1111111111111111,\"#46039f\"],[0.2222222222222222,\"#7201a8\"],[0.3333333333333333,\"#9c179e\"],[0.4444444444444444,\"#bd3786\"],[0.5555555555555556,\"#d8576b\"],[0.6666666666666666,\"#ed7953\"],[0.7777777777777778,\"#fb9f3a\"],[0.8888888888888888,\"#fdca26\"],[1.0,\"#f0f921\"]],\"type\":\"surface\"}],\"table\":[{\"cells\":{\"fill\":{\"color\":\"#EBF0F8\"},\"line\":{\"color\":\"white\"}},\"header\":{\"fill\":{\"color\":\"#C8D4E3\"},\"line\":{\"color\":\"white\"}},\"type\":\"table\"}]},\"layout\":{\"annotationdefaults\":{\"arrowcolor\":\"#2a3f5f\",\"arrowhead\":0,\"arrowwidth\":1},\"autotypenumbers\":\"strict\",\"coloraxis\":{\"colorbar\":{\"outlinewidth\":0,\"ticks\":\"\"}},\"colorscale\":{\"diverging\":[[0,\"#8e0152\"],[0.1,\"#c51b7d\"],[0.2,\"#de77ae\"],[0.3,\"#f1b6da\"],[0.4,\"#fde0ef\"],[0.5,\"#f7f7f7\"],[0.6,\"#e6f5d0\"],[0.7,\"#b8e186\"],[0.8,\"#7fbc41\"],[0.9,\"#4d9221\"],[1,\"#276419\"]],\"sequential\":[[0.0,\"#0d0887\"],[0.1111111111111111,\"#46039f\"],[0.2222222222222222,\"#7201a8\"],[0.3333333333333333,\"#9c179e\"],[0.4444444444444444,\"#bd3786\"],[0.5555555555555556,\"#d8576b\"],[0.6666666666666666,\"#ed7953\"],[0.7777777777777778,\"#fb9f3a\"],[0.8888888888888888,\"#fdca26\"],[1.0,\"#f0f921\"]],\"sequentialminus\":[[0.0,\"#0d0887\"],[0.1111111111111111,\"#46039f\"],[0.2222222222222222,\"#7201a8\"],[0.3333333333333333,\"#9c179e\"],[0.4444444444444444,\"#bd3786\"],[0.5555555555555556,\"#d8576b\"],[0.6666666666666666,\"#ed7953\"],[0.7777777777777778,\"#fb9f3a\"],[0.8888888888888888,\"#fdca26\"],[1.0,\"#f0f921\"]]},\"colorway\":[\"#636efa\",\"#EF553B\",\"#00cc96\",\"#ab63fa\",\"#FFA15A\",\"#19d3f3\",\"#FF6692\",\"#B6E880\",\"#FF97FF\",\"#FECB52\"],\"font\":{\"color\":\"#2a3f5f\"},\"geo\":{\"bgcolor\":\"white\",\"lakecolor\":\"white\",\"landcolor\":\"white\",\"showlakes\":true,\"showland\":true,\"subunitcolor\":\"#C8D4E3\"},\"hoverlabel\":{\"align\":\"left\"},\"hovermode\":\"closest\",\"mapbox\":{\"style\":\"light\"},\"paper_bgcolor\":\"white\",\"plot_bgcolor\":\"white\",\"polar\":{\"angularaxis\":{\"gridcolor\":\"#EBF0F8\",\"linecolor\":\"#EBF0F8\",\"ticks\":\"\"},\"bgcolor\":\"white\",\"radialaxis\":{\"gridcolor\":\"#EBF0F8\",\"linecolor\":\"#EBF0F8\",\"ticks\":\"\"}},\"scene\":{\"xaxis\":{\"backgroundcolor\":\"white\",\"gridcolor\":\"#DFE8F3\",\"gridwidth\":2,\"linecolor\":\"#EBF0F8\",\"showbackground\":true,\"ticks\":\"\",\"zerolinecolor\":\"#EBF0F8\"},\"yaxis\":{\"backgroundcolor\":\"white\",\"gridcolor\":\"#DFE8F3\",\"gridwidth\":2,\"linecolor\":\"#EBF0F8\",\"showbackground\":true,\"ticks\":\"\",\"zerolinecolor\":\"#EBF0F8\"},\"zaxis\":{\"backgroundcolor\":\"white\",\"gridcolor\":\"#DFE8F3\",\"gridwidth\":2,\"linecolor\":\"#EBF0F8\",\"showbackground\":true,\"ticks\":\"\",\"zerolinecolor\":\"#EBF0F8\"}},\"shapedefaults\":{\"line\":{\"color\":\"#2a3f5f\"}},\"ternary\":{\"aaxis\":{\"gridcolor\":\"#DFE8F3\",\"linecolor\":\"#A2B1C6\",\"ticks\":\"\"},\"baxis\":{\"gridcolor\":\"#DFE8F3\",\"linecolor\":\"#A2B1C6\",\"ticks\":\"\"},\"bgcolor\":\"white\",\"caxis\":{\"gridcolor\":\"#DFE8F3\",\"linecolor\":\"#A2B1C6\",\"ticks\":\"\"}},\"title\":{\"x\":0.05},\"xaxis\":{\"automargin\":true,\"gridcolor\":\"#EBF0F8\",\"linecolor\":\"#EBF0F8\",\"ticks\":\"\",\"title\":{\"standoff\":15},\"zerolinecolor\":\"#EBF0F8\",\"zerolinewidth\":2},\"yaxis\":{\"automargin\":true,\"gridcolor\":\"#EBF0F8\",\"linecolor\":\"#EBF0F8\",\"ticks\":\"\",\"title\":{\"standoff\":15},\"zerolinecolor\":\"#EBF0F8\",\"zerolinewidth\":2}}},\"xaxis\":{\"anchor\":\"y\",\"domain\":[0.0,0.175],\"showgrid\":true},\"yaxis\":{\"anchor\":\"x\",\"domain\":[0.825,1.0],\"showgrid\":true},\"xaxis2\":{\"anchor\":\"y2\",\"domain\":[0.275,0.45],\"showgrid\":true},\"yaxis2\":{\"anchor\":\"x2\",\"domain\":[0.825,1.0],\"showgrid\":true},\"xaxis3\":{\"anchor\":\"y3\",\"domain\":[0.55,0.7250000000000001],\"showgrid\":true},\"yaxis3\":{\"anchor\":\"x3\",\"domain\":[0.825,1.0],\"showgrid\":true},\"xaxis4\":{\"anchor\":\"y4\",\"domain\":[0.825,1.0],\"showgrid\":true},\"yaxis4\":{\"anchor\":\"x4\",\"domain\":[0.825,1.0],\"showgrid\":true},\"xaxis5\":{\"anchor\":\"y5\",\"domain\":[0.0,0.175],\"showgrid\":true},\"yaxis5\":{\"anchor\":\"x5\",\"domain\":[0.55,0.7250000000000001],\"showgrid\":true},\"xaxis6\":{\"anchor\":\"y6\",\"domain\":[0.275,0.45],\"showgrid\":true},\"yaxis6\":{\"anchor\":\"x6\",\"domain\":[0.55,0.7250000000000001],\"showgrid\":true},\"xaxis7\":{\"anchor\":\"y7\",\"domain\":[0.55,0.7250000000000001],\"showgrid\":true},\"yaxis7\":{\"anchor\":\"x7\",\"domain\":[0.55,0.7250000000000001],\"showgrid\":true},\"xaxis8\":{\"anchor\":\"y8\",\"domain\":[0.825,1.0],\"showgrid\":true},\"yaxis8\":{\"anchor\":\"x8\",\"domain\":[0.55,0.7250000000000001],\"showgrid\":true},\"xaxis9\":{\"anchor\":\"y9\",\"domain\":[0.0,0.175],\"showgrid\":true},\"yaxis9\":{\"anchor\":\"x9\",\"domain\":[0.275,0.45],\"showgrid\":true},\"xaxis10\":{\"anchor\":\"y10\",\"domain\":[0.275,0.45],\"showgrid\":true},\"yaxis10\":{\"anchor\":\"x10\",\"domain\":[0.275,0.45],\"showgrid\":true},\"xaxis11\":{\"anchor\":\"y11\",\"domain\":[0.55,0.7250000000000001],\"showgrid\":true},\"yaxis11\":{\"anchor\":\"x11\",\"domain\":[0.275,0.45],\"showgrid\":true},\"xaxis12\":{\"anchor\":\"y12\",\"domain\":[0.825,1.0],\"showgrid\":true},\"yaxis12\":{\"anchor\":\"x12\",\"domain\":[0.275,0.45],\"showgrid\":true},\"xaxis13\":{\"anchor\":\"y13\",\"domain\":[0.0,0.175],\"showgrid\":true},\"yaxis13\":{\"anchor\":\"x13\",\"domain\":[0.0,0.175],\"showgrid\":true},\"xaxis14\":{\"anchor\":\"y14\",\"domain\":[0.275,0.45],\"showgrid\":true},\"yaxis14\":{\"anchor\":\"x14\",\"domain\":[0.0,0.175],\"showgrid\":true},\"xaxis15\":{\"anchor\":\"y15\",\"domain\":[0.55,0.7250000000000001],\"showgrid\":true},\"yaxis15\":{\"anchor\":\"x15\",\"domain\":[0.0,0.175],\"showgrid\":true},\"xaxis16\":{\"anchor\":\"y16\",\"domain\":[0.825,1.0],\"showgrid\":true},\"yaxis16\":{\"anchor\":\"x16\",\"domain\":[0.0,0.175],\"showgrid\":true},\"annotations\":[{\"font\":{\"size\":16},\"showarrow\":false,\"text\":\"Topic 0\",\"x\":0.0875,\"xanchor\":\"center\",\"xref\":\"paper\",\"y\":1.0,\"yanchor\":\"bottom\",\"yref\":\"paper\"},{\"font\":{\"size\":16},\"showarrow\":false,\"text\":\"Topic 1\",\"x\":0.36250000000000004,\"xanchor\":\"center\",\"xref\":\"paper\",\"y\":1.0,\"yanchor\":\"bottom\",\"yref\":\"paper\"},{\"font\":{\"size\":16},\"showarrow\":false,\"text\":\"Topic 2\",\"x\":0.6375000000000001,\"xanchor\":\"center\",\"xref\":\"paper\",\"y\":1.0,\"yanchor\":\"bottom\",\"yref\":\"paper\"},{\"font\":{\"size\":16},\"showarrow\":false,\"text\":\"Topic 3\",\"x\":0.9125,\"xanchor\":\"center\",\"xref\":\"paper\",\"y\":1.0,\"yanchor\":\"bottom\",\"yref\":\"paper\"},{\"font\":{\"size\":16},\"showarrow\":false,\"text\":\"Topic 4\",\"x\":0.0875,\"xanchor\":\"center\",\"xref\":\"paper\",\"y\":0.7250000000000001,\"yanchor\":\"bottom\",\"yref\":\"paper\"},{\"font\":{\"size\":16},\"showarrow\":false,\"text\":\"Topic 5\",\"x\":0.36250000000000004,\"xanchor\":\"center\",\"xref\":\"paper\",\"y\":0.7250000000000001,\"yanchor\":\"bottom\",\"yref\":\"paper\"},{\"font\":{\"size\":16},\"showarrow\":false,\"text\":\"Topic 6\",\"x\":0.6375000000000001,\"xanchor\":\"center\",\"xref\":\"paper\",\"y\":0.7250000000000001,\"yanchor\":\"bottom\",\"yref\":\"paper\"},{\"font\":{\"size\":16},\"showarrow\":false,\"text\":\"Topic 7\",\"x\":0.9125,\"xanchor\":\"center\",\"xref\":\"paper\",\"y\":0.7250000000000001,\"yanchor\":\"bottom\",\"yref\":\"paper\"},{\"font\":{\"size\":16},\"showarrow\":false,\"text\":\"Topic 8\",\"x\":0.0875,\"xanchor\":\"center\",\"xref\":\"paper\",\"y\":0.45,\"yanchor\":\"bottom\",\"yref\":\"paper\"},{\"font\":{\"size\":16},\"showarrow\":false,\"text\":\"Topic 9\",\"x\":0.36250000000000004,\"xanchor\":\"center\",\"xref\":\"paper\",\"y\":0.45,\"yanchor\":\"bottom\",\"yref\":\"paper\"},{\"font\":{\"size\":16},\"showarrow\":false,\"text\":\"Topic 10\",\"x\":0.6375000000000001,\"xanchor\":\"center\",\"xref\":\"paper\",\"y\":0.45,\"yanchor\":\"bottom\",\"yref\":\"paper\"},{\"font\":{\"size\":16},\"showarrow\":false,\"text\":\"Topic 11\",\"x\":0.9125,\"xanchor\":\"center\",\"xref\":\"paper\",\"y\":0.45,\"yanchor\":\"bottom\",\"yref\":\"paper\"},{\"font\":{\"size\":16},\"showarrow\":false,\"text\":\"Topic 12\",\"x\":0.0875,\"xanchor\":\"center\",\"xref\":\"paper\",\"y\":0.175,\"yanchor\":\"bottom\",\"yref\":\"paper\"},{\"font\":{\"size\":16},\"showarrow\":false,\"text\":\"Topic 13\",\"x\":0.36250000000000004,\"xanchor\":\"center\",\"xref\":\"paper\",\"y\":0.175,\"yanchor\":\"bottom\",\"yref\":\"paper\"},{\"font\":{\"size\":16},\"showarrow\":false,\"text\":\"Topic 14\",\"x\":0.6375000000000001,\"xanchor\":\"center\",\"xref\":\"paper\",\"y\":0.175,\"yanchor\":\"bottom\",\"yref\":\"paper\"}],\"title\":{\"font\":{\"size\":22,\"color\":\"Black\"},\"text\":\"Topic Word Scores\",\"x\":0.5,\"xanchor\":\"center\",\"yanchor\":\"top\"},\"hoverlabel\":{\"font\":{\"size\":16,\"family\":\"Rockwell\"},\"bgcolor\":\"white\"},\"showlegend\":false,\"width\":1000,\"height\":1000},                        {\"responsive\": true}                    ).then(function(){\n",
       "                            \n",
       "var gd = document.getElementById('682b5592-47cf-4814-856c-de71b8b6cb52');\n",
       "var x = new MutationObserver(function (mutations, observer) {{\n",
       "        var display = window.getComputedStyle(gd).display;\n",
       "        if (!display || display === 'none') {{\n",
       "            console.log([gd, 'removed!']);\n",
       "            Plotly.purge(gd);\n",
       "            observer.disconnect();\n",
       "        }}\n",
       "}});\n",
       "\n",
       "// Listen for the removal of the full notebook cells\n",
       "var notebookContainer = gd.closest('#notebook-container');\n",
       "if (notebookContainer) {{\n",
       "    x.observe(notebookContainer, {childList: true});\n",
       "}}\n",
       "\n",
       "// Listen for the clearing of the current output cell\n",
       "var outputEl = gd.closest('.output');\n",
       "if (outputEl) {{\n",
       "    x.observe(outputEl, {childList: true});\n",
       "}}\n",
       "\n",
       "                        })                };            </script>        </div>"
      ]
     },
     "metadata": {},
     "output_type": "display_data"
    }
   ],
   "source": [
    "# Contoh kelompok topik dekat secara visual\n",
    "topics_to_merge = [\n",
    "    [61, 33],  # puzzle...\n",
    "    [51, 13],\n",
    "    [18, 40],\n",
    "    [2, 62, 6],\n",
    "    [8, 71],\n",
    "    [52, 55],\n",
    "    [20, 26],\n",
    "    [19, 73],\n",
    "]\n",
    "\n",
    "# Lakukan merge\n",
    "final_model.merge_topics(docs, topics_to_merge=topics_to_merge)\n",
    "\n",
    "# Visualisasi topik setelah merge\n",
    "fig_bar = final_model.visualize_barchart(top_n_topics=15)\n",
    "fig_bar.show()\n",
    "\n",
    "# Perbarui dataframe assignment\n",
    "df[\"topic\"] = final_model.topics_\n",
    "df.to_csv(\"hasil_topic_assignment.csv\", index=False)\n",
    "\n",
    "# Simpan keywords untuk masing-masing topik (dengan MMR)\n",
    "topic_keywords = [\n",
    "    {\n",
    "      \"topic\": tid,\n",
    "      \"keywords\": \", \".join([w for w, _ in final_model.get_topic(tid)])\n",
    "    }\n",
    "    for tid in final_model.get_topic_info()[\"Topic\"] if tid != -1\n",
    "]\n",
    "pd.DataFrame(topic_keywords).to_csv(\"merged_topic.csv\", index=False)\n"
   ]
  }
 ],
 "metadata": {
  "kernelspec": {
   "display_name": "Python 3",
   "language": "python",
   "name": "python3"
  },
  "language_info": {
   "codemirror_mode": {
    "name": "ipython",
    "version": 3
   },
   "file_extension": ".py",
   "mimetype": "text/x-python",
   "name": "python",
   "nbconvert_exporter": "python",
   "pygments_lexer": "ipython3",
   "version": "3.10.0"
  }
 },
 "nbformat": 4,
 "nbformat_minor": 5
}
