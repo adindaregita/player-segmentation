{
 "cells": [
  {
   "cell_type": "code",
   "execution_count": 1,
   "id": "5270aff2",
   "metadata": {},
   "outputs": [
    {
     "name": "stdout",
     "output_type": "stream",
     "text": [
      "Couldn't import dot_parser, loading of dot files will not be possible.\n"
     ]
    },
    {
     "name": "stderr",
     "output_type": "stream",
     "text": [
      "Device set to use mps:0\n",
      "100%|██████████| 806/806 [1:13:13<00:00,  5.45s/it]\n"
     ]
    },
    {
     "name": "stdout",
     "output_type": "stream",
     "text": [
      "Review yang sudah dibersihkan disimpan di: fixOutput/cleaned_reviews.csv\n"
     ]
    }
   ],
   "source": [
    "import pandas as pd\n",
    "from transformers import pipeline\n",
    "from tqdm import tqdm\n",
    "\n",
    "# Load data\n",
    "df = pd.read_csv(\"OutputData/processed_data_part_1.csv\")\n",
    "\n",
    "# Pastikan kolom review ada\n",
    "assert 'Reviews' in df.columns, \"Kolom 'review' tidak ditemukan!\"\n",
    "\n",
    "# Inisialisasi pipeline LLM\n",
    "cleaning_pipe = pipeline(\"text2text-generation\", model=\"google/flan-t5-base\")\n",
    "\n",
    "# Fungsi preprocessing dengan LLM\n",
    "def clean_review_with_llm(text):\n",
    "    prompt = (\n",
    "        \"Summarize this review in english\"\n",
    "        f\"{text}\"\n",
    "    )\n",
    "    try:\n",
    "        result = cleaning_pipe(prompt, max_length=256, truncation=True)[0]['generated_text']\n",
    "        return result.strip()\n",
    "    except Exception as e:\n",
    "        return f\"[ERROR] {str(e)}\"\n",
    "\n",
    "# Proses semua review\n",
    "tqdm.pandas()\n",
    "df['cleaned_review'] = df['Reviews'].progress_apply(clean_review_with_llm)\n",
    "\n",
    "# Simpan hasil\n",
    "output_path = \"fixOutput/cleaned_reviews.csv\"\n",
    "df.to_csv(output_path, index=False)\n",
    "\n",
    "print(f\"Review yang sudah dibersihkan disimpan di: {output_path}\")\n"
   ]
  }
 ],
 "metadata": {
  "kernelspec": {
   "display_name": "Python 3",
   "language": "python",
   "name": "python3"
  },
  "language_info": {
   "codemirror_mode": {
    "name": "ipython",
    "version": 3
   },
   "file_extension": ".py",
   "mimetype": "text/x-python",
   "name": "python",
   "nbconvert_exporter": "python",
   "pygments_lexer": "ipython3",
   "version": "3.10.0"
  }
 },
 "nbformat": 4,
 "nbformat_minor": 5
}
