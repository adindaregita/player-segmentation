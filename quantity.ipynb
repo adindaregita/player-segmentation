{
 "cells": [
  {
   "cell_type": "code",
   "execution_count": 1,
   "id": "370cf771",
   "metadata": {},
   "outputs": [
    {
     "name": "stdout",
     "output_type": "stream",
     "text": [
      "Couldn't import dot_parser, loading of dot files will not be possible.\n",
      "Total data: 11647 baris\n",
      "Jumlah UserID unik: 227\n"
     ]
    }
   ],
   "source": [
    "import pandas as pd\n",
    "from transformers import pipeline\n",
    "from tqdm import tqdm\n",
    "import glob\n",
    "\n",
    "# Ambil semua file CSV dari dua folder\n",
    "csv_files_1 = glob.glob(\"reviews_1/*.csv\")\n",
    "csv_files_2 = glob.glob(\"reviews_2/*.csv\")\n",
    "\n",
    "# Gabungkan daftar file dari kedua folder\n",
    "csv_files = csv_files_1 + csv_files_2\n",
    "\n",
    "# Gabungkan semua CSV jadi satu DataFrame\n",
    "df_list = [pd.read_csv(file) for file in csv_files]\n",
    "df = pd.concat(df_list, ignore_index=True)\n",
    "\n",
    "# Tampilkan jumlah total baris\n",
    "print(f\"Total data: {len(df)} baris\")\n",
    "\n",
    "# Hitung jumlah UserID unik\n",
    "jumlah_userid = df['UserID'].nunique()\n",
    "print(f\"Jumlah UserID unik: {jumlah_userid}\")"
   ]
  },
  {
   "cell_type": "code",
   "execution_count": 4,
   "id": "52f2b58b",
   "metadata": {},
   "outputs": [
    {
     "name": "stdout",
     "output_type": "stream",
     "text": [
      "Total data: 103206 baris\n",
      "Jumlah UserID unik: 227\n"
     ]
    },
    {
     "name": "stderr",
     "output_type": "stream",
     "text": [
      "/var/folders/kh/7d1scz1n2f7gnm2sy2q4rgs00000gn/T/ipykernel_13020/1819948744.py:15: FutureWarning: The behavior of DataFrame concatenation with empty or all-NA entries is deprecated. In a future version, this will no longer exclude empty or all-NA columns when determining the result dtypes. To retain the old behavior, exclude the relevant entries before the concat operation.\n",
      "  df = pd.concat(df_list, ignore_index=True)\n"
     ]
    }
   ],
   "source": [
    "import pandas as pd\n",
    "from transformers import pipeline\n",
    "from tqdm import tqdm\n",
    "import glob\n",
    "\n",
    "# Ambil semua file CSV dari dua folder\n",
    "csv_files_1 = glob.glob(\"Dataset/*.csv\")\n",
    "csv_files_2 = glob.glob(\"Dataset_2/*.csv\")\n",
    "\n",
    "# Gabungkan daftar file dari kedua folder\n",
    "csv_files = csv_files_1 + csv_files_2\n",
    "\n",
    "# Gabungkan semua CSV jadi satu DataFrame\n",
    "df_list = [pd.read_csv(file) for file in csv_files]\n",
    "df = pd.concat(df_list, ignore_index=True)\n",
    "\n",
    "# Tampilkan jumlah total baris\n",
    "print(f\"Total data: {len(df)} baris\")\n",
    "\n",
    "# Hitung jumlah UserID unik\n",
    "jumlah_userid = df['Steam ID'].nunique()\n",
    "print(f\"Jumlah UserID unik: {jumlah_userid}\")"
   ]
  }
 ],
 "metadata": {
  "kernelspec": {
   "display_name": "Python 3",
   "language": "python",
   "name": "python3"
  },
  "language_info": {
   "codemirror_mode": {
    "name": "ipython",
    "version": 3
   },
   "file_extension": ".py",
   "mimetype": "text/x-python",
   "name": "python",
   "nbconvert_exporter": "python",
   "pygments_lexer": "ipython3",
   "version": "3.10.0"
  }
 },
 "nbformat": 4,
 "nbformat_minor": 5
}
