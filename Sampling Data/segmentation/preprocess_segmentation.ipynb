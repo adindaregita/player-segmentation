{
 "cells": [
  {
   "cell_type": "code",
   "execution_count": 2,
   "id": "bb7e98b2",
   "metadata": {},
   "outputs": [
    {
     "name": "stdout",
     "output_type": "stream",
     "text": [
      "Jumlah data awal: 750 baris\n"
     ]
    },
    {
     "data": {
      "text/html": [
       "<div>\n",
       "<style scoped>\n",
       "    .dataframe tbody tr th:only-of-type {\n",
       "        vertical-align: middle;\n",
       "    }\n",
       "\n",
       "    .dataframe tbody tr th {\n",
       "        vertical-align: top;\n",
       "    }\n",
       "\n",
       "    .dataframe thead th {\n",
       "        text-align: right;\n",
       "    }\n",
       "</style>\n",
       "<table border=\"1\" class=\"dataframe\">\n",
       "  <thead>\n",
       "    <tr style=\"text-align: right;\">\n",
       "      <th></th>\n",
       "      <th>Steam ID</th>\n",
       "      <th>App ID</th>\n",
       "      <th>Game Name</th>\n",
       "      <th>Playtime (hours)</th>\n",
       "      <th>Genres</th>\n",
       "      <th>Achievements</th>\n",
       "      <th>Dominant Topic</th>\n",
       "    </tr>\n",
       "  </thead>\n",
       "  <tbody>\n",
       "    <tr>\n",
       "      <th>0</th>\n",
       "      <td>76561197960269409</td>\n",
       "      <td>58540</td>\n",
       "      <td>unknown</td>\n",
       "      <td>0.000000</td>\n",
       "      <td>NaN</td>\n",
       "      <td>0</td>\n",
       "      <td>Story-driven mysteries or cinematic adventure ...</td>\n",
       "    </tr>\n",
       "    <tr>\n",
       "      <th>1</th>\n",
       "      <td>76561197960269409</td>\n",
       "      <td>1180660</td>\n",
       "      <td>tell me why</td>\n",
       "      <td>0.000000</td>\n",
       "      <td>Adventure, Free To Play</td>\n",
       "      <td>0</td>\n",
       "      <td>Story-driven mysteries or cinematic adventure ...</td>\n",
       "    </tr>\n",
       "    <tr>\n",
       "      <th>2</th>\n",
       "      <td>76561197960269409</td>\n",
       "      <td>110800</td>\n",
       "      <td>l.a. noire</td>\n",
       "      <td>21.466667</td>\n",
       "      <td>Adventure, Strategy</td>\n",
       "      <td>25</td>\n",
       "      <td>Story-driven mysteries or cinematic adventure ...</td>\n",
       "    </tr>\n",
       "    <tr>\n",
       "      <th>3</th>\n",
       "      <td>76561197960269409</td>\n",
       "      <td>335300</td>\n",
       "      <td>dark souls™ ii: scholar of the first sin</td>\n",
       "      <td>47.016667</td>\n",
       "      <td>Action, RPG</td>\n",
       "      <td>19</td>\n",
       "      <td>Story-driven mysteries or cinematic adventure ...</td>\n",
       "    </tr>\n",
       "    <tr>\n",
       "      <th>4</th>\n",
       "      <td>76561197960269409</td>\n",
       "      <td>96000</td>\n",
       "      <td>the tiny bang story</td>\n",
       "      <td>13.850000</td>\n",
       "      <td>Adventure, Casual, Indie</td>\n",
       "      <td>0</td>\n",
       "      <td>Story-driven mysteries or cinematic adventure ...</td>\n",
       "    </tr>\n",
       "  </tbody>\n",
       "</table>\n",
       "</div>"
      ],
      "text/plain": [
       "            Steam ID   App ID                                 Game Name  \\\n",
       "0  76561197960269409    58540                                   unknown   \n",
       "1  76561197960269409  1180660                               tell me why   \n",
       "2  76561197960269409   110800                                l.a. noire   \n",
       "3  76561197960269409   335300  dark souls™ ii: scholar of the first sin   \n",
       "4  76561197960269409    96000                       the tiny bang story   \n",
       "\n",
       "   Playtime (hours)                    Genres  Achievements  \\\n",
       "0          0.000000                       NaN             0   \n",
       "1          0.000000   Adventure, Free To Play             0   \n",
       "2         21.466667       Adventure, Strategy            25   \n",
       "3         47.016667               Action, RPG            19   \n",
       "4         13.850000  Adventure, Casual, Indie             0   \n",
       "\n",
       "                                      Dominant Topic  \n",
       "0  Story-driven mysteries or cinematic adventure ...  \n",
       "1  Story-driven mysteries or cinematic adventure ...  \n",
       "2  Story-driven mysteries or cinematic adventure ...  \n",
       "3  Story-driven mysteries or cinematic adventure ...  \n",
       "4  Story-driven mysteries or cinematic adventure ...  "
      ]
     },
     "execution_count": 2,
     "metadata": {},
     "output_type": "execute_result"
    }
   ],
   "source": [
    "import pandas as pd\n",
    "\n",
    "# Load data\n",
    "df = pd.read_csv(\"segmentation_with_dominant_topic.csv\")\n",
    "\n",
    "# Cek jumlah data awal\n",
    "print(f\"Jumlah data awal: {len(df)} baris\")\n",
    "df.head()\n"
   ]
  },
  {
   "cell_type": "code",
   "execution_count": 3,
   "id": "baad4122",
   "metadata": {},
   "outputs": [
    {
     "name": "stdout",
     "output_type": "stream",
     "text": [
      "Jumlah data setelah filter minimal 5 game per Steam ID: 750 baris\n"
     ]
    }
   ],
   "source": [
    "# Hitung jumlah game per Steam ID\n",
    "game_counts = df.groupby(\"Steam ID\")[\"App ID\"].count()\n",
    "\n",
    "# Filter hanya Steam ID dengan ≥ 5 game\n",
    "valid_users = game_counts[game_counts >= 5].index\n",
    "df = df[df[\"Steam ID\"].isin(valid_users)]\n",
    "\n",
    "# Output jumlah data setelah filter\n",
    "print(f\"Jumlah data setelah filter minimal 5 game per Steam ID: {len(df)} baris\")\n"
   ]
  },
  {
   "cell_type": "code",
   "execution_count": 4,
   "id": "6f35283f",
   "metadata": {},
   "outputs": [
    {
     "name": "stdout",
     "output_type": "stream",
     "text": [
      "Jumlah data setelah menghapus game nonaktif (< 10 menit): 453 baris\n"
     ]
    }
   ],
   "source": [
    "# Filter hanya game dengan playtime minimal 10 menit\n",
    "df = df[df[\"Playtime (hours)\"] >= (10 / 60)]\n",
    "\n",
    "print(f\"Jumlah data setelah menghapus game nonaktif (< 10 menit): {len(df)} baris\")\n"
   ]
  },
  {
   "cell_type": "code",
   "execution_count": 5,
   "id": "23050f50",
   "metadata": {},
   "outputs": [
    {
     "name": "stdout",
     "output_type": "stream",
     "text": [
      "Jumlah data setelah menghapus outlier (> 10.000 menit per game): 438 baris\n"
     ]
    }
   ],
   "source": [
    "# Filter data dengan playtime <= 166.67 jam\n",
    "df = df[df[\"Playtime (hours)\"] <= (10000 / 60)]\n",
    "\n",
    "print(f\"Jumlah data setelah menghapus outlier (> 10.000 menit per game): {len(df)} baris\")\n"
   ]
  },
  {
   "cell_type": "code",
   "execution_count": 6,
   "id": "43e2e322",
   "metadata": {},
   "outputs": [
    {
     "name": "stdout",
     "output_type": "stream",
     "text": [
      "Jumlah data setelah menghapus baris dengan nilai NaN: 431 baris\n"
     ]
    }
   ],
   "source": [
    "# Hapus baris yang memiliki nilai NaN\n",
    "df = df.dropna()\n",
    "\n",
    "print(f\"Jumlah data setelah menghapus baris dengan nilai NaN: {len(df)} baris\")\n"
   ]
  },
  {
   "cell_type": "code",
   "execution_count": 7,
   "id": "29ac89fe",
   "metadata": {},
   "outputs": [
    {
     "name": "stdout",
     "output_type": "stream",
     "text": [
      "Data telah disimpan sebagai segmentation_preprocessed.csv\n"
     ]
    }
   ],
   "source": [
    "# Simpan hasil preprocessing\n",
    "df.to_csv(\"segmentation_preprocessed.csv\", index=False)\n",
    "print(\"Data telah disimpan sebagai segmentation_preprocessed.csv\")"
   ]
  }
 ],
 "metadata": {
  "kernelspec": {
   "display_name": "Python 3",
   "language": "python",
   "name": "python3"
  },
  "language_info": {
   "codemirror_mode": {
    "name": "ipython",
    "version": 3
   },
   "file_extension": ".py",
   "mimetype": "text/x-python",
   "name": "python",
   "nbconvert_exporter": "python",
   "pygments_lexer": "ipython3",
   "version": "3.10.0"
  }
 },
 "nbformat": 4,
 "nbformat_minor": 5
}
