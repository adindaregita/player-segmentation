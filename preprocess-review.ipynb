{
 "cells": [
  {
   "cell_type": "code",
   "execution_count": 2,
   "id": "f6ae5572",
   "metadata": {},
   "outputs": [
    {
     "name": "stdout",
     "output_type": "stream",
     "text": [
      "Total data: 45576 baris\n"
     ]
    }
   ],
   "source": [
    "import pandas as pd\n",
    "from transformers import pipeline\n",
    "from tqdm import tqdm\n",
    "import glob\n",
    "\n",
    "# Ambil semua file CSV dari folder OutputData\n",
    "csv_files = glob.glob(\"OutputData/*.csv\")\n",
    "\n",
    "# Gabungkan semua CSV jadi satu DataFrame\n",
    "df_list = [pd.read_csv(file) for file in csv_files]\n",
    "df = pd.concat(df_list, ignore_index=True)\n",
    "\n",
    "print(f\"Total data: {len(df)} baris\")"
   ]
  },
  {
   "cell_type": "code",
   "execution_count": 5,
   "id": "5b847750",
   "metadata": {},
   "outputs": [
    {
     "name": "stdout",
     "output_type": "stream",
     "text": [
      "Rata-rata karakter per review: 2203.02\n"
     ]
    }
   ],
   "source": [
    "# Ganti NaN jadi string kosong, lalu hitung panjangnya\n",
    "df['char_count'] = df['Reviews'].fillna(\"\").apply(len)\n",
    "\n",
    "# Hitung rata-rata\n",
    "average_chars = df['char_count'].mean()\n",
    "\n",
    "print(f\"Rata-rata karakter per review: {average_chars:.2f}\")\n"
   ]
  },
  {
   "cell_type": "code",
   "execution_count": null,
   "id": "887f6bc4",
   "metadata": {},
   "outputs": [
    {
     "name": "stdout",
     "output_type": "stream",
     "text": [
      "Jumlah karakter terbanyak dalam satu review: 28034\n",
      "Rata-rata karakter per review : 2203.02\n",
      "Nilai terkecil karakter review : 0\n",
      "Modus karakter review          : 10\n"
     ]
    }
   ],
   "source": [
    "# Gabungkan semua CSV jadi satu DataFrame\n",
    "df_list = [pd.read_csv(file) for file in csv_files]\n",
    "df = pd.concat(df_list, ignore_index=True)\n",
    "\n",
    "# Pastikan kolom Reviews aman (ganti NaN ke string kosong)\n",
    "df['char_count'] = df['Reviews'].fillna(\"\").apply(len)\n",
    "\n",
    "# Hitung statistik\n",
    "average_chars = df['char_count'].mean()\n",
    "min_chars = df['char_count'].min()\n",
    "mode_chars = df['char_count'].mode()[0]  # mode() bisa mengembalikan banyak nilai, ambil satuan pertama\n",
    "\n",
    "max_chars = df['char_count'].max()\n",
    "\n",
    "\n",
    "\n",
    "# Print hasil\n",
    "print(f\"Rata-rata karakter per review : {average_chars:.2f}\")\n",
    "print(f\"Jumlah karakter terbanyak dalam satu review: {max_chars}\")\n",
    "print(f\"Nilai terkecil karakter review : {min_chars}\")"
   ]
  },
  {
   "cell_type": "code",
   "execution_count": 8,
   "id": "c63fbfa7",
   "metadata": {},
   "outputs": [
    {
     "name": "stdout",
     "output_type": "stream",
     "text": [
      "0    I had always had VR on my mind. Just the thoug...\n",
      "1    [h1]Gameplay[/h1]\\n\\n[b][u]Go Go Pixel Rangers...\n",
      "2    I made a purchase on Neverwinter on the unders...\n",
      "3    Пройдена на 100%. \\n\\nМестами, сложная головол...\n",
      "4    Think a interview type of TV show but in VR.\\n...\n",
      "5    I rarely write reviews, but this game is a con...\n",
      "6    Stuck after combat have legit tried every sing...\n",
      "7    Игра огонь! Но раскрывается кратно лучше в мод...\n",
      "8    Don't think about it, just give this game a ch...\n",
      "9    Adorable and fun! After all the scary and inte...\n",
      "Name: Reviews, dtype: object\n"
     ]
    }
   ],
   "source": [
    "# 1. Baca file CSV\n",
    "df = pd.read_csv(\"OutputData/processed_data_part_1.csv\")\n",
    "\n",
    "# 2. Pastikan kolom 'Reviews' ada dan tidak berisi NaN\n",
    "df = df.dropna(subset=[\"Reviews\"])\n",
    "\n",
    "# 3. Ambil 10 sampel acak\n",
    "sample_reviews = df[\"Reviews\"].sample(n=10, random_state=42).reset_index(drop=True)\n",
    "\n",
    "# 4. Tampilkan hasil\n",
    "print(sample_reviews)"
   ]
  },
  {
   "cell_type": "code",
   "execution_count": 9,
   "id": "cebc7850",
   "metadata": {},
   "outputs": [],
   "source": [
    "sample_reviews.to_csv(\"OutputData/sample_10_reviews.csv\", index=False)"
   ]
  },
  {
   "cell_type": "code",
   "execution_count": null,
   "id": "5270aff2",
   "metadata": {},
   "outputs": [
    {
     "name": "stderr",
     "output_type": "stream",
     "text": [
      "Device set to use mps:0\n",
      "100%|██████████| 10/10 [02:12<00:00, 13.23s/it]"
     ]
    },
    {
     "name": "stdout",
     "output_type": "stream",
     "text": [
      "Review yang sudah dibersihkan disimpan di: fixOutput/cleaned_reviews.csv\n"
     ]
    },
    {
     "name": "stderr",
     "output_type": "stream",
     "text": [
      "\n"
     ]
    }
   ],
   "source": [
    "# Pastikan kolom review ada\n",
    "df = pd.read_csv(\"sample_10_reviews.csv\")\n",
    "assert 'Reviews' in df.columns, \"Kolom 'review' tidak ditemukan!\"\n",
    "\n",
    "# Inisialisasi pipeline LLM\n",
    "cleaning_pipe = pipeline(\"text2text-generation\", model=\"google/flan-t5-base\")\n",
    "\n",
    "# Fungsi preprocessing dengan LLM\n",
    "def clean_review_with_llm(text):\n",
    "    prompt = (\n",
    "    \"You are a game-review summarization assistant. \"\n",
    "    \"Read the following review (which may include multiple languages), \"\n",
    "    \"translate any non-English parts into English, \"\n",
    "    \"then extract and summarize **only** the sentences that discuss game mechanics, visuals, music, or gameplay. \"\n",
    "    \"Discard all other content. \"\n",
    "    \"Produce a single coherent paragraph in fluent English, \"\n",
    "    \"and ensure your summary does not exceed **1000 characters** (including spaces). \"\n",
    "    \"If necessary, cut only at sentence boundaries.\\n\\n\"\n",
    "    f\"{text}\"\n",
    ")\n",
    "    try:\n",
    "        result = cleaning_pipe(prompt, max_length=256, truncation=True)[0]['generated_text']\n",
    "        return result.strip()\n",
    "    except Exception as e:\n",
    "        return f\"[ERROR] {str(e)}\"\n",
    "\n",
    "# Proses semua review\n",
    "tqdm.pandas()\n",
    "df['cleaned_review'] = df['Reviews'].progress_apply(clean_review_with_llm)\n",
    "\n",
    "# Simpan hasil\n",
    "output_path = \"fixOutput/cleaned_reviews.csv\"\n",
    "df.to_csv(output_path, index=False)\n",
    "\n",
    "print(f\"Review yang sudah dibersihkan disimpan di: {output_path}\")\n"
   ]
  },
  {
   "cell_type": "code",
   "execution_count": null,
   "id": "77846530",
   "metadata": {},
   "outputs": [],
   "source": []
  }
 ],
 "metadata": {
  "kernelspec": {
   "display_name": "Python 3",
   "language": "python",
   "name": "python3"
  },
  "language_info": {
   "codemirror_mode": {
    "name": "ipython",
    "version": 3
   },
   "file_extension": ".py",
   "mimetype": "text/x-python",
   "name": "python",
   "nbconvert_exporter": "python",
   "pygments_lexer": "ipython3",
   "version": "3.10.0"
  }
 },
 "nbformat": 4,
 "nbformat_minor": 5
}
