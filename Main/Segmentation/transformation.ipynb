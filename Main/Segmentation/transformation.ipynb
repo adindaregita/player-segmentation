{
 "cells": [
  {
   "cell_type": "code",
   "execution_count": 1,
   "id": "e6f560c5",
   "metadata": {},
   "outputs": [
    {
     "name": "stdout",
     "output_type": "stream",
     "text": [
      "Jumlah data setelah preprocessing: 49378 baris\n"
     ]
    },
    {
     "data": {
      "text/html": [
       "<div>\n",
       "<style scoped>\n",
       "    .dataframe tbody tr th:only-of-type {\n",
       "        vertical-align: middle;\n",
       "    }\n",
       "\n",
       "    .dataframe tbody tr th {\n",
       "        vertical-align: top;\n",
       "    }\n",
       "\n",
       "    .dataframe thead th {\n",
       "        text-align: right;\n",
       "    }\n",
       "</style>\n",
       "<table border=\"1\" class=\"dataframe\">\n",
       "  <thead>\n",
       "    <tr style=\"text-align: right;\">\n",
       "      <th></th>\n",
       "      <th>Steam ID</th>\n",
       "      <th>App ID</th>\n",
       "      <th>Game Name</th>\n",
       "      <th>Playtime (hours)</th>\n",
       "      <th>Genres</th>\n",
       "      <th>Achievements</th>\n",
       "      <th>Topic</th>\n",
       "    </tr>\n",
       "  </thead>\n",
       "  <tbody>\n",
       "    <tr>\n",
       "      <th>0</th>\n",
       "      <td>76561198881119093</td>\n",
       "      <td>20</td>\n",
       "      <td>team fortress classic</td>\n",
       "      <td>0.316667</td>\n",
       "      <td>Action</td>\n",
       "      <td>0</td>\n",
       "      <td>[]</td>\n",
       "    </tr>\n",
       "    <tr>\n",
       "      <th>1</th>\n",
       "      <td>76561198881119093</td>\n",
       "      <td>50</td>\n",
       "      <td>half-life: opposing force</td>\n",
       "      <td>7.600000</td>\n",
       "      <td>Action</td>\n",
       "      <td>0</td>\n",
       "      <td>[30, 237, 444]</td>\n",
       "    </tr>\n",
       "    <tr>\n",
       "      <th>2</th>\n",
       "      <td>76561198881119093</td>\n",
       "      <td>70</td>\n",
       "      <td>half-life</td>\n",
       "      <td>18.166667</td>\n",
       "      <td>Action</td>\n",
       "      <td>0</td>\n",
       "      <td>[257, 51, 108]</td>\n",
       "    </tr>\n",
       "    <tr>\n",
       "      <th>3</th>\n",
       "      <td>76561198881119093</td>\n",
       "      <td>130</td>\n",
       "      <td>half-life: blue shift</td>\n",
       "      <td>2.783333</td>\n",
       "      <td>Action</td>\n",
       "      <td>0</td>\n",
       "      <td>[34, 77, 117]</td>\n",
       "    </tr>\n",
       "    <tr>\n",
       "      <th>4</th>\n",
       "      <td>76561198881119093</td>\n",
       "      <td>220</td>\n",
       "      <td>half-life 2</td>\n",
       "      <td>20.550000</td>\n",
       "      <td>Action</td>\n",
       "      <td>35</td>\n",
       "      <td>[257, 24, 73]</td>\n",
       "    </tr>\n",
       "  </tbody>\n",
       "</table>\n",
       "</div>"
      ],
      "text/plain": [
       "            Steam ID  App ID                  Game Name  Playtime (hours)  \\\n",
       "0  76561198881119093      20      team fortress classic          0.316667   \n",
       "1  76561198881119093      50  half-life: opposing force          7.600000   \n",
       "2  76561198881119093      70                  half-life         18.166667   \n",
       "3  76561198881119093     130      half-life: blue shift          2.783333   \n",
       "4  76561198881119093     220                half-life 2         20.550000   \n",
       "\n",
       "   Genres  Achievements           Topic  \n",
       "0  Action             0              []  \n",
       "1  Action             0  [30, 237, 444]  \n",
       "2  Action             0  [257, 51, 108]  \n",
       "3  Action             0   [34, 77, 117]  \n",
       "4  Action            35   [257, 24, 73]  "
      ]
     },
     "execution_count": 1,
     "metadata": {},
     "output_type": "execute_result"
    }
   ],
   "source": [
    "import pandas as pd\n",
    "from sklearn.preprocessing import MinMaxScaler\n",
    "\n",
    "# Load data\n",
    "df = pd.read_csv(\"segmentation_preprocessed.csv\")\n",
    "\n",
    "# Cek jumlah data\n",
    "print(f\"Jumlah data setelah preprocessing: {len(df)} baris\")\n",
    "df.head()\n"
   ]
  },
  {
   "cell_type": "code",
   "execution_count": 2,
   "id": "332bcf3f",
   "metadata": {},
   "outputs": [
    {
     "name": "stdout",
     "output_type": "stream",
     "text": [
      "Contoh hasil jumlah game per user:\n",
      "            Steam ID  Game_Count\n",
      "0  76561197960269409         491\n",
      "1  76561197962437769         696\n",
      "2  76561197963260222         597\n",
      "3  76561197963740541          64\n",
      "4  76561197964099717         253\n"
     ]
    }
   ],
   "source": [
    "# Hitung jumlah game unik per Steam ID\n",
    "game_count = df.groupby(\"Steam ID\")[\"App ID\"].nunique().reset_index()\n",
    "game_count.columns = [\"Steam ID\", \"Game_Count\"]\n",
    "\n",
    "print(f\"Contoh hasil jumlah game per user:\\n{game_count.head()}\")\n"
   ]
  },
  {
   "cell_type": "code",
   "execution_count": 3,
   "id": "dc7705ce",
   "metadata": {},
   "outputs": [
    {
     "name": "stdout",
     "output_type": "stream",
     "text": [
      "Contoh hasil total dan normalized playtime:\n",
      "            Steam ID  Total_Playtime  Normalized_Playtime\n",
      "0  76561197960269409     8530.633333             0.451832\n",
      "1  76561197962437769     3599.133333             0.188756\n",
      "2  76561197963260222     6718.600000             0.355167\n",
      "3  76561197963740541      358.883333             0.015902\n",
      "4  76561197964099717     2782.616667             0.145198\n"
     ]
    }
   ],
   "source": [
    "# Hitung total playtime per Steam ID\n",
    "playtime = df.groupby(\"Steam ID\")[\"Playtime (hours)\"].sum().reset_index()\n",
    "playtime.columns = [\"Steam ID\", \"Total_Playtime\"]\n",
    "\n",
    "# Normalisasi total playtime\n",
    "scaler = MinMaxScaler()\n",
    "playtime[\"Normalized_Playtime\"] = scaler.fit_transform(playtime[[\"Total_Playtime\"]])\n",
    "\n",
    "print(f\"Contoh hasil total dan normalized playtime:\\n{playtime.head()}\")\n"
   ]
  },
  {
   "cell_type": "code",
   "execution_count": 4,
   "id": "475b5ace",
   "metadata": {},
   "outputs": [
    {
     "name": "stdout",
     "output_type": "stream",
     "text": [
      "Contoh hasil total achievement per user:\n",
      "            Steam ID  Total_Achievements\n",
      "0  76561197960269409                6145\n",
      "1  76561197962437769                2325\n",
      "2  76561197963260222                6567\n",
      "3  76561197963740541                3697\n",
      "4  76561197964099717                2489\n"
     ]
    }
   ],
   "source": [
    "# Hitung total achievement per Steam ID\n",
    "achievements = df.groupby(\"Steam ID\")[\"Achievements\"].sum().reset_index()\n",
    "achievements.columns = [\"Steam ID\", \"Total_Achievements\"]\n",
    "\n",
    "print(f\"Contoh hasil total achievement per user:\\n{achievements.head()}\")\n"
   ]
  },
  {
   "cell_type": "code",
   "execution_count": 5,
   "id": "9d7c6c9e",
   "metadata": {},
   "outputs": [
    {
     "name": "stdout",
     "output_type": "stream",
     "text": [
      "Contoh hasil genre dominan per user:\n",
      "            Steam ID                 Dominant_Genre  Dominant_Genre_Label\n",
      "0  76561197960269409                    Action, RPG                    25\n",
      "1  76561197962437769                    Action, RPG                    25\n",
      "2  76561197963260222           Indie, RPG, Strategy                    51\n",
      "3  76561197963740541                         Action                     0\n",
      "4  76561197964099717  Free To Play, Indie, Strategy                    47\n"
     ]
    }
   ],
   "source": [
    "# Cari genre dari game dengan playtime tertinggi per Steam ID\n",
    "df_genre = df.sort_values(by=[\"Steam ID\", \"Playtime (hours)\"], ascending=[True, False])\n",
    "dominant_genre = df_genre.groupby(\"Steam ID\").first().reset_index()\n",
    "dominant_genre = dominant_genre[[\"Steam ID\", \"Genres\"]].rename(columns={\"Genres\": \"Dominant_Genre\"})\n",
    "\n",
    "# Konversi genre ke bentuk numerik\n",
    "dominant_genre[\"Dominant_Genre_Label\"] = dominant_genre[\"Dominant_Genre\"].astype(\"category\").cat.codes\n",
    "\n",
    "print(f\"Contoh hasil genre dominan per user:\\n{dominant_genre.head()}\")\n"
   ]
  },
  {
   "cell_type": "code",
   "execution_count": 7,
   "id": "3c1dc8bc",
   "metadata": {},
   "outputs": [
    {
     "name": "stdout",
     "output_type": "stream",
     "text": [
      "Contoh hasil topik dominan per user:\n",
      "            Steam ID   Dominant_Topic Dominant_Topic_Str  Dominant_Topic_Label\n",
      "0  76561197960269409    [15, 78, 127]      [15, 78, 127]                    20\n",
      "1  76561197962437769    [15, 46, 107]      [15, 46, 107]                    19\n",
      "2  76561197963260222  [134, 174, 211]    [134, 174, 211]                    16\n",
      "3  76561197963740541    [257, 39, 42]      [257, 39, 42]                    41\n",
      "4  76561197964099717   [67, 104, 141]     [67, 104, 141]                    84\n"
     ]
    }
   ],
   "source": [
    "import pandas as pd\n",
    "\n",
    "# 1. Load data\n",
    "df = pd.read_csv(\"combined_player_game_with_topics.csv\")  # File hasil gabungan sebelumnya\n",
    "\n",
    "# 2. Pastikan kolom Topic masih dalam format list (jika dibaca sebagai string, ubah ke list)\n",
    "df['Topic'] = df['Topic'].apply(lambda x: eval(x) if isinstance(x, str) and x.startswith(\"[\") else [])\n",
    "\n",
    "# 3. Ambil game dengan waktu bermain tertinggi per Steam ID\n",
    "df_sorted = df.sort_values(by=['Steam ID', 'Playtime (hours)'], ascending=[True, False])\n",
    "df_dominant = df_sorted.groupby(\"Steam ID\").first().reset_index()\n",
    "\n",
    "# 4. Ambil topik dominan dari game dengan playtime tertinggi\n",
    "df_dominant = df_dominant[['Steam ID', 'Topic']].rename(columns={\"Topic\": \"Dominant_Topic\"})\n",
    "\n",
    "# 5. Konversi list topik ke string agar bisa dicoding\n",
    "df_dominant['Dominant_Topic_Str'] = df_dominant['Dominant_Topic'].apply(lambda x: str(x))\n",
    "\n",
    "# 6. Label encoding ke bentuk numerik\n",
    "df_dominant['Dominant_Topic_Label'] = df_dominant['Dominant_Topic_Str'].astype(\"category\").cat.codes\n",
    "\n",
    "# 7. Contoh output\n",
    "print(f\"Contoh hasil topik dominan per user:\\n{df_dominant.head()}\")\n",
    "\n"
   ]
  },
  {
   "cell_type": "code",
   "execution_count": 8,
   "id": "df61c727",
   "metadata": {},
   "outputs": [
    {
     "name": "stdout",
     "output_type": "stream",
     "text": [
      "Transformasi selesai. Data disimpan ke segmentation_transformed.csv\n",
      "Contoh data akhir:\n",
      "            Steam ID  Game_Count  Total_Playtime  Normalized_Playtime  \\\n",
      "0  76561197960269409         491     8530.633333             0.451832   \n",
      "1  76561197962437769         696     3599.133333             0.188756   \n",
      "2  76561197963260222         597     6718.600000             0.355167   \n",
      "3  76561197963740541          64      358.883333             0.015902   \n",
      "4  76561197964099717         253     2782.616667             0.145198   \n",
      "\n",
      "   Total_Achievements                 Dominant_Genre  Dominant_Genre_Label  \\\n",
      "0                6145                    Action, RPG                    25   \n",
      "1                2325                    Action, RPG                    25   \n",
      "2                6567           Indie, RPG, Strategy                    51   \n",
      "3                3697                         Action                     0   \n",
      "4                2489  Free To Play, Indie, Strategy                    47   \n",
      "\n",
      "    App ID           Game Name  Playtime (hours)  \\\n",
      "0    22380  fallout: new vegas        139.466667   \n",
      "1  1245620          elden ring        142.833333   \n",
      "2   763890          wildermyth        156.950000   \n",
      "3   381210    dead by daylight        142.100000   \n",
      "4   291410             duelyst        152.683333   \n",
      "\n",
      "                          Genres  Achievements           Topic  \n",
      "0                    Action, RPG            53     [2, 25, 37]  \n",
      "1                    Action, RPG             8   [52, 66, 134]  \n",
      "2           Indie, RPG, Strategy            53  [96, 155, 161]  \n",
      "3                         Action            82   [257, 39, 42]  \n",
      "4  Free To Play, Indie, Strategy             9            [41]  \n"
     ]
    }
   ],
   "source": [
    "# Gabungkan semua fitur\n",
    "df_segment = game_count.merge(playtime, on=\"Steam ID\") \\\n",
    "                       .merge(achievements, on=\"Steam ID\") \\\n",
    "                       .merge(dominant_genre, on=\"Steam ID\") \\\n",
    "                       .merge(dominant_topic, on=\"Steam ID\")\n",
    "\n",
    "# Simpan ke CSV\n",
    "df_segment.to_csv(\"segmentation_transformed.csv\", index=False)\n",
    "\n",
    "print(\"Transformasi selesai. Data disimpan ke segmentation_transformed.csv\")\n",
    "print(f\"Contoh data akhir:\\n{df_segment.head()}\")\n"
   ]
  },
  {
   "cell_type": "code",
   "execution_count": 9,
   "id": "3491ab75",
   "metadata": {},
   "outputs": [
    {
     "name": "stdout",
     "output_type": "stream",
     "text": [
      "✅ File 'transformed_segmentasi_final.csv' berhasil dibuat.\n"
     ]
    }
   ],
   "source": [
    "import pandas as pd\n",
    "from sklearn.preprocessing import MinMaxScaler\n",
    "\n",
    "# 1. Baca file hasil pre-processing\n",
    "df = pd.read_csv(\"combined_player_game_with_topics.csv\")\n",
    "\n",
    "# 2. Hitung Total Game (jumlah game unik per pemain)\n",
    "total_game = df.groupby('Steam ID')['App ID'].nunique().reset_index()\n",
    "total_game.columns = ['Steam ID', 'Total Game']\n",
    "\n",
    "# 3. Hitung Total Playtime dan normalisasi\n",
    "total_playtime = df.groupby('Steam ID')['Playtime (hours)'].sum().reset_index()\n",
    "total_playtime.columns = ['Steam ID', 'Total Playtime']\n",
    "total_playtime['Total Playtime'] = MinMaxScaler().fit_transform(total_playtime[['Total Playtime']])\n",
    "\n",
    "# 4. Hitung Total Achievement\n",
    "total_achievement = df.groupby('Steam ID')['Achievements'].sum().reset_index()\n",
    "total_achievement.columns = ['Steam ID', 'Total Achievement']\n",
    "\n",
    "# 5. Tentukan Genre Dominan dari game dengan playtime tertinggi\n",
    "df_sorted = df.sort_values(['Steam ID', 'Playtime (hours)'], ascending=[True, False])\n",
    "genre_dominan = df_sorted.groupby('Steam ID').first().reset_index()\n",
    "genre_dominan = genre_dominan[['Steam ID', 'Genres']].rename(columns={'Genres': 'Genres Dominan'})\n",
    "\n",
    "# 6. Tentukan Dominant Topic dari game dengan playtime tertinggi\n",
    "dominant_topic = df_sorted.groupby('Steam ID').first().reset_index()\n",
    "dominant_topic = dominant_topic[['Steam ID', 'Topic']].rename(columns={'Topic': 'Dominant Topic'})\n",
    "\n",
    "# 7. Gabungkan semua fitur\n",
    "df_final = total_game.merge(total_playtime, on='Steam ID')\n",
    "df_final = df_final.merge(total_achievement, on='Steam ID')\n",
    "df_final = df_final.merge(genre_dominan, on='Steam ID')\n",
    "df_final = df_final.merge(dominant_topic, on='Steam ID')\n",
    "\n",
    "# 8. Tambahkan kolom No\n",
    "df_final.insert(0, 'No', range(1, len(df_final) + 1))\n",
    "\n",
    "# 9. Simpan ke file CSV\n",
    "df_final.to_csv(\"transformed_segmentasi_final.csv\", index=False)\n",
    "\n",
    "print(\"✅ File 'transformed_segmentasi_final.csv' berhasil dibuat.\")\n"
   ]
  }
 ],
 "metadata": {
  "kernelspec": {
   "display_name": "Python 3",
   "language": "python",
   "name": "python3"
  },
  "language_info": {
   "codemirror_mode": {
    "name": "ipython",
    "version": 3
   },
   "file_extension": ".py",
   "mimetype": "text/x-python",
   "name": "python",
   "nbconvert_exporter": "python",
   "pygments_lexer": "ipython3",
   "version": "3.10.0"
  }
 },
 "nbformat": 4,
 "nbformat_minor": 5
}
