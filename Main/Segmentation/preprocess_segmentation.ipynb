{
 "cells": [
  {
   "cell_type": "code",
   "execution_count": 2,
   "id": "bb7e98b2",
   "metadata": {},
   "outputs": [
    {
     "name": "stdout",
     "output_type": "stream",
     "text": [
      "Jumlah data awal: 103206 baris\n"
     ]
    },
    {
     "data": {
      "text/html": [
       "<div>\n",
       "<style scoped>\n",
       "    .dataframe tbody tr th:only-of-type {\n",
       "        vertical-align: middle;\n",
       "    }\n",
       "\n",
       "    .dataframe tbody tr th {\n",
       "        vertical-align: top;\n",
       "    }\n",
       "\n",
       "    .dataframe thead th {\n",
       "        text-align: right;\n",
       "    }\n",
       "</style>\n",
       "<table border=\"1\" class=\"dataframe\">\n",
       "  <thead>\n",
       "    <tr style=\"text-align: right;\">\n",
       "      <th></th>\n",
       "      <th>Steam ID</th>\n",
       "      <th>App ID</th>\n",
       "      <th>Game Name</th>\n",
       "      <th>Playtime (hours)</th>\n",
       "      <th>Genres</th>\n",
       "      <th>Achievements</th>\n",
       "      <th>Topic</th>\n",
       "    </tr>\n",
       "  </thead>\n",
       "  <tbody>\n",
       "    <tr>\n",
       "      <th>0</th>\n",
       "      <td>76561198881119093</td>\n",
       "      <td>20</td>\n",
       "      <td>team fortress classic</td>\n",
       "      <td>0.316667</td>\n",
       "      <td>Action</td>\n",
       "      <td>0</td>\n",
       "      <td>[]</td>\n",
       "    </tr>\n",
       "    <tr>\n",
       "      <th>1</th>\n",
       "      <td>76561198881119093</td>\n",
       "      <td>50</td>\n",
       "      <td>half-life: opposing force</td>\n",
       "      <td>7.600000</td>\n",
       "      <td>Action</td>\n",
       "      <td>0</td>\n",
       "      <td>[30, 237, 444]</td>\n",
       "    </tr>\n",
       "    <tr>\n",
       "      <th>2</th>\n",
       "      <td>76561198881119093</td>\n",
       "      <td>70</td>\n",
       "      <td>half-life</td>\n",
       "      <td>18.166667</td>\n",
       "      <td>Action</td>\n",
       "      <td>0</td>\n",
       "      <td>[257, 51, 108]</td>\n",
       "    </tr>\n",
       "    <tr>\n",
       "      <th>3</th>\n",
       "      <td>76561198881119093</td>\n",
       "      <td>130</td>\n",
       "      <td>half-life: blue shift</td>\n",
       "      <td>2.783333</td>\n",
       "      <td>Action</td>\n",
       "      <td>0</td>\n",
       "      <td>[34, 77, 117]</td>\n",
       "    </tr>\n",
       "    <tr>\n",
       "      <th>4</th>\n",
       "      <td>76561198881119093</td>\n",
       "      <td>220</td>\n",
       "      <td>half-life 2</td>\n",
       "      <td>20.550000</td>\n",
       "      <td>Action</td>\n",
       "      <td>35</td>\n",
       "      <td>[257, 24, 73]</td>\n",
       "    </tr>\n",
       "  </tbody>\n",
       "</table>\n",
       "</div>"
      ],
      "text/plain": [
       "            Steam ID  App ID                  Game Name  Playtime (hours)  \\\n",
       "0  76561198881119093      20      team fortress classic          0.316667   \n",
       "1  76561198881119093      50  half-life: opposing force          7.600000   \n",
       "2  76561198881119093      70                  half-life         18.166667   \n",
       "3  76561198881119093     130      half-life: blue shift          2.783333   \n",
       "4  76561198881119093     220                half-life 2         20.550000   \n",
       "\n",
       "   Genres  Achievements           Topic  \n",
       "0  Action             0              []  \n",
       "1  Action             0  [30, 237, 444]  \n",
       "2  Action             0  [257, 51, 108]  \n",
       "3  Action             0   [34, 77, 117]  \n",
       "4  Action            35   [257, 24, 73]  "
      ]
     },
     "execution_count": 2,
     "metadata": {},
     "output_type": "execute_result"
    }
   ],
   "source": [
    "import pandas as pd\n",
    "\n",
    "# Load data\n",
    "df = pd.read_csv(\"combined_player_game_with_topics.csv\")\n",
    "\n",
    "# Cek jumlah data awal\n",
    "print(f\"Jumlah data awal: {len(df)} baris\")\n",
    "df.head()\n"
   ]
  },
  {
   "cell_type": "code",
   "execution_count": 3,
   "id": "baad4122",
   "metadata": {},
   "outputs": [
    {
     "name": "stdout",
     "output_type": "stream",
     "text": [
      "Jumlah data setelah filter minimal 5 game per Steam ID: 103206 baris\n"
     ]
    }
   ],
   "source": [
    "# Hitung jumlah game per Steam ID\n",
    "game_counts = df.groupby(\"Steam ID\")[\"App ID\"].count()\n",
    "\n",
    "# Filter hanya Steam ID dengan ≥ 5 game\n",
    "valid_users = game_counts[game_counts >= 5].index\n",
    "df = df[df[\"Steam ID\"].isin(valid_users)]\n",
    "\n",
    "# Output jumlah data setelah filter\n",
    "print(f\"Jumlah data setelah filter minimal 5 game per Steam ID: {len(df)} baris\")\n"
   ]
  },
  {
   "cell_type": "code",
   "execution_count": 4,
   "id": "6f35283f",
   "metadata": {},
   "outputs": [
    {
     "name": "stdout",
     "output_type": "stream",
     "text": [
      "Jumlah data setelah menghapus game nonaktif (< 10 menit): 51525 baris\n"
     ]
    }
   ],
   "source": [
    "# Filter hanya game dengan playtime minimal 10 menit\n",
    "df = df[df[\"Playtime (hours)\"] >= (10 / 60)]\n",
    "\n",
    "print(f\"Jumlah data setelah menghapus game nonaktif (< 10 menit): {len(df)} baris\")\n"
   ]
  },
  {
   "cell_type": "code",
   "execution_count": 5,
   "id": "23050f50",
   "metadata": {},
   "outputs": [
    {
     "name": "stdout",
     "output_type": "stream",
     "text": [
      "Jumlah data setelah menghapus outlier (> 10.000 menit per game): 50380 baris\n"
     ]
    }
   ],
   "source": [
    "# Filter data dengan playtime <= 166.67 jam\n",
    "df = df[df[\"Playtime (hours)\"] <= (10000 / 60)]\n",
    "\n",
    "print(f\"Jumlah data setelah menghapus outlier (> 10.000 menit per game): {len(df)} baris\")\n"
   ]
  },
  {
   "cell_type": "code",
   "execution_count": 6,
   "id": "43e2e322",
   "metadata": {},
   "outputs": [
    {
     "name": "stdout",
     "output_type": "stream",
     "text": [
      "Jumlah data setelah menghapus baris dengan nilai NaN: 49378 baris\n"
     ]
    }
   ],
   "source": [
    "# Hapus baris yang memiliki nilai NaN\n",
    "df = df.dropna()\n",
    "\n",
    "print(f\"Jumlah data setelah menghapus baris dengan nilai NaN: {len(df)} baris\")\n"
   ]
  },
  {
   "cell_type": "code",
   "execution_count": 7,
   "id": "29ac89fe",
   "metadata": {},
   "outputs": [
    {
     "name": "stdout",
     "output_type": "stream",
     "text": [
      "Data telah disimpan sebagai segmentation_preprocessed.csv\n"
     ]
    }
   ],
   "source": [
    "# Simpan hasil preprocessing\n",
    "df.to_csv(\"segmentation_preprocessed.csv\", index=False)\n",
    "print(\"Data telah disimpan sebagai segmentation_preprocessed.csv\")"
   ]
  }
 ],
 "metadata": {
  "kernelspec": {
   "display_name": "Python 3",
   "language": "python",
   "name": "python3"
  },
  "language_info": {
   "codemirror_mode": {
    "name": "ipython",
    "version": 3
   },
   "file_extension": ".py",
   "mimetype": "text/x-python",
   "name": "python",
   "nbconvert_exporter": "python",
   "pygments_lexer": "ipython3",
   "version": "3.10.0"
  }
 },
 "nbformat": 4,
 "nbformat_minor": 5
}
