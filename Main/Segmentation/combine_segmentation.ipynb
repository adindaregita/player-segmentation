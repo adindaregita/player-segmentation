{
 "cells": [
  {
   "cell_type": "code",
   "execution_count": 13,
   "id": "7eee960f",
   "metadata": {},
   "outputs": [
    {
     "name": "stderr",
     "output_type": "stream",
     "text": [
      "/var/folders/kh/7d1scz1n2f7gnm2sy2q4rgs00000gn/T/ipykernel_4954/2203187968.py:6: FutureWarning: The behavior of DataFrame concatenation with empty or all-NA entries is deprecated. In a future version, this will no longer exclude empty or all-NA columns when determining the result dtypes. To retain the old behavior, exclude the relevant entries before the concat operation.\n",
      "  df_players = pd.concat([pd.read_csv(f) for f in csv_files], ignore_index=True)\n",
      "/var/folders/kh/7d1scz1n2f7gnm2sy2q4rgs00000gn/T/ipykernel_4954/2203187968.py:35: SettingWithCopyWarning: \n",
      "A value is trying to be set on a copy of a slice from a DataFrame.\n",
      "Try using .loc[row_indexer,col_indexer] = value instead\n",
      "\n",
      "See the caveats in the documentation: https://pandas.pydata.org/pandas-docs/stable/user_guide/indexing.html#returning-a-view-versus-a-copy\n",
      "  df_result['Topic'] = df_result['Topic'].apply(lambda x: str(x))\n"
     ]
    }
   ],
   "source": [
    "import pandas as pd\n",
    "import glob\n",
    "\n",
    "# 1. Gabungkan semua data pemain dari dua folder\n",
    "csv_files = glob.glob(\"Dataset/*.csv\") + glob.glob(\"Dataset_2/*.csv\")\n",
    "df_players = pd.concat([pd.read_csv(f) for f in csv_files], ignore_index=True)\n",
    "\n",
    "# 2. Load topik dari game\n",
    "df_topics = pd.read_csv(\"game_top_topics_keywords.csv\")\n",
    "\n",
    "# 3. Normalisasi nama game untuk pencocokan\n",
    "df_players['Game Name'] = df_players['Game Name'].str.lower().str.strip()\n",
    "df_topics['Game'] = df_topics['Game'].str.lower().str.strip()\n",
    "\n",
    "# 4. Gabungkan berdasarkan nama game\n",
    "df_merged = df_players.merge(\n",
    "    df_topics[['Game', 'Top_Clusters']],\n",
    "    left_on='Game Name',\n",
    "    right_on='Game',\n",
    "    how='left'\n",
    ")\n",
    "\n",
    "# 5. Ubah Top_Clusters ke list Python jika masih string list\n",
    "df_merged['Top_Clusters'] = df_merged['Top_Clusters'].apply(\n",
    "    lambda x: eval(x) if isinstance(x, str) and x.startswith(\"[\") else []\n",
    ")\n",
    "\n",
    "# 6. Ubah nama kolom menjadi Topic\n",
    "df_merged = df_merged.rename(columns={'Top_Clusters': 'Topic'})\n",
    "\n",
    "# 7. Pilih kolom yang diinginkan\n",
    "df_result = df_merged[['Steam ID', 'App ID', 'Game Name', 'Playtime (hours)', 'Genres', 'Achievements', 'Topic']]\n",
    "\n",
    "# 8. Konversi list ke string agar tidak pecah di CSV\n",
    "df_result['Topic'] = df_result['Topic'].apply(lambda x: str(x))\n",
    "\n",
    "# 9. Simpan ke file\n",
    "df_result.to_csv(\"combined_player_game_with_topics.csv\", index=False)\n"
   ]
  }
 ],
 "metadata": {
  "kernelspec": {
   "display_name": "Python 3",
   "language": "python",
   "name": "python3"
  },
  "language_info": {
   "codemirror_mode": {
    "name": "ipython",
    "version": 3
   },
   "file_extension": ".py",
   "mimetype": "text/x-python",
   "name": "python",
   "nbconvert_exporter": "python",
   "pygments_lexer": "ipython3",
   "version": "3.10.0"
  }
 },
 "nbformat": 4,
 "nbformat_minor": 5
}
