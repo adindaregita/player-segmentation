{
 "cells": [
  {
   "cell_type": "code",
   "execution_count": 2,
   "id": "594a8773",
   "metadata": {},
   "outputs": [
    {
     "name": "stdout",
     "output_type": "stream",
     "text": [
      "Kolom 'Reviews' dihapus dari OutputData/processed_data_part_10.csv\n",
      "Kolom 'Reviews' dihapus dari OutputData/processed_data_part_11.csv\n",
      "Kolom 'Reviews' dihapus dari OutputData/processed_data_part_13.csv\n",
      "Kolom 'Reviews' dihapus dari OutputData/processed_data_part_12.csv\n",
      "Kolom 'Reviews' dihapus dari OutputData/processed_data_part_16.csv\n",
      "Kolom 'Reviews' dihapus dari OutputData/processed_data_part_17.csv\n",
      "Kolom 'Reviews' dihapus dari OutputData/processed_data_part_29.csv\n",
      "Kolom 'Reviews' dihapus dari OutputData/processed_data_part_15.csv\n",
      "Kolom 'Reviews' dihapus dari OutputData/processed_data_part_14.csv\n",
      "Kolom 'Reviews' dihapus dari OutputData/processed_data_part_28.csv\n",
      "Kolom 'Reviews' dihapus dari OutputData/processed_data_part_9.csv\n",
      "Kolom 'Reviews' dihapus dari OutputData/processed_data_part_8.csv\n",
      "Kolom 'Reviews' dihapus dari OutputData/processed_data_part_1.csv\n",
      "Kolom 'Reviews' dihapus dari OutputData/processed_data_part_3.csv\n",
      "Kolom 'Reviews' dihapus dari OutputData/processed_data_part_2.csv\n",
      "Kolom 'Reviews' dihapus dari OutputData/processed_data_part_6.csv\n",
      "Kolom 'Reviews' dihapus dari OutputData/processed_data_part_7.csv\n",
      "Kolom 'Reviews' dihapus dari OutputData/processed_data_part_5.csv\n",
      "Kolom 'Reviews' dihapus dari OutputData/processed_data_part_4.csv\n",
      "Kolom 'Reviews' dihapus dari OutputData/processed_data_part_25.csv\n",
      "Kolom 'Reviews' dihapus dari OutputData/processed_data_part_19.csv\n",
      "Kolom 'Reviews' dihapus dari OutputData/processed_data_part_18.csv\n",
      "Kolom 'Reviews' dihapus dari OutputData/processed_data_part_24.csv\n",
      "Kolom 'Reviews' dihapus dari OutputData/processed_data_part_30.csv\n",
      "Kolom 'Reviews' dihapus dari OutputData/processed_data_part_26.csv\n",
      "Kolom 'Reviews' dihapus dari OutputData/processed_data_part_27.csv\n",
      "Kolom 'Reviews' dihapus dari OutputData/processed_data_part_23.csv\n",
      "Kolom 'Reviews' dihapus dari OutputData/processed_data_part_22.csv\n",
      "Kolom 'Reviews' dihapus dari OutputData/processed_data_part_20.csv\n",
      "Kolom 'Reviews' dihapus dari OutputData/processed_data_part_21.csv\n"
     ]
    }
   ],
   "source": [
    "import glob\n",
    "import pandas as pd\n",
    "\n",
    "# Path ke semua file csv yang sesuai pola\n",
    "file_paths = glob.glob('OutputData/processed_data_part_*.csv')\n",
    "\n",
    "# Loop semua file dan hapus kolom Reviews\n",
    "for file_path in file_paths:\n",
    "    df = pd.read_csv(file_path)\n",
    "\n",
    "    if 'Reviews' in df.columns:\n",
    "        df.drop(columns=['Reviews'], inplace=True)\n",
    "        df.to_csv(file_path, index=False)\n",
    "        print(f\"Kolom 'Reviews' dihapus dari {file_path}\")\n",
    "    else:\n",
    "        print(f\"Tidak ada kolom 'Reviews' di {file_path}\")\n"
   ]
  }
 ],
 "metadata": {
  "kernelspec": {
   "display_name": "Python 3",
   "language": "python",
   "name": "python3"
  },
  "language_info": {
   "codemirror_mode": {
    "name": "ipython",
    "version": 3
   },
   "file_extension": ".py",
   "mimetype": "text/x-python",
   "name": "python",
   "nbconvert_exporter": "python",
   "pygments_lexer": "ipython3",
   "version": "3.10.0"
  }
 },
 "nbformat": 4,
 "nbformat_minor": 5
}
