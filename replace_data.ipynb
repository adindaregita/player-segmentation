{
 "cells": [
  {
   "cell_type": "code",
   "execution_count": 1,
   "id": "b8149625",
   "metadata": {},
   "outputs": [],
   "source": [
    "import pandas as pd\n",
    "\n",
    "# Baca file\n",
    "df = pd.read_csv('replace_test.csv')\n",
    "\n",
    "# Ganti seluruh isi kolom Reviews\n",
    "df['Reviews'] = \"No Reviews\"\n",
    "\n",
    "# Simpan kembali\n",
    "df.to_csv('cleaned_replace.csv', index=False)"
   ]
  }
 ],
 "metadata": {
  "kernelspec": {
   "display_name": "Python 3",
   "language": "python",
   "name": "python3"
  },
  "language_info": {
   "codemirror_mode": {
    "name": "ipython",
    "version": 3
   },
   "file_extension": ".py",
   "mimetype": "text/x-python",
   "name": "python",
   "nbconvert_exporter": "python",
   "pygments_lexer": "ipython3",
   "version": "3.10.0"
  }
 },
 "nbformat": 4,
 "nbformat_minor": 5
}
