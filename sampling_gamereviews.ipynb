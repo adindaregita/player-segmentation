{
 "cells": [
  {
   "cell_type": "code",
   "execution_count": 4,
   "id": "98db4378",
   "metadata": {},
   "outputs": [
    {
     "name": "stdout",
     "output_type": "stream",
     "text": [
      "✓ Dibaca: reviews_1/reviews_processed_data_part_17.csv (624 baris)\n",
      "✓ Dibaca: reviews_1/reviews_processed_data_part_16.csv (604 baris)\n",
      "✓ Dibaca: reviews_1/reviews_processed_data_part_14.csv (365 baris)\n",
      "✓ Dibaca: reviews_1/reviews_processed_data_part_15.csv (290 baris)\n",
      "✓ Dibaca: reviews_1/reviews_processed_data_part_8.csv (1098 baris)\n",
      "✓ Dibaca: reviews_1/reviews_processed_data_part_11.csv (369 baris)\n",
      "✓ Dibaca: reviews_1/reviews_processed_data_part_10.csv (617 baris)\n",
      "✓ Dibaca: reviews_1/reviews_processed_data_part_9.csv (359 baris)\n",
      "✓ Dibaca: reviews_1/reviews_processed_data_part_12.csv (105 baris)\n",
      "✓ Dibaca: reviews_1/reviews_processed_data_part_13.csv (174 baris)\n",
      "✓ Dibaca: reviews_1/reviews_processed_data_part_7.csv (171 baris)\n",
      "✓ Dibaca: reviews_1/reviews_processed_data_part_6.csv (259 baris)\n",
      "✓ Dibaca: reviews_1/reviews_processed_data_part_4.csv (154 baris)\n",
      "✓ Dibaca: reviews_1/reviews_processed_data_part_5.csv (202 baris)\n",
      "✓ Dibaca: reviews_1/reviews_processed_data_part_1.csv (225 baris)\n",
      "✓ Dibaca: reviews_1/reviews_processed_data_part_18.csv (798 baris)\n",
      "✓ Dibaca: reviews_1/reviews_processed_data_part_2.csv (692 baris)\n",
      "✓ Dibaca: reviews_1/reviews_processed_data_part_3.csv (698 baris)\n",
      "✓ Dibaca: reviews_2/reviews_processed_data_part_16.csv (28 baris)\n",
      "✓ Dibaca: reviews_2/reviews_processed_data_part_28.csv (121 baris)\n",
      "✓ Dibaca: reviews_2/reviews_processed_data_part_14.csv (25 baris)\n",
      "✓ Dibaca: reviews_2/reviews_processed_data_part_15.csv (630 baris)\n",
      "✓ Dibaca: reviews_2/reviews_processed_data_part_29.csv (307 baris)\n",
      "✓ Dibaca: reviews_2/reviews_processed_data_part_8.csv (388 baris)\n",
      "✓ Dibaca: reviews_2/reviews_processed_data_part_11.csv (486 baris)\n",
      "✓ Dibaca: reviews_2/reviews_processed_data_part_10.csv (31 baris)\n",
      "✓ Dibaca: reviews_2/reviews_processed_data_part_9.csv (394 baris)\n",
      "✓ Dibaca: reviews_2/reviews_processed_data_part_12.csv (64 baris)\n",
      "✓ Dibaca: reviews_2/reviews_processed_data_part_13.csv (52 baris)\n",
      "✓ Dibaca: reviews_2/reviews_processed_data_part_7.csv (45 baris)\n",
      "✓ Dibaca: reviews_2/reviews_processed_data_part_22.csv (39 baris)\n",
      "✓ Dibaca: reviews_2/reviews_processed_data_part_6.csv (75 baris)\n",
      "✓ Dibaca: reviews_2/reviews_processed_data_part_4.csv (25 baris)\n",
      "✓ Dibaca: reviews_2/reviews_processed_data_part_20.csv (28 baris)\n",
      "✓ Dibaca: reviews_2/reviews_processed_data_part_5.csv (104 baris)\n",
      "✓ Dibaca: reviews_2/reviews_processed_data_part_1.csv (16 baris)\n",
      "✓ Dibaca: reviews_2/reviews_processed_data_part_30.csv (53 baris)\n",
      "✓ Dibaca: reviews_2/reviews_processed_data_part_24.csv (39 baris)\n",
      "✓ Dibaca: reviews_2/reviews_processed_data_part_18.csv (420 baris)\n",
      "✓ Dibaca: reviews_2/reviews_processed_data_part_19.csv (75 baris)\n",
      "✓ Dibaca: reviews_2/reviews_processed_data_part_25.csv (5 baris)\n",
      "✓ Dibaca: reviews_2/reviews_processed_data_part_2.csv (58 baris)\n",
      "✓ Dibaca: reviews_2/reviews_processed_data_part_27.csv (47 baris)\n",
      "✓ Dibaca: reviews_2/reviews_processed_data_part_26.csv (267 baris)\n",
      "✓ Dibaca: reviews_2/reviews_processed_data_part_3.csv (21 baris)\n",
      "\n",
      "✅ CSV berhasil disimpan ke: sampled_game_reviews.csv (369 baris)\n"
     ]
    },
    {
     "name": "stderr",
     "output_type": "stream",
     "text": [
      "/var/folders/kh/7d1scz1n2f7gnm2sy2q4rgs00000gn/T/ipykernel_17572/1865682039.py:32: DeprecationWarning: DataFrameGroupBy.apply operated on the grouping columns. This behavior is deprecated, and in a future version of pandas the grouping columns will be excluded from the operation. Either pass `include_groups=False` to exclude the groupings or explicitly select the grouping columns after groupby to silence this warning.\n",
      "  .apply(lambda x: x.sample(n=min(10, len(x)), random_state=42))\n"
     ]
    }
   ],
   "source": [
    "import os\n",
    "import pandas as pd\n",
    "import random\n",
    "\n",
    "folders = ['reviews_1', 'reviews_2']\n",
    "all_reviews = []\n",
    "\n",
    "# Baca semua file CSV, pastikan kolom Genre disertakan\n",
    "for folder in folders:\n",
    "    for file in os.listdir(folder):\n",
    "        if file.endswith('.csv'):\n",
    "            filepath = os.path.join(folder, file)\n",
    "            try:\n",
    "                df = pd.read_csv(filepath, usecols=['Game', 'Genre', 'Review'])  # ← Tambah Genre di sini\n",
    "                all_reviews.append(df)\n",
    "                print(f\"✓ Dibaca: {filepath} ({len(df)} baris)\")\n",
    "            except Exception as e:\n",
    "                print(f\"⚠️ Gagal membaca {filepath}: {e}\")\n",
    "\n",
    "# Gabungkan semua review\n",
    "combined_df = pd.concat(all_reviews, ignore_index=True)\n",
    "combined_df.dropna(subset=['Game', 'Review', 'Genre'], inplace=True)  # ← Pastikan Genre tidak kosong\n",
    "\n",
    "# Filter hanya game yang memiliki >= 2 review\n",
    "game_counts = combined_df['Game'].value_counts()\n",
    "eligible_games = game_counts[game_counts >= 2].index\n",
    "filtered_df = combined_df[combined_df['Game'].isin(eligible_games)]\n",
    "\n",
    "# Group dan ambil maksimal 10 review per game\n",
    "sampled_df = (\n",
    "    filtered_df.groupby(['Game', 'Genre'])  # ← Group by Game dan Genre agar Genre ikut terbawa\n",
    "    .apply(lambda x: x.sample(n=min(10, len(x)), random_state=42))\n",
    "    .reset_index(drop=True)\n",
    ")\n",
    "\n",
    "# Pilih 100 game secara acak\n",
    "selected_games = random.sample(sampled_df['Game'].unique().tolist(), min(100, sampled_df['Game'].nunique()))\n",
    "final_df = sampled_df[sampled_df['Game'].isin(selected_games)]\n",
    "\n",
    "# Simpan ke CSV\n",
    "output_path = 'sampled_game_reviews.csv'\n",
    "final_df.to_csv(output_path, index=False)\n",
    "\n",
    "print(f\"\\n✅ CSV berhasil disimpan ke: {output_path} ({len(final_df)} baris)\")\n"
   ]
  },
  {
   "cell_type": "code",
   "execution_count": 3,
   "id": "3131ecaf",
   "metadata": {},
   "outputs": [
    {
     "name": "stdout",
     "output_type": "stream",
     "text": [
      "✓ Dibaca: Dataset/processed_data_part_10.csv (60 baris cocok)\n",
      "✓ Dibaca: Dataset/processed_data_part_11.csv (83 baris cocok)\n",
      "✓ Dibaca: Dataset/processed_data_part_13.csv (39 baris cocok)\n",
      "✓ Dibaca: Dataset/processed_data_part_12.csv (48 baris cocok)\n",
      "✓ Dibaca: Dataset/processed_data_part_16.csv (52 baris cocok)\n",
      "✓ Dibaca: Dataset/processed_data_part_17.csv (85 baris cocok)\n",
      "✓ Dibaca: Dataset/processed_data_part_15.csv (74 baris cocok)\n",
      "✓ Dibaca: Dataset/processed_data_part_14.csv (100 baris cocok)\n",
      "✓ Dibaca: Dataset/processed_data_part_9.csv (84 baris cocok)\n",
      "✓ Dibaca: Dataset/processed_data_part_8.csv (107 baris cocok)\n",
      "✓ Dibaca: Dataset/processed_data_part_1.csv (68 baris cocok)\n",
      "✓ Dibaca: Dataset/processed_data_part_3.csv (127 baris cocok)\n",
      "✓ Dibaca: Dataset/processed_data_part_2.csv (108 baris cocok)\n",
      "✓ Dibaca: Dataset/processed_data_part_6.csv (91 baris cocok)\n",
      "✓ Dibaca: Dataset/processed_data_part_7.csv (51 baris cocok)\n",
      "✓ Dibaca: Dataset/processed_data_part_5.csv (71 baris cocok)\n",
      "✓ Dibaca: Dataset/processed_data_part_4.csv (52 baris cocok)\n",
      "✓ Dibaca: Dataset/processed_data_part_18.csv (100 baris cocok)\n",
      "✓ Dibaca: Dataset_2/processed_data_part_10.csv (9 baris cocok)\n",
      "✓ Dibaca: Dataset_2/processed_data_part_11.csv (46 baris cocok)\n",
      "✓ Dibaca: Dataset_2/processed_data_part_13.csv (23 baris cocok)\n",
      "✓ Dibaca: Dataset_2/processed_data_part_12.csv (13 baris cocok)\n",
      "✓ Dibaca: Dataset_2/processed_data_part_16.csv (21 baris cocok)\n",
      "→ Tidak ada game cocok di Dataset_2/processed_data_part_17.csv\n",
      "✓ Dibaca: Dataset_2/processed_data_part_29.csv (34 baris cocok)\n",
      "✓ Dibaca: Dataset_2/processed_data_part_15.csv (41 baris cocok)\n",
      "✓ Dibaca: Dataset_2/processed_data_part_14.csv (1 baris cocok)\n",
      "✓ Dibaca: Dataset_2/processed_data_part_28.csv (35 baris cocok)\n",
      "✓ Dibaca: Dataset_2/processed_data_part_9.csv (67 baris cocok)\n",
      "✓ Dibaca: Dataset_2/processed_data_part_8.csv (18 baris cocok)\n",
      "✓ Dibaca: Dataset_2/processed_data_part_1.csv (7 baris cocok)\n",
      "✓ Dibaca: Dataset_2/processed_data_part_3.csv (7 baris cocok)\n",
      "✓ Dibaca: Dataset_2/processed_data_part_2.csv (23 baris cocok)\n",
      "✓ Dibaca: Dataset_2/processed_data_part_6.csv (19 baris cocok)\n",
      "✓ Dibaca: Dataset_2/processed_data_part_7.csv (22 baris cocok)\n",
      "✓ Dibaca: Dataset_2/processed_data_part_5.csv (35 baris cocok)\n",
      "✓ Dibaca: Dataset_2/processed_data_part_4.csv (3 baris cocok)\n",
      "✓ Dibaca: Dataset_2/processed_data_part_25.csv (4 baris cocok)\n",
      "✓ Dibaca: Dataset_2/processed_data_part_19.csv (19 baris cocok)\n",
      "✓ Dibaca: Dataset_2/processed_data_part_18.csv (38 baris cocok)\n",
      "✓ Dibaca: Dataset_2/processed_data_part_24.csv (8 baris cocok)\n",
      "✓ Dibaca: Dataset_2/processed_data_part_30.csv (34 baris cocok)\n",
      "✓ Dibaca: Dataset_2/processed_data_part_26.csv (30 baris cocok)\n",
      "✓ Dibaca: Dataset_2/processed_data_part_27.csv (10 baris cocok)\n",
      "→ Tidak ada game cocok di Dataset_2/processed_data_part_23.csv\n",
      "✓ Dibaca: Dataset_2/processed_data_part_22.csv (46 baris cocok)\n",
      "✓ Dibaca: Dataset_2/processed_data_part_20.csv (13 baris cocok)\n",
      "→ Tidak ada game cocok di Dataset_2/processed_data_part_21.csv\n",
      "\n",
      "✅ Data SteamID tersampling disimpan ke: sampled_steamids_per_game.csv (1263 baris)\n"
     ]
    },
    {
     "name": "stderr",
     "output_type": "stream",
     "text": [
      "/var/folders/kh/7d1scz1n2f7gnm2sy2q4rgs00000gn/T/ipykernel_81582/229466423.py:42: DeprecationWarning: DataFrameGroupBy.apply operated on the grouping columns. This behavior is deprecated, and in a future version of pandas the grouping columns will be excluded from the operation. Either pass `include_groups=False` to exclude the groupings or explicitly select the grouping columns after groupby to silence this warning.\n",
      "  .apply(lambda x: x.sample(n=min(20, len(x)), random_state=42))\n"
     ]
    }
   ],
   "source": [
    "import os\n",
    "import pandas as pd\n",
    "import random\n",
    "\n",
    "# 1. Baca daftar game dari file review\n",
    "review_file = 'sampled_game_reviews.csv'\n",
    "game_ref_df = pd.read_csv(review_file)\n",
    "target_games = set(game_ref_df['Game'].str.strip().unique())\n",
    "\n",
    "# 2. Siapkan folder data SteamID\n",
    "folders = ['Dataset', 'Dataset_2']\n",
    "all_samples = []\n",
    "\n",
    "# 3. Proses file dari kedua folder\n",
    "for folder in folders:\n",
    "    for file in os.listdir(folder):\n",
    "        if file.endswith('.csv'):\n",
    "            filepath = os.path.join(folder, file)\n",
    "            try:\n",
    "                df = pd.read_csv(filepath)\n",
    "                df.columns = df.columns.str.strip()  # Hilangkan spasi di nama kolom\n",
    "\n",
    "                # Ubah nama kolom agar sesuai\n",
    "                if 'Game Name' in df.columns and 'Steam ID' in df.columns:\n",
    "                    df['Game Name'] = df['Game Name'].astype(str).str.strip()\n",
    "                    filtered_df = df[df['Game Name'].isin(target_games)]\n",
    "                    if not filtered_df.empty:\n",
    "                        all_samples.append(filtered_df)\n",
    "                        print(f\"✓ Dibaca: {filepath} ({len(filtered_df)} baris cocok)\")\n",
    "                    else:\n",
    "                        print(f\"→ Tidak ada game cocok di {filepath}\")\n",
    "                else:\n",
    "                    print(f\"⚠️ Lewatkan {filepath} — kolom 'Steam ID' atau 'Game Name' tidak ditemukan\")\n",
    "            except Exception as e:\n",
    "                print(f\"⚠️ Gagal membaca {filepath}: {e}\")\n",
    "\n",
    "# 4. Gabungkan dan sampling maksimal 20 SteamID per game\n",
    "if all_samples:\n",
    "    combined_df = pd.concat(all_samples, ignore_index=True)\n",
    "    sampled_df = (\n",
    "        combined_df.groupby('Game Name')\n",
    "        .apply(lambda x: x.sample(n=min(20, len(x)), random_state=42))\n",
    "        .reset_index(drop=True)\n",
    "    )\n",
    "\n",
    "    # 5. Simpan hasil ke CSV\n",
    "    output_file = 'sampled_steamids_per_game.csv'\n",
    "    sampled_df.to_csv(output_file, index=False)\n",
    "    print(f\"\\n✅ Data SteamID tersampling disimpan ke: {output_file} ({len(sampled_df)} baris)\")\n",
    "else:\n",
    "    print(\"❌ Tidak ada data cocok yang berhasil dibaca.\")\n"
   ]
  },
  {
   "cell_type": "code",
   "execution_count": 4,
   "id": "9154c093",
   "metadata": {},
   "outputs": [
    {
     "name": "stdout",
     "output_type": "stream",
     "text": [
      "✅ Kolom 'Unnamed' berhasil dihapus dan file disimpan sebagai 'sampled_steamids_per_game_cleaned.csv'\n"
     ]
    }
   ],
   "source": [
    "import pandas as pd\n",
    "\n",
    "# Baca file CSV\n",
    "df = pd.read_csv('sampled_steamids_per_game.csv')\n",
    "\n",
    "# Hapus kolom yang nama kolomnya dimulai dengan 'Unnamed'\n",
    "df_cleaned = df.loc[:, ~df.columns.str.startswith('Unnamed')]\n",
    "\n",
    "# Simpan kembali ke file CSV\n",
    "df_cleaned.to_csv('sampled_steamids_per_game_cleaned.csv', index=False)\n",
    "\n",
    "print(\"✅ Kolom 'Unnamed' berhasil dihapus dan file disimpan sebagai 'sampled_steamids_per_game_cleaned.csv'\")\n"
   ]
  },
  {
   "cell_type": "code",
   "execution_count": 5,
   "id": "cfeb2a2c",
   "metadata": {},
   "outputs": [
    {
     "name": "stdout",
     "output_type": "stream",
     "text": [
      "✅ Sampling ulang selesai. Total baris: 276\n"
     ]
    },
    {
     "name": "stderr",
     "output_type": "stream",
     "text": [
      "/var/folders/kh/7d1scz1n2f7gnm2sy2q4rgs00000gn/T/ipykernel_81582/1117615731.py:12: DeprecationWarning: DataFrameGroupBy.apply operated on the grouping columns. This behavior is deprecated, and in a future version of pandas the grouping columns will be excluded from the operation. Either pass `include_groups=False` to exclude the groupings or explicitly select the grouping columns after groupby to silence this warning.\n",
      "  .apply(lambda x: x.sample(n=min(3, len(x)), random_state=42))\n"
     ]
    }
   ],
   "source": [
    "import pandas as pd\n",
    "\n",
    "# 1. Baca file CSV\n",
    "df = pd.read_csv('sampled_segmentation.csv')\n",
    "\n",
    "# 2. Hapus duplikat jika ada (misalnya 1 SteamID main 2x di game yang sama)\n",
    "df = df.drop_duplicates(subset=['Steam ID', 'Game Name'])\n",
    "\n",
    "# 3. Group berdasarkan 'Game Name' dan ambil max 3 Steam ID per game\n",
    "sampled_df = (\n",
    "    df.groupby('Game Name')\n",
    "    .apply(lambda x: x.sample(n=min(3, len(x)), random_state=42))\n",
    "    .reset_index(drop=True)\n",
    ")\n",
    "\n",
    "# 4. Simpan hasil sampling ulang ke file baru\n",
    "sampled_df.to_csv('resampled_by_steamid.csv', index=False)\n",
    "\n",
    "print(f\"✅ Sampling ulang selesai. Total baris: {len(sampled_df)}\")\n"
   ]
  },
  {
   "cell_type": "code",
   "execution_count": 6,
   "id": "f3898ac5",
   "metadata": {},
   "outputs": [
    {
     "name": "stdout",
     "output_type": "stream",
     "text": [
      "✅ Berhasil mengambil 50 Steam ID unik. Total baris: 132\n"
     ]
    }
   ],
   "source": [
    "import pandas as pd\n",
    "\n",
    "# 1. Baca file hasil sampling sebelumnya\n",
    "df = pd.read_csv('resampled_by_steamid.csv')\n",
    "\n",
    "# 2. Ambil 50 Steam ID unik secara acak\n",
    "unique_steam_ids = df['Steam ID'].drop_duplicates()\n",
    "sampled_steam_ids = unique_steam_ids.sample(n=min(50, len(unique_steam_ids)), random_state=42)\n",
    "\n",
    "# 3. Filter dataframe hanya dengan Steam ID yang terpilih\n",
    "final_df = df[df['Steam ID'].isin(sampled_steam_ids)]\n",
    "\n",
    "# 4. Simpan ke file CSV baru\n",
    "final_df.to_csv('steamid_50.csv', index=False)\n",
    "\n",
    "print(f\"✅ Berhasil mengambil 50 Steam ID unik. Total baris: {len(final_df)}\")\n"
   ]
  },
  {
   "cell_type": "code",
   "execution_count": 10,
   "id": "941971e6",
   "metadata": {},
   "outputs": [
    {
     "name": "stdout",
     "output_type": "stream",
     "text": [
      "✓ Ditemukan data relevan di: Dataset/processed_data_part_10.csv (1232 baris)\n",
      "✓ Ditemukan data relevan di: Dataset/processed_data_part_11.csv (947 baris)\n",
      "✓ Ditemukan data relevan di: Dataset/processed_data_part_13.csv (19 baris)\n",
      "✓ Ditemukan data relevan di: Dataset/processed_data_part_16.csv (846 baris)\n",
      "✓ Ditemukan data relevan di: Dataset/processed_data_part_17.csv (1066 baris)\n",
      "✓ Ditemukan data relevan di: Dataset/processed_data_part_15.csv (708 baris)\n",
      "✓ Ditemukan data relevan di: Dataset/processed_data_part_14.csv (1179 baris)\n",
      "✓ Ditemukan data relevan di: Dataset/processed_data_part_9.csv (939 baris)\n",
      "✓ Ditemukan data relevan di: Dataset/processed_data_part_8.csv (1472 baris)\n",
      "✓ Ditemukan data relevan di: Dataset/processed_data_part_1.csv (777 baris)\n",
      "✓ Ditemukan data relevan di: Dataset/processed_data_part_3.csv (490 baris)\n",
      "✓ Ditemukan data relevan di: Dataset/processed_data_part_2.csv (1709 baris)\n",
      "✓ Ditemukan data relevan di: Dataset/processed_data_part_6.csv (313 baris)\n",
      "✓ Ditemukan data relevan di: Dataset/processed_data_part_7.csv (437 baris)\n",
      "✓ Ditemukan data relevan di: Dataset/processed_data_part_5.csv (1817 baris)\n",
      "✓ Ditemukan data relevan di: Dataset/processed_data_part_4.csv (164 baris)\n",
      "✓ Ditemukan data relevan di: Dataset/processed_data_part_18.csv (809 baris)\n",
      "✓ Ditemukan data relevan di: Dataset_2/processed_data_part_10.csv (152 baris)\n",
      "✓ Ditemukan data relevan di: Dataset_2/processed_data_part_11.csv (1983 baris)\n",
      "✓ Ditemukan data relevan di: Dataset_2/processed_data_part_13.csv (613 baris)\n",
      "✓ Ditemukan data relevan di: Dataset_2/processed_data_part_12.csv (429 baris)\n",
      "✓ Ditemukan data relevan di: Dataset_2/processed_data_part_29.csv (1226 baris)\n",
      "✓ Ditemukan data relevan di: Dataset_2/processed_data_part_15.csv (653 baris)\n",
      "✓ Ditemukan data relevan di: Dataset_2/processed_data_part_28.csv (1114 baris)\n",
      "✓ Ditemukan data relevan di: Dataset_2/processed_data_part_2.csv (536 baris)\n",
      "✓ Ditemukan data relevan di: Dataset_2/processed_data_part_6.csv (447 baris)\n",
      "✓ Ditemukan data relevan di: Dataset_2/processed_data_part_5.csv (2225 baris)\n",
      "✓ Ditemukan data relevan di: Dataset_2/processed_data_part_4.csv (243 baris)\n",
      "✓ Ditemukan data relevan di: Dataset_2/processed_data_part_25.csv (206 baris)\n",
      "✓ Ditemukan data relevan di: Dataset_2/processed_data_part_19.csv (1301 baris)\n",
      "✓ Ditemukan data relevan di: Dataset_2/processed_data_part_18.csv (1025 baris)\n",
      "✓ Ditemukan data relevan di: Dataset_2/processed_data_part_22.csv (773 baris)\n",
      "\n",
      "✅ Selesai! Data game berhasil disampling dan disimpan ke: sampled_segmentation.csv\n"
     ]
    },
    {
     "name": "stderr",
     "output_type": "stream",
     "text": [
      "/var/folders/kh/7d1scz1n2f7gnm2sy2q4rgs00000gn/T/ipykernel_81582/3306691639.py:35: DeprecationWarning: DataFrameGroupBy.apply operated on the grouping columns. This behavior is deprecated, and in a future version of pandas the grouping columns will be excluded from the operation. Either pass `include_groups=False` to exclude the groupings or explicitly select the grouping columns after groupby to silence this warning.\n",
      "  .apply(lambda x: x.sample(n=min(15, len(x)), random_state=42))\n"
     ]
    }
   ],
   "source": [
    "import os\n",
    "import pandas as pd\n",
    "\n",
    "# 1. Baca daftar Steam ID dari hasil sampling\n",
    "steam_df = pd.read_csv('steamid_50.csv')\n",
    "target_steamids = steam_df['Steam ID'].unique().tolist()\n",
    "\n",
    "# 2. Folder sumber data\n",
    "folders = ['Dataset', 'Dataset_2']\n",
    "all_records = []\n",
    "\n",
    "# 3. Baca file dari dua folder dan kumpulkan data yang relevan\n",
    "for folder in folders:\n",
    "    for filename in os.listdir(folder):\n",
    "        if filename.endswith('.csv'):\n",
    "            filepath = os.path.join(folder, filename)\n",
    "            try:\n",
    "                df = pd.read_csv(filepath)\n",
    "                if 'Steam ID' not in df.columns:\n",
    "                    print(f\"⚠️ Kolom 'Steam ID' tidak ditemukan di: {filepath}\")\n",
    "                    continue\n",
    "                df = df[df['Steam ID'].isin(target_steamids)]\n",
    "                if not df.empty:\n",
    "                    all_records.append(df)\n",
    "                    print(f\"✓ Ditemukan data relevan di: {filepath} ({len(df)} baris)\")\n",
    "            except Exception as e:\n",
    "                print(f\"⚠️ Gagal membaca {filepath}: {e}\")\n",
    "\n",
    "# 4. Gabungkan semua data\n",
    "combined_df = pd.concat(all_records, ignore_index=True)\n",
    "\n",
    "# 5. Sampling: maksimal 15 game per Steam ID\n",
    "sampled_games = (\n",
    "    combined_df.groupby('Steam ID')\n",
    "    .apply(lambda x: x.sample(n=min(15, len(x)), random_state=42))\n",
    "    .reset_index(drop=True)\n",
    ")\n",
    "\n",
    "# 6. Simpan hasil ke CSV\n",
    "output_file = 'sampled_segmentation.csv'\n",
    "sampled_games.to_csv(output_file, index=False)\n",
    "\n",
    "print(f\"\\n✅ Selesai! Data game berhasil disampling dan disimpan ke: {output_file}\")\n"
   ]
  },
  {
   "cell_type": "code",
   "execution_count": 11,
   "id": "ff3a9eea",
   "metadata": {},
   "outputs": [
    {
     "name": "stdout",
     "output_type": "stream",
     "text": [
      "Jumlah Steam ID unik dalam sampled_segmentation.csv: 50\n"
     ]
    }
   ],
   "source": [
    "import pandas as pd\n",
    "\n",
    "# Baca file CSV\n",
    "df = pd.read_csv('sampled_segmentation.csv')\n",
    "\n",
    "# Hitung jumlah Steam ID unik\n",
    "unique_steamids = df['Steam ID'].nunique()\n",
    "\n",
    "print(f\"Jumlah Steam ID unik dalam sampled_segmentation.csv: {unique_steamids}\")\n"
   ]
  },
  {
   "cell_type": "code",
   "execution_count": 12,
   "id": "1a1cbe68",
   "metadata": {},
   "outputs": [
    {
     "name": "stdout",
     "output_type": "stream",
     "text": [
      "✅ Kolom-kolom 'Unnamed:' berhasil dihapus dan disimpan ke 'sampled_segmentation_cleaned.csv'\n"
     ]
    }
   ],
   "source": [
    "import pandas as pd\n",
    "\n",
    "# Baca file CSV\n",
    "df = pd.read_csv('sampled_segmentation.csv')\n",
    "\n",
    "# Hapus semua kolom yang namanya diawali dengan 'Unnamed:'\n",
    "df_cleaned = df.loc[:, ~df.columns.str.startswith('Unnamed:')]\n",
    "\n",
    "# Simpan kembali ke CSV\n",
    "df_cleaned.to_csv('sampled_segmentation_cleaned.csv', index=False)\n",
    "\n",
    "print(\"✅ Kolom-kolom 'Unnamed:' berhasil dihapus dan disimpan ke 'sampled_segmentation_cleaned.csv'\")\n"
   ]
  }
 ],
 "metadata": {
  "kernelspec": {
   "display_name": "Python 3",
   "language": "python",
   "name": "python3"
  },
  "language_info": {
   "codemirror_mode": {
    "name": "ipython",
    "version": 3
   },
   "file_extension": ".py",
   "mimetype": "text/x-python",
   "name": "python",
   "nbconvert_exporter": "python",
   "pygments_lexer": "ipython3",
   "version": "3.10.0"
  }
 },
 "nbformat": 4,
 "nbformat_minor": 5
}
