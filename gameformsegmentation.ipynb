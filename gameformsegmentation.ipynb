{
 "cells": [
  {
   "cell_type": "code",
   "execution_count": 1,
   "id": "9ad6f819",
   "metadata": {},
   "outputs": [
    {
     "name": "stdout",
     "output_type": "stream",
     "text": [
      "Daftar game berhasil disimpan ke 'game_list.csv'\n"
     ]
    }
   ],
   "source": [
    "import pandas as pd\n",
    "\n",
    "# Baca file CSV\n",
    "df = pd.read_csv(\"sampled_segmentation.csv\")\n",
    "\n",
    "# Ambil kolom 'Game Name' dan hapus duplikat serta nilai kosong\n",
    "game_list = df['Game Name'].dropna().unique()\n",
    "\n",
    "# Buat DataFrame baru dari list game\n",
    "games_df = pd.DataFrame(game_list, columns=[\"Game Name\"])\n",
    "\n",
    "# Simpan ke file CSV baru\n",
    "games_df.to_csv(\"game_list.csv\", index=False)\n",
    "\n",
    "print(\"Daftar game berhasil disimpan ke 'game_list.csv'\")\n"
   ]
  },
  {
   "cell_type": "code",
   "execution_count": 4,
   "id": "4e824f5e",
   "metadata": {},
   "outputs": [
    {
     "name": "stdout",
     "output_type": "stream",
     "text": [
      "Review berhasil disimpan ke 'sampled_segmentation_reviews.csv'\n"
     ]
    }
   ],
   "source": [
    "import pandas as pd\n",
    "import glob\n",
    "\n",
    "# 1. Baca daftar game\n",
    "game_list = pd.read_csv(\"game_list.csv\")  # asumsi kolom: 'Game Name', 'Genres'\n",
    "\n",
    "# 2. Gabungkan semua file review\n",
    "review_files = glob.glob(\"reviews_1/reviews_processed_data_*.csv\") + \\\n",
    "               glob.glob(\"reviews_2/reviews_processed_data_*.csv\")\n",
    "all_reviews = pd.concat((pd.read_csv(file) for file in review_files), ignore_index=True)\n",
    "\n",
    "# 3. Normalisasi nama game agar cocok\n",
    "all_reviews['Game'] = all_reviews['Game'].str.strip()\n",
    "game_list['Game Name'] = game_list['Game Name'].str.strip()\n",
    "\n",
    "# 4. Filter review hanya untuk game dalam daftar\n",
    "filtered_reviews = all_reviews[all_reviews['Game'].isin(game_list['Game Name'])]\n",
    "\n",
    "# 5. Gabungkan genre dari game_list ke filtered_reviews\n",
    "merged = filtered_reviews.merge(game_list, how='left', left_on='Game', right_on='Game Name')\n",
    "\n",
    "# 6. Ambil maksimal 10 review per game\n",
    "sampled = (\n",
    "    merged.groupby('Game', sort=False)\n",
    "    .head(10)\n",
    "    .reset_index(drop=True)\n",
    ")\n",
    "\n",
    "# 7. Pilih kolom akhir dan ubah nama\n",
    "final_df = sampled[['Game', 'Genre', 'Review']].rename(columns={\n",
    "    'Game': 'game',\n",
    "    'Genre': 'genre',\n",
    "    'Review': 'review'\n",
    "})\n",
    "\n",
    "# 8. Jaga urutan game sesuai dengan game_list.csv\n",
    "final_df['game'] = pd.Categorical(final_df['game'], categories=game_list['Game Name'], ordered=True)\n",
    "final_df = final_df.sort_values('game').reset_index(drop=True)\n",
    "\n",
    "# 9. Simpan ke file CSV\n",
    "final_df.to_csv(\"sampled_segmentation_reviews.csv\", index=False)\n",
    "\n",
    "print(\"Review berhasil disimpan ke 'sampled_segmentation_reviews.csv'\")\n"
   ]
  }
 ],
 "metadata": {
  "kernelspec": {
   "display_name": "Python 3",
   "language": "python",
   "name": "python3"
  },
  "language_info": {
   "codemirror_mode": {
    "name": "ipython",
    "version": 3
   },
   "file_extension": ".py",
   "mimetype": "text/x-python",
   "name": "python",
   "nbconvert_exporter": "python",
   "pygments_lexer": "ipython3",
   "version": "3.10.0"
  }
 },
 "nbformat": 4,
 "nbformat_minor": 5
}
