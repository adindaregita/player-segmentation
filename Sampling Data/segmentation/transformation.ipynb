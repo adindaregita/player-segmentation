{
 "cells": [
  {
   "cell_type": "code",
   "execution_count": 1,
   "id": "e6f560c5",
   "metadata": {},
   "outputs": [
    {
     "name": "stdout",
     "output_type": "stream",
     "text": [
      "Jumlah data setelah preprocessing: 431 baris\n"
     ]
    },
    {
     "data": {
      "text/html": [
       "<div>\n",
       "<style scoped>\n",
       "    .dataframe tbody tr th:only-of-type {\n",
       "        vertical-align: middle;\n",
       "    }\n",
       "\n",
       "    .dataframe tbody tr th {\n",
       "        vertical-align: top;\n",
       "    }\n",
       "\n",
       "    .dataframe thead th {\n",
       "        text-align: right;\n",
       "    }\n",
       "</style>\n",
       "<table border=\"1\" class=\"dataframe\">\n",
       "  <thead>\n",
       "    <tr style=\"text-align: right;\">\n",
       "      <th></th>\n",
       "      <th>Steam ID</th>\n",
       "      <th>App ID</th>\n",
       "      <th>Game Name</th>\n",
       "      <th>Playtime (hours)</th>\n",
       "      <th>Genres</th>\n",
       "      <th>Achievements</th>\n",
       "      <th>Dominant Topic</th>\n",
       "    </tr>\n",
       "  </thead>\n",
       "  <tbody>\n",
       "    <tr>\n",
       "      <th>0</th>\n",
       "      <td>76561197960269409</td>\n",
       "      <td>110800</td>\n",
       "      <td>l.a. noire</td>\n",
       "      <td>21.466667</td>\n",
       "      <td>Adventure, Strategy</td>\n",
       "      <td>25</td>\n",
       "      <td>Story-driven mysteries or cinematic adventure ...</td>\n",
       "    </tr>\n",
       "    <tr>\n",
       "      <th>1</th>\n",
       "      <td>76561197960269409</td>\n",
       "      <td>335300</td>\n",
       "      <td>dark souls™ ii: scholar of the first sin</td>\n",
       "      <td>47.016667</td>\n",
       "      <td>Action, RPG</td>\n",
       "      <td>19</td>\n",
       "      <td>Story-driven mysteries or cinematic adventure ...</td>\n",
       "    </tr>\n",
       "    <tr>\n",
       "      <th>2</th>\n",
       "      <td>76561197960269409</td>\n",
       "      <td>96000</td>\n",
       "      <td>the tiny bang story</td>\n",
       "      <td>13.850000</td>\n",
       "      <td>Adventure, Casual, Indie</td>\n",
       "      <td>0</td>\n",
       "      <td>Story-driven mysteries or cinematic adventure ...</td>\n",
       "    </tr>\n",
       "    <tr>\n",
       "      <th>3</th>\n",
       "      <td>76561197960269409</td>\n",
       "      <td>307670</td>\n",
       "      <td>hard west</td>\n",
       "      <td>14.350000</td>\n",
       "      <td>Adventure, Indie, RPG, Strategy</td>\n",
       "      <td>13</td>\n",
       "      <td>Story-driven mysteries or cinematic adventure ...</td>\n",
       "    </tr>\n",
       "    <tr>\n",
       "      <th>4</th>\n",
       "      <td>76561197960269409</td>\n",
       "      <td>377160</td>\n",
       "      <td>fallout 4</td>\n",
       "      <td>109.350000</td>\n",
       "      <td>RPG</td>\n",
       "      <td>42</td>\n",
       "      <td>Story-driven mysteries or cinematic adventure ...</td>\n",
       "    </tr>\n",
       "  </tbody>\n",
       "</table>\n",
       "</div>"
      ],
      "text/plain": [
       "            Steam ID  App ID                                 Game Name  \\\n",
       "0  76561197960269409  110800                                l.a. noire   \n",
       "1  76561197960269409  335300  dark souls™ ii: scholar of the first sin   \n",
       "2  76561197960269409   96000                       the tiny bang story   \n",
       "3  76561197960269409  307670                                 hard west   \n",
       "4  76561197960269409  377160                                 fallout 4   \n",
       "\n",
       "   Playtime (hours)                           Genres  Achievements  \\\n",
       "0         21.466667              Adventure, Strategy            25   \n",
       "1         47.016667                      Action, RPG            19   \n",
       "2         13.850000         Adventure, Casual, Indie             0   \n",
       "3         14.350000  Adventure, Indie, RPG, Strategy            13   \n",
       "4        109.350000                              RPG            42   \n",
       "\n",
       "                                      Dominant Topic  \n",
       "0  Story-driven mysteries or cinematic adventure ...  \n",
       "1  Story-driven mysteries or cinematic adventure ...  \n",
       "2  Story-driven mysteries or cinematic adventure ...  \n",
       "3  Story-driven mysteries or cinematic adventure ...  \n",
       "4  Story-driven mysteries or cinematic adventure ...  "
      ]
     },
     "execution_count": 1,
     "metadata": {},
     "output_type": "execute_result"
    }
   ],
   "source": [
    "import pandas as pd\n",
    "from sklearn.preprocessing import MinMaxScaler\n",
    "\n",
    "# Load data\n",
    "df = pd.read_csv(\"segmentation_preprocessed.csv\")\n",
    "\n",
    "# Cek jumlah data\n",
    "print(f\"Jumlah data setelah preprocessing: {len(df)} baris\")\n",
    "df.head()\n"
   ]
  },
  {
   "cell_type": "code",
   "execution_count": 2,
   "id": "332bcf3f",
   "metadata": {},
   "outputs": [
    {
     "name": "stdout",
     "output_type": "stream",
     "text": [
      "Contoh hasil jumlah game per user:\n",
      "            Steam ID  Game_Count\n",
      "0  76561197960269409          10\n",
      "1  76561197962437769           9\n",
      "2  76561197977935089          10\n",
      "3  76561197983588742          13\n",
      "4  76561197985705149           8\n"
     ]
    }
   ],
   "source": [
    "# Hitung jumlah game unik per Steam ID\n",
    "game_count = df.groupby(\"Steam ID\")[\"App ID\"].nunique().reset_index()\n",
    "game_count.columns = [\"Steam ID\", \"Game_Count\"]\n",
    "\n",
    "print(f\"Contoh hasil jumlah game per user:\\n{game_count.head()}\")\n"
   ]
  },
  {
   "cell_type": "code",
   "execution_count": 3,
   "id": "dc7705ce",
   "metadata": {},
   "outputs": [
    {
     "name": "stdout",
     "output_type": "stream",
     "text": [
      "Contoh hasil total dan normalized playtime:\n",
      "            Steam ID  Total_Playtime  Normalized_Playtime\n",
      "0  76561197960269409      259.483333             0.481772\n",
      "1  76561197962437769       17.133333             0.015953\n",
      "2  76561197977935089      268.566667             0.499231\n",
      "3  76561197983588742      204.033333             0.375192\n",
      "4  76561197985705149       31.316667             0.043215\n"
     ]
    }
   ],
   "source": [
    "# Hitung total playtime per Steam ID\n",
    "playtime = df.groupby(\"Steam ID\")[\"Playtime (hours)\"].sum().reset_index()\n",
    "playtime.columns = [\"Steam ID\", \"Total_Playtime\"]\n",
    "\n",
    "# Normalisasi total playtime\n",
    "scaler = MinMaxScaler()\n",
    "playtime[\"Normalized_Playtime\"] = scaler.fit_transform(playtime[[\"Total_Playtime\"]])\n",
    "\n",
    "print(f\"Contoh hasil total dan normalized playtime:\\n{playtime.head()}\")\n"
   ]
  },
  {
   "cell_type": "code",
   "execution_count": 4,
   "id": "475b5ace",
   "metadata": {},
   "outputs": [
    {
     "name": "stdout",
     "output_type": "stream",
     "text": [
      "Contoh hasil total achievement per user:\n",
      "            Steam ID  Total_Achievements\n",
      "0  76561197960269409                 135\n",
      "1  76561197962437769                  34\n",
      "2  76561197977935089                  46\n",
      "3  76561197983588742                 164\n",
      "4  76561197985705149                  40\n"
     ]
    }
   ],
   "source": [
    "# Hitung total achievement per Steam ID\n",
    "achievements = df.groupby(\"Steam ID\")[\"Achievements\"].sum().reset_index()\n",
    "achievements.columns = [\"Steam ID\", \"Total_Achievements\"]\n",
    "\n",
    "print(f\"Contoh hasil total achievement per user:\\n{achievements.head()}\")\n"
   ]
  },
  {
   "cell_type": "code",
   "execution_count": 5,
   "id": "9d7c6c9e",
   "metadata": {},
   "outputs": [
    {
     "name": "stdout",
     "output_type": "stream",
     "text": [
      "Contoh hasil genre dominan per user:\n",
      "            Steam ID                 Dominant_Genre  Dominant_Genre_Label\n",
      "0  76561197960269409                            RPG                    20\n",
      "1  76561197962437769           Simulation, Strategy                    22\n",
      "2  76561197977935089              Action, Adventure                     1\n",
      "3  76561197983588742                    Action, RPG                    12\n",
      "4  76561197985705149  Action, Adventure, Indie, RPG                     5\n"
     ]
    }
   ],
   "source": [
    "# Cari genre dari game dengan playtime tertinggi per Steam ID\n",
    "df_genre = df.sort_values(by=[\"Steam ID\", \"Playtime (hours)\"], ascending=[True, False])\n",
    "dominant_genre = df_genre.groupby(\"Steam ID\").first().reset_index()\n",
    "dominant_genre = dominant_genre[[\"Steam ID\", \"Genres\"]].rename(columns={\"Genres\": \"Dominant_Genre\"})\n",
    "\n",
    "# Konversi genre ke bentuk numerik\n",
    "dominant_genre[\"Dominant_Genre_Label\"] = dominant_genre[\"Dominant_Genre\"].astype(\"category\").cat.codes\n",
    "\n",
    "print(f\"Contoh hasil genre dominan per user:\\n{dominant_genre.head()}\")\n"
   ]
  },
  {
   "cell_type": "code",
   "execution_count": 8,
   "id": "3c1dc8bc",
   "metadata": {},
   "outputs": [
    {
     "name": "stdout",
     "output_type": "stream",
     "text": [
      "Contoh hasil topik dominan per user:\n",
      "            Steam ID                                     Dominant_Topic  \\\n",
      "0  76561197960269409  Story-driven mysteries or cinematic adventure ...   \n",
      "1  76561197962437769  Slow-paced narrative games or roguelike indie ...   \n",
      "2  76561197977935089  Mixed gameplay experience with confusing mecha...   \n",
      "3  76561197983588742  Disappointment with popular titles or sports g...   \n",
      "4  76561197985705149     Western-themed or poorly paced narrative games   \n",
      "\n",
      "   Dominant_Topic_Label  \n",
      "0                    18  \n",
      "1                    16  \n",
      "2                     9  \n",
      "3                     3  \n",
      "4                    23  \n"
     ]
    }
   ],
   "source": [
    "# Cari topik dari game dengan playtime tertinggi per Steam ID\n",
    "dominant_topic = df_genre.groupby(\"Steam ID\").first().reset_index()\n",
    "dominant_topic = dominant_topic[[\"Steam ID\", \"Dominant Topic\"]].rename(columns={\"Dominant Topic\": \"Dominant_Topic\"})\n",
    "\n",
    "# Konversi topik ke bentuk numerik\n",
    "dominant_topic[\"Dominant_Topic_Label\"] = dominant_topic[\"Dominant_Topic\"].astype(\"category\").cat.codes\n",
    "\n",
    "print(f\"Contoh hasil topik dominan per user:\\n{dominant_topic.head()}\")\n"
   ]
  },
  {
   "cell_type": "code",
   "execution_count": 9,
   "id": "df61c727",
   "metadata": {},
   "outputs": [
    {
     "name": "stdout",
     "output_type": "stream",
     "text": [
      "Transformasi selesai. Data disimpan ke segmentation_transformed.csv\n",
      "Contoh data akhir:\n",
      "            Steam ID  Game_Count  Total_Playtime  Normalized_Playtime  \\\n",
      "0  76561197960269409          10      259.483333             0.481772   \n",
      "1  76561197962437769           9       17.133333             0.015953   \n",
      "2  76561197977935089          10      268.566667             0.499231   \n",
      "3  76561197983588742          13      204.033333             0.375192   \n",
      "4  76561197985705149           8       31.316667             0.043215   \n",
      "\n",
      "   Total_Achievements                 Dominant_Genre  Dominant_Genre_Label  \\\n",
      "0                 135                            RPG                    20   \n",
      "1                  34           Simulation, Strategy                    22   \n",
      "2                  46              Action, Adventure                     1   \n",
      "3                 164                    Action, RPG                    12   \n",
      "4                  40  Action, Adventure, Indie, RPG                     5   \n",
      "\n",
      "                                      Dominant_Topic  Dominant_Topic_Label  \n",
      "0  Story-driven mysteries or cinematic adventure ...                    18  \n",
      "1  Slow-paced narrative games or roguelike indie ...                    16  \n",
      "2  Mixed gameplay experience with confusing mecha...                     9  \n",
      "3  Disappointment with popular titles or sports g...                     3  \n",
      "4     Western-themed or poorly paced narrative games                    23  \n"
     ]
    }
   ],
   "source": [
    "# Gabungkan semua fitur\n",
    "df_segment = game_count.merge(playtime, on=\"Steam ID\") \\\n",
    "                       .merge(achievements, on=\"Steam ID\") \\\n",
    "                       .merge(dominant_genre, on=\"Steam ID\") \\\n",
    "                       .merge(dominant_topic, on=\"Steam ID\")\n",
    "\n",
    "# Simpan ke CSV\n",
    "df_segment.to_csv(\"segmentation_transformed.csv\", index=False)\n",
    "\n",
    "print(\"Transformasi selesai. Data disimpan ke segmentation_transformed.csv\")\n",
    "print(f\"Contoh data akhir:\\n{df_segment.head()}\")\n"
   ]
  }
 ],
 "metadata": {
  "kernelspec": {
   "display_name": "Python 3",
   "language": "python",
   "name": "python3"
  },
  "language_info": {
   "codemirror_mode": {
    "name": "ipython",
    "version": 3
   },
   "file_extension": ".py",
   "mimetype": "text/x-python",
   "name": "python",
   "nbconvert_exporter": "python",
   "pygments_lexer": "ipython3",
   "version": "3.10.0"
  }
 },
 "nbformat": 4,
 "nbformat_minor": 5
}
