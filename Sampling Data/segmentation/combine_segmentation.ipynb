{
 "cells": [
  {
   "cell_type": "code",
   "execution_count": 1,
   "id": "7eee960f",
   "metadata": {},
   "outputs": [],
   "source": [
    "import pandas as pd\n",
    "from collections import Counter\n",
    "\n",
    "# 1. Load data\n",
    "df_players = pd.read_csv(\"sampled_segmentation.csv\")\n",
    "df_topics = pd.read_csv(\"game_top_topics_labeled.csv\")\n",
    "\n",
    "# 2. Normalisasi nama game untuk pencocokan yang lebih baik\n",
    "df_players['Game Name'] = df_players['Game Name'].str.lower().str.strip()\n",
    "df_topics['game'] = df_topics['game'].str.lower().str.strip()\n",
    "\n",
    "# 3. Gabungkan topik ke data pemain\n",
    "df_merged = df_players.merge(df_topics[['game', 'Top_Topic_Labels']],\n",
    "                              left_on='Game Name', right_on='game', how='left')\n",
    "\n",
    "# 4. Konversi string list menjadi list Python asli (jika masih berbentuk string)\n",
    "df_merged['Top_Topic_Labels'] = df_merged['Top_Topic_Labels'].apply(\n",
    "    lambda x: eval(x) if isinstance(x, str) and x.startswith(\"[\") else [])\n",
    "\n",
    "# 5. Hitung topik dominan untuk tiap Steam ID\n",
    "def get_dominant_topic(topics_list):\n",
    "    flat_list = [topic for topics in topics_list for topic in topics]\n",
    "    if flat_list:\n",
    "        return Counter(flat_list).most_common(1)[0][0]\n",
    "    return None\n",
    "\n",
    "dominant_topics = (\n",
    "    df_merged.groupby('Steam ID')['Top_Topic_Labels']\n",
    "    .agg(get_dominant_topic)\n",
    "    .reset_index()\n",
    "    .rename(columns={'Top_Topic_Labels': 'Dominant Topic'})\n",
    ")\n",
    "\n",
    "# 6. Gabungkan kembali ke dataframe awal\n",
    "df_final = df_players.merge(dominant_topics, on='Steam ID', how='left')\n",
    "\n",
    "# 7. Simpan hasil\n",
    "df_final.to_csv(\"segmentation_with_dominant_topic.csv\", index=False)\n"
   ]
  }
 ],
 "metadata": {
  "kernelspec": {
   "display_name": "Python 3",
   "language": "python",
   "name": "python3"
  },
  "language_info": {
   "codemirror_mode": {
    "name": "ipython",
    "version": 3
   },
   "file_extension": ".py",
   "mimetype": "text/x-python",
   "name": "python",
   "nbconvert_exporter": "python",
   "pygments_lexer": "ipython3",
   "version": "3.10.0"
  }
 },
 "nbformat": 4,
 "nbformat_minor": 5
}
